{
  "nbformat": 4,
  "nbformat_minor": 0,
  "metadata": {
    "colab": {
      "provenance": [],
      "include_colab_link": true
    },
    "kernelspec": {
      "name": "python3",
      "display_name": "Python 3"
    },
    "language_info": {
      "name": "python"
    }
  },
  "cells": [
    {
      "cell_type": "markdown",
      "metadata": {
        "id": "view-in-github",
        "colab_type": "text"
      },
      "source": [
        "<a href=\"https://colab.research.google.com/github/yuluj/marketing-in-banking/blob/main/A08_Marketing_Campaign_Efficacy_in_the_Banking_Industry.ipynb\" target=\"_parent\"><img src=\"https://colab.research.google.com/assets/colab-badge.svg\" alt=\"Open In Colab\"/></a>"
      ]
    },
    {
      "cell_type": "markdown",
      "source": [
        "#**Marketing Campaign Efficacy in the Banking Industry**"
      ],
      "metadata": {
        "id": "bBo3_qtRcEcF"
      }
    },
    {
      "cell_type": "markdown",
      "source": [
        "# **<a id=\"Content\" style=\"color:#023e8a;\">Table of Contents</a>**\n",
        "\n",
        "* [**<span style=\"color:#023e8a;\">1. Problem Definition</span>**](#Project)\n",
        "* [**<span style=\"color:#023e8a;\">2. Executive Summary</span>**](#EDA)\n",
        "* [**<span style=\"color:#023e8a;\">3. Dataset Summary</span>**](#Questions)\n",
        "* [**<span style=\"color:#023e8a;\">4. Data Cleaning and Transformation</span>**](#Conclusion)\n",
        "* [**<span style=\"color:#023e8a;\">5. Exploratory Data Analysis</span>**](#References)\n",
        "* [**<span style=\"color:#023e8a;\">6. Conclusion</span>**](#References)\n",
        "* [**<span style=\"color:#023e8a;\">7. Road Ahead</span>**](#References)"
      ],
      "metadata": {
        "id": "I_O1SSAYd8A3"
      }
    },
    {
      "cell_type": "markdown",
      "source": [
        "##1.1 Problem Definition\n",
        "\n",
        "- Our goal is to examine the most effective marketing strategies to enhance customer engagement in banks.\n",
        "- To figure out if a bank’s client has opted for a fixed deposit or not. \n",
        "- Further, we aim to examine which marketing strategy is optimal to maximize the customer acquisition rate. \n",
        "- Lastly, we plan to identify the target customer demographic (customer segment most likely to subscribe) for optimal marketing."
      ],
      "metadata": {
        "id": "aFqDVb0uBnvj"
      }
    },
    {
      "cell_type": "markdown",
      "source": [
        "##1.2 Interest & Motivation\n",
        "\n",
        "As a team, we have a keen interest in the field of marketing and hence we're highly motivated to concentrate our project in the same field. Marketing Analytics is extremely crucial to adopt by all organizations, irrespective of the industry, and caters directly to the organisation’s growth & expansion. Therefore, through our analysis, we want to explore the most effective marketing strategies. These techniques will allow organizations to optimize various business processes in any field going forward, hence leading to concrete & cognizant decisions."
      ],
      "metadata": {
        "id": "L4xSCj-tB-Z3"
      }
    },
    {
      "cell_type": "markdown",
      "source": [
        "#2. Executive Summary\n",
        "\n",
        "Call duration was the most important determinant of a marketing campaign’s success at a large Portuguese bank. Success was measured by if a potential customer subscribed to banking services. The optimal call duration of 10-20 minutes led to the highest success rate in the marketing campaign. Calls that were too short or too long proved ineffective. In addition to call duration; education background, job status, loan status, contact type, previous contacts, outcome of previous campaigns, and number of times contacted proved to be important factors in determining a marketing campaign success (see conclusion). Our final recommendations and insights from this analysis are as follows: when focusing on optimizing marketing campaigns, banking institutions should seek to keep call duration around 10-20 minutes and contact customers bi-weekly at most. Banking institutions should take into account previous campaign results and customer level demographics like age, education, loan status, while also monitoring contact type to target specific customer segments. This targeted effort can prove tremendously valuable when seeking to increase bank subscription rate. This can lead to lowered customer acquisition cost (CAC) and reduced expenses for future campaigns. Next steps include analyzing how these results are generalizable to banking institutions & branches across both Portugal and the global market. \n",
        "\n",
        "\n"
      ],
      "metadata": {
        "id": "gN1n_g2EUe1b"
      }
    },
    {
      "cell_type": "markdown",
      "source": [
        "#3. Dataset Summary\n",
        "\n",
        "**Data Source:** [Moro et al., 2014] S. Moro, P. Cortez and P. Rita. A Data-Driven Approach to Predict the Success of Bank Telemarketing. Decision Support Systems, Elsevier, 62:22-31, June 2014 \n",
        "<br>[Dataset URL](https://archive.ics.uci.edu/ml/datasets/Bank+Marketing)\n",
        "\n",
        "The dataset holds the details of a direct marketing campaign conducted by a Portuguese banking institution.\n",
        "\n",
        "\n",
        " \n"
      ],
      "metadata": {
        "id": "CuuAjUsnBYfw"
      }
    },
    {
      "cell_type": "markdown",
      "source": [
        "##3.1 Data Overview\n",
        "\n",
        "\n",
        "\n",
        "\n"
      ],
      "metadata": {
        "id": "dAIRljEhI3Dw"
      }
    },
    {
      "cell_type": "code",
      "source": [
        "import pandas as pd\n",
        "import numpy as np\n",
        "import matplotlib.pyplot as plt\n",
        "import seaborn as sns\n",
        "from sklearn.preprocessing import scale\n",
        "from sklearn.linear_model import LinearRegression\n",
        "from sklearn.model_selection import cross_validate\n",
        "from sklearn.metrics import mean_squared_error, r2_score\n",
        "from bokeh.plotting import figure\n",
        "from bokeh.io import output_notebook, output_file, show\n",
        "from bokeh.models import Div\n",
        "from bokeh.models import ColumnDataSource, FactorRange\n",
        "from bokeh.plotting import figure\n",
        "from bokeh.transform import factor_cmap\n",
        "from bokeh.palettes import Spectral6\n",
        "\n",
        "%matplotlib inline\n",
        "plt.style.use('seaborn-white')"
      ],
      "metadata": {
        "id": "YPOeePGy8lYK"
      },
      "execution_count": null,
      "outputs": []
    },
    {
      "cell_type": "code",
      "source": [
        "from google.colab import drive\n",
        "drive.mount('/content/drive', force_remount=True)\n",
        "banking = pd.read_excel('/content/drive/Shareddrives/BA780 Group Project Team A08 /Dataset/banking-additional.xlsx')"
      ],
      "metadata": {
        "colab": {
          "base_uri": "https://localhost:8080/"
        },
        "id": "Pmz0_m168olR",
        "outputId": "dea6ba20-c3f4-4611-b4da-b5c1d20c7499"
      },
      "execution_count": null,
      "outputs": [
        {
          "output_type": "stream",
          "name": "stdout",
          "text": [
            "Mounted at /content/drive\n"
          ]
        }
      ]
    },
    {
      "cell_type": "markdown",
      "source": [
        "The data has *41188 records and 21 columns*. Each record showcases the client profile, ways the customer was targetted, previous campaign information and the success rate of the current campaign (if a particular client subscribed to the bank term deposit or not).\n"
      ],
      "metadata": {
        "id": "jbA9-kb389Jx"
      }
    },
    {
      "cell_type": "markdown",
      "source": [
        "##3.2 Column Exploration\n",
        "\n",
        "**Information of the Customers Tageted**\n",
        "\n",
        "column names | description | dtype | comment |\n",
        "-------------|-------------|-------|---------|\n",
        "0. age | age of the customer | int | **numeric**\n",
        "1. job | type of job| object |**categorical**: 'admin.', 'blue-collar', 'entrepreneur','housemaid', 'management', 'retired',<br> 'self-employed', 'services', 'student', 'technician', 'unemployed', 'unknown' \n",
        "2. marital | marital status | object | **categorical**: 'divorced', 'married', 'single', 'unknown';<br> **note**: 'divorced' means divorced or widowed\n",
        "3. education | education background | object | **categorical**: 'basic.4y', 'basic.6y', 'basic.9y', 'high.school', 'illiterate', 'professional.course', <br> 'university.degree', 'unknown'\n",
        "4. default | has credit in default? | object | **categorical**: 'no', 'yes', 'unknown'\n",
        "5. housing | has housing loan? | object | **categorical**: 'no', 'yes', 'unknown'\n",
        "6. loan | has personal loan? | object | **categorical**: 'no', 'yes', 'unknown'\n",
        "<br>\n",
        "\n",
        "**Details on the latest Contact made with the Client**\n",
        "\n",
        "column names | description | dtype | comment |\n",
        "-------------|-------------|-------|---------|\n",
        "7. contact | contact communication type | object | **categorical**: 'cellular','telephone'\n",
        "8. month | last contact month of year | object | **categorical**: 'jan', 'feb', 'mar', ..., 'nov', 'dec'\n",
        "9. day_of_week | last contact day of the week | object | **categorical**: 'mon','tue','wed','thu','fri'\n",
        "10. duration | last contact duration (in seconds) | int | **numeric**, **Important note** this attribute highly affects the output target (e.g., if duration=0 then y='no'). <br> Yet, the duration is not known before a call is performed. Also, after the end of the call y is obviously known. <br> Thus, this input should only be included for benchmark purposes and should be discarded if the intention is <br>to have a realistic predictive model.\n",
        "\n",
        "<br>\n",
        "\n",
        "**Previous Campaign Attributes**\n",
        "\n",
        "column names | description | dtype | comment |\n",
        "-------------|-------------|-------|---------|\n",
        "11. campaign | number of contacts performed during this campaign and for this client | int | **numeric**: includes last contact\n",
        "12. pdays | number of days that passed by after the client was last contacted from a previous campaign | int | **numeric**; 999 means client was not previously contacted\n",
        "13. previous | number of contacts performed before this campaign and for this client | int | **numeric**\n",
        "14. poutcome | outcome of the previous marketing campaign | object | **categorical**: 'failure','nonexistent','success'\n",
        "\n",
        "<br>\n",
        "\n",
        "**Social and Economic Attributes**\n",
        "\n",
        "column names | description | dtype | comment |\n",
        "-------------|-------------|-------|---------|\n",
        "15. emp.var.rate | employment variation rate | float | **numeric** quarterly indicator \n",
        "16. cons.price.idx | consumer price index | float | **numeric** monthly indicator\n",
        "17. cons.conf.idx | consumer confidence index | float | **numeric** monthly indicator \n",
        "18. euribor3m | euribor 3 month rate | float | **numeric** daily indicator\n",
        "19. nr.employed | number of employees | float | **numeric** quarterly indicator\n",
        "\n",
        "<br>\n",
        "\n",
        "**Response Variable**\n",
        "\n",
        "column names | description | dtype | comment |\n",
        "-------------|-------------|-------|---------|\n",
        "20. y | whether a customer subscribed to a certain product or not | object | **categorical** yes(1), no(0)"
      ],
      "metadata": {
        "id": "TkKvTA5CmuN3"
      }
    },
    {
      "cell_type": "markdown",
      "source": [
        "#4. Data Cleaning and Transformation"
      ],
      "metadata": {
        "id": "QeLbzuq1gk2z"
      }
    },
    {
      "cell_type": "markdown",
      "source": [
        "###4.1 Data Quality Check\n",
        "\n",
        "###4.1.1 Removing Irrelevant Columns\n",
        "\n",
        "Through data overview and granular analysis, we saw that certain columns ('pdays', 'emp.var.rate', 'cons.price.idx', 'cons.conf.idx', 'euribor3m' and 'nr.employed') have irrelevant values and won't add relevant insights or value to the analysis. As a result, we are dropping these columns for better analysis and results.\n"
      ],
      "metadata": {
        "id": "s5HTiHlu-SHk"
      }
    },
    {
      "cell_type": "code",
      "source": [
        "banking = banking.drop(banking[['pdays', 'emp.var.rate', 'cons.price.idx', 'cons.conf.idx', 'euribor3m', 'nr.employed']], axis = 1)"
      ],
      "metadata": {
        "id": "CjBN6QgRe3Mc"
      },
      "execution_count": null,
      "outputs": []
    },
    {
      "cell_type": "markdown",
      "source": [
        "###4.1.2 Analyzing Null Values"
      ],
      "metadata": {
        "id": "9yZpEngGdlDk"
      }
    },
    {
      "cell_type": "code",
      "source": [
        "print(banking.isnull().sum())"
      ],
      "metadata": {
        "id": "1BkVJuSucj2m",
        "colab": {
          "base_uri": "https://localhost:8080/"
        },
        "outputId": "b1ca1bf3-e38a-4659-f568-683c1a34fe4c"
      },
      "execution_count": null,
      "outputs": [
        {
          "output_type": "stream",
          "name": "stdout",
          "text": [
            "age            0\n",
            "job            0\n",
            "marital        0\n",
            "education      0\n",
            "default        0\n",
            "housing        0\n",
            "loan           0\n",
            "contact        0\n",
            "month          0\n",
            "day_of_week    0\n",
            "duration       0\n",
            "campaign       0\n",
            "previous       0\n",
            "poutcome       0\n",
            "y              0\n",
            "dtype: int64\n"
          ]
        }
      ]
    },
    {
      "cell_type": "markdown",
      "source": [
        "There are no null or missing values in the data, therefore our dataset is relatively clean for further exploration. However, on a closer look, we see that certain columns have 'unknown' values which might have some other significance & meaning. \\\n",
        "In the next step, we will look deeper into it."
      ],
      "metadata": {
        "id": "ob-glp1kd2i2"
      }
    },
    {
      "cell_type": "markdown",
      "source": [
        "###4.1.3 Analyzing 'Unknown' Values "
      ],
      "metadata": {
        "id": "-6lqiMgXmNHn"
      }
    },
    {
      "cell_type": "code",
      "source": [
        "print(\"JOB: \" ,banking['job'].unique())\n",
        "print(\"The percentage of unknown values in job attribute is\",round(((banking['job'].value_counts()['unknown']/banking['job'].count())*100),3),\"% \\n\")\n",
        "\n",
        "print(\"MARITAL: \" ,banking['marital'].unique()) \n",
        "print(\"The percentage of unknown values in marital attribute is\",round(((banking['marital'].value_counts()['unknown']/banking['marital'].count())*100),3),\"% \\n\")\n",
        "\n",
        "print(\"EDUCATION: \" ,banking['education'].unique()) \n",
        "print(\"The percentage of unknown values in education attribute is\",round(((banking['education'].value_counts()['unknown']/banking['education'].count())*100),3),\"% \\n\")\n",
        "\n",
        "print(\"DEFAULT: \" ,banking['default'].unique()) \n",
        "print(\"The percentage of unknown values in default attribute is\",round(((banking['default'].value_counts()['unknown']/banking['default'].count())*100),3),\"% \\n\")\n",
        "\n",
        "print(\"HOUSING: \" ,banking['housing'].unique()) \n",
        "print(\"The percentage of unknown values in housing attribute is\",round(((banking['housing'].value_counts()['unknown']/banking['housing'].count())*100),3),\"% \\n\")\n",
        "\n",
        "print(\"LOAN: \" ,banking['loan'].unique()) \n",
        "print(\"The percentage of unknown values in loan attribute is\",round(((banking['loan'].value_counts()['unknown']/banking['loan'].count())*100),3),\"% \\n\")\n"
      ],
      "metadata": {
        "colab": {
          "base_uri": "https://localhost:8080/"
        },
        "id": "B2lmuydomTNs",
        "outputId": "0d001786-f6f9-433d-ee1d-49ef733d0efb"
      },
      "execution_count": null,
      "outputs": [
        {
          "output_type": "stream",
          "name": "stdout",
          "text": [
            "JOB:  ['housemaid' 'services' 'admin.' 'blue-collar' 'technician' 'retired'\n",
            " 'management' 'unemployed' 'self-employed' 'unknown' 'entrepreneur'\n",
            " 'student']\n",
            "The percentage of unknown values in job attribute is 0.801 % \n",
            "\n",
            "MARITAL:  ['married' 'single' 'divorced' 'unknown']\n",
            "The percentage of unknown values in marital attribute is 0.194 % \n",
            "\n",
            "EDUCATION:  ['basic.4y' 'high.school' 'basic.6y' 'basic.9y' 'professional.course'\n",
            " 'unknown' 'university.degree' 'illiterate']\n",
            "The percentage of unknown values in education attribute is 4.203 % \n",
            "\n",
            "DEFAULT:  ['no' 'unknown' 'yes']\n",
            "The percentage of unknown values in default attribute is 20.873 % \n",
            "\n",
            "HOUSING:  ['no' 'yes' 'unknown']\n",
            "The percentage of unknown values in housing attribute is 2.404 % \n",
            "\n",
            "LOAN:  ['no' 'yes' 'unknown']\n",
            "The percentage of unknown values in loan attribute is 2.404 % \n",
            "\n"
          ]
        }
      ]
    },
    {
      "cell_type": "markdown",
      "source": [
        "We can clearly see that these columns ('job', 'marital','education', 'default', 'housing', and 'loan'), have 'unknown' values. \n",
        "\n",
        "However, we do not intend to convert these 'unknown' values to null, drop them or replace them with another metric (mean, mode or median). The reasons being:\n",
        "- The 'unknown' values do not add to become a significant number in any variable.\n",
        "- Dropping 'unknown' values would mean removing the entire records, which would hamper the results of the analysis and lower the number of rows."
      ],
      "metadata": {
        "id": "XLvPFz5Qm38p"
      }
    },
    {
      "cell_type": "markdown",
      "source": [
        "##4.2 Preprocessing\n",
        "\n",
        "Having a closer lens on the data, certain columns need to be amended or modified to make the records concise and easier to analyze. For instance, we will categorize the 'age' variable into different age groups ('18-25', '26-35', '36-45', '46-55', '56-65', '66-75', '76-85' and '86-100') for better interpretation. \n",
        "\n",
        "####4.2.1 Amending Columns\n",
        "\n",
        "####4.2.1.1 Age\n",
        "\n",
        "As mentioned above, for the sake of easier analysis and visualisation, we are categorizing the 'age' variable into different groups ('18-25', '26-35', '36-45', '46-55', '56-65', '66-75', '76-85' and '86-100') to drill-down on  important features of different age groups. \n",
        "\n",
        "As such, we have changed the data type of 'age' from int to string."
      ],
      "metadata": {
        "id": "2hhyA3H-8Pd-"
      }
    },
    {
      "cell_type": "code",
      "source": [
        "for num in banking['age'].index:\n",
        "  if banking['age'][num]>=17 and banking['age'][num]<=25:\n",
        "    banking['age'][num] = '16 - 25'\n",
        "  elif banking['age'][num]>=26 and banking['age'][num]<=35:\n",
        "    banking['age'][num] = '26 - 35'\n",
        "  elif banking['age'][num]>=36 and banking['age'][num]<=45:\n",
        "    banking['age'][num] = '36 - 45'\n",
        "  elif banking['age'][num]>=46 and banking['age'][num]<=55:\n",
        "    banking['age'][num] = '46 - 55'\n",
        "  elif banking['age'][num]>=56 and banking['age'][num]<=65:\n",
        "    banking['age'][num] = '56 - 65'\n",
        "  elif banking['age'][num]>=66 and banking['age'][num]<=75:\n",
        "    banking['age'][num] = '66 - 75'\n",
        "  elif banking['age'][num]>=76 and banking['age'][num]<=85:\n",
        "    banking['age'][num] = '76 - 85'\n",
        "  else: \n",
        "    banking['age'][num] = '86 - 100'\n",
        "\n",
        "# Converting the data type of age to string\n",
        "banking['age'] = banking['age'].astype('str')\n",
        "print(banking['age'].unique())"
      ],
      "metadata": {
        "colab": {
          "base_uri": "https://localhost:8080/"
        },
        "id": "Olo-angXV149",
        "outputId": "a1a4b49a-b395-487a-c786-2864ebb290e7"
      },
      "execution_count": null,
      "outputs": [
        {
          "output_type": "stream",
          "name": "stderr",
          "text": [
            "<ipython-input-121-d5d9c5205061>:11: SettingWithCopyWarning: \n",
            "A value is trying to be set on a copy of a slice from a DataFrame\n",
            "\n",
            "See the caveats in the documentation: https://pandas.pydata.org/pandas-docs/stable/user_guide/indexing.html#returning-a-view-versus-a-copy\n",
            "  banking['age'][num] = '56 - 65'\n",
            "/usr/local/lib/python3.8/dist-packages/pandas/core/indexing.py:1732: SettingWithCopyWarning: \n",
            "A value is trying to be set on a copy of a slice from a DataFrame\n",
            "\n",
            "See the caveats in the documentation: https://pandas.pydata.org/pandas-docs/stable/user_guide/indexing.html#returning-a-view-versus-a-copy\n",
            "  self._setitem_single_block(indexer, value, name)\n"
          ]
        },
        {
          "output_type": "stream",
          "name": "stdout",
          "text": [
            "['56 - 65' '36 - 45' '16 - 25' '26 - 35' '46 - 55' '66 - 75' '76 - 85'\n",
            " '86 - 100']\n"
          ]
        }
      ]
    },
    {
      "cell_type": "markdown",
      "source": [
        "####4.2.1.2 Education\n",
        "\n",
        "The 'education' attribute includes the different education levels of clients targetted in the marketing campaign. To make the records more intuitive and reduce the number of education categories, we have converted the 3 categories ('basic.4y', 'basic.6y' and 'basic.9y') into 'Pre-High School' category.\n"
      ],
      "metadata": {
        "id": "l65HFfihWYis"
      }
    },
    {
      "cell_type": "code",
      "source": [
        "mapping = {'basic.4y': 'pre.high.school', 'basic.6y': 'pre.high.school', 'basic.9y': 'pre.high.school'}\n",
        "banking['education'] = banking['education'].replace(mapping)\n",
        "banking['education'].unique()"
      ],
      "metadata": {
        "colab": {
          "base_uri": "https://localhost:8080/"
        },
        "id": "jhukJDnc0Thk",
        "outputId": "789d8bbd-2bca-42ed-beff-7b71b4261c24"
      },
      "execution_count": null,
      "outputs": [
        {
          "output_type": "execute_result",
          "data": {
            "text/plain": [
              "array(['pre.high.school', 'high.school', 'professional.course', 'unknown',\n",
              "       'university.degree', 'illiterate'], dtype=object)"
            ]
          },
          "metadata": {},
          "execution_count": 122
        }
      ]
    },
    {
      "cell_type": "markdown",
      "source": [
        "####4.2.1.3 Duration\n",
        "\n",
        "The 'duration' variable is the duration of the last call made with a client. We have converted the 'duration' variable from seconds to minutes and categorized into different minute buckets to understand how 'duration' factor affects the subscription rate.  \n"
      ],
      "metadata": {
        "id": "4rYtD3RaFHzL"
      }
    },
    {
      "cell_type": "code",
      "source": [
        "for num in banking['duration'].index:\n",
        "  if banking['duration'][num]>=0 and banking['duration'][num]<=599:\n",
        "    banking['duration'][num] = '0 - 10'\n",
        "\n",
        "  elif banking['duration'][num]>=600 and banking['duration'][num]<=1199:\n",
        "    banking['duration'][num] = '10 - 20'\n",
        "\n",
        "  elif banking['duration'][num]>=1200 and banking['duration'][num]<=1799:\n",
        "    banking['duration'][num] = '20 - 30'\n",
        "\n",
        "  elif banking['duration'][num]>=1800:\n",
        "    banking['duration'][num] = '30+'\n",
        "\n",
        "# Converting the data type of age to string\n",
        "banking['duration'] = banking['duration'].astype('str')\n",
        "banking['duration'].unique()"
      ],
      "metadata": {
        "colab": {
          "base_uri": "https://localhost:8080/"
        },
        "id": "SxNlUN72sdAH",
        "outputId": "08b0c41b-e91e-4d69-f63a-ab9441bfc664"
      },
      "execution_count": null,
      "outputs": [
        {
          "output_type": "stream",
          "name": "stderr",
          "text": [
            "<ipython-input-123-3d955d923e95>:3: SettingWithCopyWarning: \n",
            "A value is trying to be set on a copy of a slice from a DataFrame\n",
            "\n",
            "See the caveats in the documentation: https://pandas.pydata.org/pandas-docs/stable/user_guide/indexing.html#returning-a-view-versus-a-copy\n",
            "  banking['duration'][num] = '0 - 10'\n"
          ]
        },
        {
          "output_type": "execute_result",
          "data": {
            "text/plain": [
              "array(['0 - 10', '20 - 30', '10 - 20', '30+'], dtype=object)"
            ]
          },
          "metadata": {},
          "execution_count": 123
        }
      ]
    },
    {
      "cell_type": "markdown",
      "source": [
        "####4.2.1.4 Campaign\n",
        "\n",
        "The 'campaign' variable represents the number of times a particular client was contacted. \n",
        "\n",
        "We are converting the number of times a particular client was contacted into categories ('0-5', '5-10', 10-15', '15-20', '20-25', '25-30' and '30+') to understand how the count of contacting customers impacts the subscription rate in exploratory analysis.    \n"
      ],
      "metadata": {
        "id": "BSujfYWCldPr"
      }
    },
    {
      "cell_type": "code",
      "source": [
        "for num in banking['campaign'].index:\n",
        "  if banking['campaign'][num]>=0 and banking['campaign'][num]<5:\n",
        "    banking['campaign'][num] = '0 - 5'\n",
        "  elif banking['campaign'][num]>=5 and banking['campaign'][num]<10:\n",
        "    banking['campaign'][num] = '5 - 10'\n",
        "  elif banking['campaign'][num]>=10 and banking['campaign'][num]<15:\n",
        "    banking['campaign'][num] = '10 - 15'\n",
        "  elif banking['campaign'][num]>=15 and banking['campaign'][num]<20:\n",
        "    banking['campaign'][num] = '15 - 20'\n",
        "  elif banking['campaign'][num]>=20 and banking['campaign'][num]<25:\n",
        "    banking['campaign'][num] = '20 - 25'\n",
        "  elif banking['campaign'][num]>=25 and banking['campaign'][num]<=30:\n",
        "    banking['campaign'][num] = '25 - 30'\n",
        "  else: \n",
        "    banking['campaign'][num] = '30+'\n",
        "\n",
        "# Converting the data type of age to string\n",
        "banking['campaign'] = banking['campaign'].astype('str')\n",
        "banking['campaign'].unique()"
      ],
      "metadata": {
        "colab": {
          "base_uri": "https://localhost:8080/"
        },
        "id": "nnvKY8Eqld7A",
        "outputId": "fd5ee71c-61bc-4b63-8c67-900a9aae3733"
      },
      "execution_count": null,
      "outputs": [
        {
          "output_type": "stream",
          "name": "stderr",
          "text": [
            "<ipython-input-124-cbdafedfb535>:3: SettingWithCopyWarning: \n",
            "A value is trying to be set on a copy of a slice from a DataFrame\n",
            "\n",
            "See the caveats in the documentation: https://pandas.pydata.org/pandas-docs/stable/user_guide/indexing.html#returning-a-view-versus-a-copy\n",
            "  banking['campaign'][num] = '0 - 5'\n"
          ]
        },
        {
          "output_type": "execute_result",
          "data": {
            "text/plain": [
              "array(['0 - 5', '5 - 10', '10 - 15', '15 - 20', '20 - 25', '25 - 30',\n",
              "       '30+'], dtype=object)"
            ]
          },
          "metadata": {},
          "execution_count": 124
        }
      ]
    },
    {
      "cell_type": "markdown",
      "source": [
        "####4.2.1.5 Default\n",
        "\n",
        "The 'default' variable means whether the client contacted has credt in default or not. We are changing the 'default' variable's name to 'Credit_in_Default' to make the column easily understandable. \n",
        "\n"
      ],
      "metadata": {
        "id": "XXjaARsaPJGz"
      }
    },
    {
      "cell_type": "code",
      "source": [
        "banking = banking.rename({'default': 'credit_in_default'}, axis=1)"
      ],
      "metadata": {
        "id": "aA0bmX0oPIZP"
      },
      "execution_count": null,
      "outputs": []
    },
    {
      "cell_type": "markdown",
      "source": [
        "####4.2.1.6 Y (Response Variable)\n",
        "\n",
        "The response variable 'y' means whether the client contacted has subscribed to the bank services or not. We are changing the response variable's name from 'y' to 'Subscribed (Yes/No)' to make the data easily interpretable. \n"
      ],
      "metadata": {
        "id": "PVcFA3woFRBq"
      }
    },
    {
      "cell_type": "code",
      "source": [
        "banking = banking.rename({'y': 'Subscribed (Yes/No)'}, axis=1)\n",
        "subscription_rate = sns.catplot(x='Subscribed (Yes/No)', kind= 'count', data=banking,\n",
        "                                palette=sns.color_palette(['Tomato', 'LightGreen']))\n",
        "subscription_rate.fig.suptitle(\"Client Subscribed (Yes/No)\" ,\n",
        "               fontsize = 'x-large');"
      ],
      "metadata": {
        "id": "6ImXDRlMHNlz",
        "colab": {
          "base_uri": "https://localhost:8080/"
        },
        "outputId": "d58ada59-0b4a-4547-ecfa-19ec8bd7485d"
      },
      "execution_count": null,
      "outputs": [
        {
          "output_type": "display_data",
          "data": {
            "text/plain": [
              "<Figure size 360x360 with 1 Axes>"
            ],
            "image/png": "[encoded data removed]"
          },
          "metadata": {}
        }
      ]
    },
    {
      "cell_type": "markdown",
      "source": [
        "We can clearly see that people who said 'yes' (or subscribed to bank services) are *approximately 10%* of the total respondents, indicating data imbalance. We will keep this mind when performing exploratory and granular analysis. \n"
      ],
      "metadata": {
        "id": "KBCqSK5PBPAV"
      }
    },
    {
      "cell_type": "markdown",
      "source": [
        "We have cleaned and transformed the data and the resulting dataset is shown below.\n",
        "\n"
      ],
      "metadata": {
        "id": "JquVTwixFQ6E"
      }
    },
    {
      "cell_type": "code",
      "source": [
        "banking.head()"
      ],
      "metadata": {
        "colab": {
          "base_uri": "https://localhost:8080/"
        },
        "id": "Ho7qktLxOG-h",
        "outputId": "56d0675e-ce14-449c-ae33-b6073f76f686"
      },
      "execution_count": null,
      "outputs": [
        {
          "output_type": "execute_result",
          "data": {
            "text/plain": [
              "       age        job  marital        education credit_in_default housing  \\\n",
              "0  56 - 65  housemaid  married  pre.high.school                no      no   \n",
              "1  56 - 65   services  married      high.school           unknown      no   \n",
              "2  36 - 45   services  married      high.school                no     yes   \n",
              "3  36 - 45     admin.  married  pre.high.school                no      no   \n",
              "4  56 - 65   services  married      high.school                no      no   \n",
              "\n",
              "  loan    contact month day_of_week duration campaign  previous     poutcome  \\\n",
              "0   no  telephone   may         mon   0 - 10    0 - 5         0  nonexistent   \n",
              "1   no  telephone   may         mon   0 - 10    0 - 5         0  nonexistent   \n",
              "2   no  telephone   may         mon   0 - 10    0 - 5         0  nonexistent   \n",
              "3   no  telephone   may         mon   0 - 10    0 - 5         0  nonexistent   \n",
              "4  yes  telephone   may         mon   0 - 10    0 - 5         0  nonexistent   \n",
              "\n",
              "  Subscribed (Yes/No)  \n",
              "0                  no  \n",
              "1                  no  \n",
              "2                  no  \n",
              "3                  no  \n",
              "4                  no  "
            ],
            "text/html": [
              "\n",
              "  <div id=\"df-60daf1cf-bb4e-4fbd-972e-f9126a8e5d37\">\n",
              "    <div class=\"colab-df-container\">\n",
              "      <div>\n",
              "<style scoped>\n",
              "    .dataframe tbody tr th:only-of-type {\n",
              "        vertical-align: middle;\n",
              "    }\n",
              "\n",
              "    .dataframe tbody tr th {\n",
              "        vertical-align: top;\n",
              "    }\n",
              "\n",
              "    .dataframe thead th {\n",
              "        text-align: right;\n",
              "    }\n",
              "</style>\n",
              "<table border=\"1\" class=\"dataframe\">\n",
              "  <thead>\n",
              "    <tr style=\"text-align: right;\">\n",
              "      <th></th>\n",
              "      <th>age</th>\n",
              "      <th>job</th>\n",
              "      <th>marital</th>\n",
              "      <th>education</th>\n",
              "      <th>credit_in_default</th>\n",
              "      <th>housing</th>\n",
              "      <th>loan</th>\n",
              "      <th>contact</th>\n",
              "      <th>month</th>\n",
              "      <th>day_of_week</th>\n",
              "      <th>duration</th>\n",
              "      <th>campaign</th>\n",
              "      <th>previous</th>\n",
              "      <th>poutcome</th>\n",
              "      <th>Subscribed (Yes/No)</th>\n",
              "    </tr>\n",
              "  </thead>\n",
              "  <tbody>\n",
              "    <tr>\n",
              "      <th>0</th>\n",
              "      <td>56 - 65</td>\n",
              "      <td>housemaid</td>\n",
              "      <td>married</td>\n",
              "      <td>pre.high.school</td>\n",
              "      <td>no</td>\n",
              "      <td>no</td>\n",
              "      <td>no</td>\n",
              "      <td>telephone</td>\n",
              "      <td>may</td>\n",
              "      <td>mon</td>\n",
              "      <td>0 - 10</td>\n",
              "      <td>0 - 5</td>\n",
              "      <td>0</td>\n",
              "      <td>nonexistent</td>\n",
              "      <td>no</td>\n",
              "    </tr>\n",
              "    <tr>\n",
              "      <th>1</th>\n",
              "      <td>56 - 65</td>\n",
              "      <td>services</td>\n",
              "      <td>married</td>\n",
              "      <td>high.school</td>\n",
              "      <td>unknown</td>\n",
              "      <td>no</td>\n",
              "      <td>no</td>\n",
              "      <td>telephone</td>\n",
              "      <td>may</td>\n",
              "      <td>mon</td>\n",
              "      <td>0 - 10</td>\n",
              "      <td>0 - 5</td>\n",
              "      <td>0</td>\n",
              "      <td>nonexistent</td>\n",
              "      <td>no</td>\n",
              "    </tr>\n",
              "    <tr>\n",
              "      <th>2</th>\n",
              "      <td>36 - 45</td>\n",
              "      <td>services</td>\n",
              "      <td>married</td>\n",
              "      <td>high.school</td>\n",
              "      <td>no</td>\n",
              "      <td>yes</td>\n",
              "      <td>no</td>\n",
              "      <td>telephone</td>\n",
              "      <td>may</td>\n",
              "      <td>mon</td>\n",
              "      <td>0 - 10</td>\n",
              "      <td>0 - 5</td>\n",
              "      <td>0</td>\n",
              "      <td>nonexistent</td>\n",
              "      <td>no</td>\n",
              "    </tr>\n",
              "    <tr>\n",
              "      <th>3</th>\n",
              "      <td>36 - 45</td>\n",
              "      <td>admin.</td>\n",
              "      <td>married</td>\n",
              "      <td>pre.high.school</td>\n",
              "      <td>no</td>\n",
              "      <td>no</td>\n",
              "      <td>no</td>\n",
              "      <td>telephone</td>\n",
              "      <td>may</td>\n",
              "      <td>mon</td>\n",
              "      <td>0 - 10</td>\n",
              "      <td>0 - 5</td>\n",
              "      <td>0</td>\n",
              "      <td>nonexistent</td>\n",
              "      <td>no</td>\n",
              "    </tr>\n",
              "    <tr>\n",
              "      <th>4</th>\n",
              "      <td>56 - 65</td>\n",
              "      <td>services</td>\n",
              "      <td>married</td>\n",
              "      <td>high.school</td>\n",
              "      <td>no</td>\n",
              "      <td>no</td>\n",
              "      <td>yes</td>\n",
              "      <td>telephone</td>\n",
              "      <td>may</td>\n",
              "      <td>mon</td>\n",
              "      <td>0 - 10</td>\n",
              "      <td>0 - 5</td>\n",
              "      <td>0</td>\n",
              "      <td>nonexistent</td>\n",
              "      <td>no</td>\n",
              "    </tr>\n",
              "  </tbody>\n",
              "</table>\n",
              "</div>\n",
              "      <button class=\"colab-df-convert\" onclick=\"convertToInteractive('df-60daf1cf-bb4e-4fbd-972e-f9126a8e5d37')\"\n",
              "              title=\"Convert this dataframe to an interactive table.\"\n",
              "              style=\"display:none;\">\n",
              "        \n",
              "  <svg xmlns=\"http://www.w3.org/2000/svg\" height=\"24px\"viewBox=\"0 0 24 24\"\n",
              "       width=\"24px\">\n",
              "    <path d=\"M0 0h24v24H0V0z\" fill=\"none\"/>\n",
              "    <path d=\"M18.56 5.44l.94 2.06.94-2.06 2.06-.94-2.06-.94-.94-2.06-.94 2.06-2.06.94zm-11 1L8.5 8.5l.94-2.06 2.06-.94-2.06-.94L8.5 2.5l-.94 2.06-2.06.94zm10 10l.94 2.06.94-2.06 2.06-.94-2.06-.94-.94-2.06-.94 2.06-2.06.94z\"/><path d=\"M17.41 7.96l-1.37-1.37c-.4-.4-.92-.59-1.43-.59-.52 0-1.04.2-1.43.59L10.3 9.45l-7.72 7.72c-.78.78-.78 2.05 0 2.83L4 21.41c.39.39.9.59 1.41.59.51 0 1.02-.2 1.41-.59l7.78-7.78 2.81-2.81c.8-.78.8-2.07 0-2.86zM5.41 20L4 18.59l7.72-7.72 1.47 1.35L5.41 20z\"/>\n",
              "  </svg>\n",
              "      </button>\n",
              "      \n",
              "  <style>\n",
              "    .colab-df-container {\n",
              "      display:flex;\n",
              "      flex-wrap:wrap;\n",
              "      gap: 12px;\n",
              "    }\n",
              "\n",
              "    .colab-df-convert {\n",
              "      background-color: #E8F0FE;\n",
              "      border: none;\n",
              "      border-radius: 50%;\n",
              "      cursor: pointer;\n",
              "      display: none;\n",
              "      fill: #1967D2;\n",
              "      height: 32px;\n",
              "      padding: 0 0 0 0;\n",
              "      width: 32px;\n",
              "    }\n",
              "\n",
              "    .colab-df-convert:hover {\n",
              "      background-color: #E2EBFA;\n",
              "      box-shadow: 0px 1px 2px rgba(60, 64, 67, 0.3), 0px 1px 3px 1px rgba(60, 64, 67, 0.15);\n",
              "      fill: #174EA6;\n",
              "    }\n",
              "\n",
              "    [theme=dark] .colab-df-convert {\n",
              "      background-color: #3B4455;\n",
              "      fill: #D2E3FC;\n",
              "    }\n",
              "\n",
              "    [theme=dark] .colab-df-convert:hover {\n",
              "      background-color: #434B5C;\n",
              "      box-shadow: 0px 1px 3px 1px rgba(0, 0, 0, 0.15);\n",
              "      filter: drop-shadow(0px 1px 2px rgba(0, 0, 0, 0.3));\n",
              "      fill: #FFFFFF;\n",
              "    }\n",
              "  </style>\n",
              "\n",
              "      <script>\n",
              "        const buttonEl =\n",
              "          document.querySelector('#df-60daf1cf-bb4e-4fbd-972e-f9126a8e5d37 button.colab-df-convert');\n",
              "        buttonEl.style.display =\n",
              "          google.colab.kernel.accessAllowed ? 'block' : 'none';\n",
              "\n",
              "        async function convertToInteractive(key) {\n",
              "          const element = document.querySelector('#df-60daf1cf-bb4e-4fbd-972e-f9126a8e5d37');\n",
              "          const dataTable =\n",
              "            await google.colab.kernel.invokeFunction('convertToInteractive',\n",
              "                                                     [key], {});\n",
              "          if (!dataTable) return;\n",
              "\n",
              "          const docLinkHtml = 'Like what you see? Visit the ' +\n",
              "            '<a target=\"_blank\" href=https://colab.research.google.com/notebooks/data_table.ipynb>data table notebook</a>'\n",
              "            + ' to learn more about interactive tables.';\n",
              "          element.innerHTML = '';\n",
              "          dataTable['output_type'] = 'display_data';\n",
              "          await google.colab.output.renderOutput(dataTable, element);\n",
              "          const docLink = document.createElement('div');\n",
              "          docLink.innerHTML = docLinkHtml;\n",
              "          element.appendChild(docLink);\n",
              "        }\n",
              "      </script>\n",
              "    </div>\n",
              "  </div>\n",
              "  "
            ]
          },
          "metadata": {},
          "execution_count": 127
        }
      ]
    },
    {
      "cell_type": "markdown",
      "source": [
        "## 4.3 Feature Importance"
      ],
      "metadata": {
        "id": "ou0BwbcctWPZ"
      }
    },
    {
      "cell_type": "markdown",
      "source": [
        "To get some preliminary feature importances we will use the Random Forest classifier, a wellknown decision-tree based model.  We've used one-hot encoding to encode the categorical features and dropped the target variable 'y'. I've also manually tested a few hyperparameters to get a better model."
      ],
      "metadata": {
        "id": "jJ3B-ybbtWPb"
      }
    },
    {
      "cell_type": "code",
      "source": [
        "from sklearn.ensemble import RandomForestClassifier\n",
        "params = {'random_state': 0, 'n_jobs': 4, 'n_estimators': 5000, 'max_depth': 8}\n",
        "# One-hot encode\n",
        "banking_dummies = pd.get_dummies(banking)\n",
        "# Drop redundant columns (for features with two unique values)\n",
        "x, y = banking_dummies.drop(['Subscribed (Yes/No)_yes', 'Subscribed (Yes/No)_no'], axis=1), banking['Subscribed (Yes/No)']\n",
        "# Fit RandomForest Classifier\n",
        "clf = RandomForestClassifier(**params)\n",
        "clf = clf.fit(x, y)\n",
        "# Plot features importances\n",
        "imp = pd.Series(data=clf.feature_importances_, index=x.columns).sort_values(ascending=False)\n",
        "plt.figure(figsize=(10,12))\n",
        "plt.title(\"Feature importance\")\n",
        "ax = sns.barplot(y=imp.index, x=imp.values, palette=\"Blues_d\", orient='h')"
      ],
      "metadata": {
        "colab": {
          "base_uri": "https://localhost:8080/",
          "height": 712
        },
        "outputId": "0b6d8761-1fd1-4fe0-8499-d4b3413a2dc0",
        "id": "Etf7m-09tWPb"
      },
      "execution_count": null,
      "outputs": [
        {
          "output_type": "display_data",
          "data": {
            "text/plain": [
              "<Figure size 720x864 with 1 Axes>"
            ],
            "image/png": "[encoded data removed]"
          },
          "metadata": {}
        }
      ]
    },
    {
      "cell_type": "markdown",
      "source": [
        "According to the Feature Importance plot, the best predictors for subscription appear to be *duration, previous,* and *poutcome*. In the following analysis, we will analyze the relationship between these top key predictors with the target variable. \n",
        "\n",
        "Now we will move onto the next phase of our analysis: Exploratory Data Analysis.\n",
        "\n"
      ],
      "metadata": {
        "id": "RrdudNTstWPc"
      }
    },
    {
      "cell_type": "markdown",
      "source": [
        "# 5. Exploratory Data Analysis\n",
        "\n",
        "##Topic 1: Details of the Customers Targeted\n",
        "\n",
        "###**[Question 1.1] Among all the age group, which are the top 3 age groups that have had the highest subscription rate?**\n",
        "\n",
        "\n"
      ],
      "metadata": {
        "id": "VgnsPhNQRjHn"
      }
    },
    {
      "cell_type": "code",
      "source": [
        "age_suscribed = banking[banking['Subscribed (Yes/No)'] == 'yes']['age'].value_counts().sort_index(ascending=False)\n",
        "age_not_suscribed = banking[banking['Subscribed (Yes/No)'] == 'no']['age'].value_counts().sort_index(ascending=False)\n",
        "\n",
        "age_subscribed_prop = round((age_suscribed/(age_not_suscribed+age_suscribed)*100),2).sort_values(ascending = False)\n",
        "age_subscribed_prop\n",
        "\n",
        "\n",
        "age_subscribed_prop.plot(kind='bar',figsize=(10,8),color=\"tomato\")\n",
        "plt.xlabel(\"Age Group\")\n",
        "plt.ylabel(\"Percentage\")\n",
        "plt.title('Subscription Percentage Within Each Age Group')\n",
        "plt.xticks(rotation = 0)\n",
        "\n",
        "plt.show();"
      ],
      "metadata": {
        "colab": {
          "base_uri": "https://localhost:8080/",
          "height": 508
        },
        "id": "_iEe-b0iRkrx",
        "outputId": "a9a28c89-f6fc-4184-c94b-bfe2fb0285bb"
      },
      "execution_count": null,
      "outputs": [
        {
          "output_type": "display_data",
          "data": {
            "text/plain": [
              "<Figure size 720x576 with 1 Axes>"
            ],
            "image/png": "[encoded data removed]"
          },
          "metadata": {}
        }
      ]
    },
    {
      "cell_type": "markdown",
      "source": [
        "Out of all the age groups, **'76-85', '86-100'** and **'66-75'** have the highest subscription rate. \n",
        "\n",
        "To tackle the challenge of unbalanced data, we have taken the percentage of subscription rate for each age category to <i> normalize </i>across all age groups. \n",
        "\n",
        "###**[Question 1.2] Analyze the Relationship Between Marriage Status and the Age groups which had the highest subscription rate ('76-85', '86-100'** and **'66-75')**"
      ],
      "metadata": {
        "id": "wyATPe7yoqB-"
      }
    },
    {
      "cell_type": "code",
      "source": [
        "top_age_marital_status = banking[(banking['Subscribed (Yes/No)'] == 'yes') & ((banking['age'] == '76 - 85') | \n",
        "(banking['age'] == '86 - 100') | (banking['age'] == '66 - 75'))].groupby('education')['age'].count().sort_values(ascending = False)\n",
        "\n",
        "print(top_age_marital_status)        \n",
        "print(\"The top 3 age categories who subscribed the most (as seen above), {}% of those people are married.\".\n",
        "format(round((top_age_marital_status[0]/top_age_marital_status.sum())*100, 2)))"
      ],
      "metadata": {
        "colab": {
          "base_uri": "https://localhost:8080/"
        },
        "id": "UaupmSTe_ZOO",
        "outputId": "a1ae80df-cd70-4a68-de80-774d999f238b"
      },
      "execution_count": null,
      "outputs": [
        {
          "output_type": "stream",
          "name": "stdout",
          "text": [
            "education\n",
            "pre.high.school        164\n",
            "unknown                 36\n",
            "professional.course     32\n",
            "university.degree       31\n",
            "high.school             26\n",
            "illiterate               1\n",
            "Name: age, dtype: int64\n",
            "The top 3 age categories who subscribed the most (as seen above), 56.55% of those people are married.\n"
          ]
        }
      ]
    },
    {
      "cell_type": "markdown",
      "source": [
        "Out of the top 3 age groups that had the highest subscription rate ('76-85', '86-100' and '66-75'), approximately 60% of those people are married. "
      ],
      "metadata": {
        "id": "mf4tK2x-_lHP"
      }
    },
    {
      "cell_type": "markdown",
      "source": [
        "###**[Question 1.3] On the basis of job profiles, which marketing strategy performed best (or had the highest subscription rate) for which client segment?** "
      ],
      "metadata": {
        "id": "h3RueC6-sO_U"
      }
    },
    {
      "cell_type": "code",
      "source": [
        "job_suscribed = banking[banking['Subscribed (Yes/No)'] == 'yes']['job'].value_counts().sort_index(ascending=True)\n",
        "job_not_suscribed = banking[banking['Subscribed (Yes/No)'] == 'no']['job'].value_counts().sort_index(ascending=True)\n",
        "\n",
        "job_subscribed_percentage = round((job_suscribed/(job_not_suscribed+job_suscribed))*100,2).sort_values(ascending = False)\n",
        "print(job_subscribed_percentage)"
      ],
      "metadata": {
        "colab": {
          "base_uri": "https://localhost:8080/"
        },
        "id": "GLsBQKWPRkwG",
        "outputId": "2a2423b3-1d58-49dd-adaf-e73df760f660"
      },
      "execution_count": null,
      "outputs": [
        {
          "output_type": "stream",
          "name": "stdout",
          "text": [
            "student          31.43\n",
            "retired          25.23\n",
            "unemployed       14.20\n",
            "admin.           12.97\n",
            "management       11.22\n",
            "unknown          11.21\n",
            "technician       10.83\n",
            "self-employed    10.49\n",
            "housemaid        10.00\n",
            "entrepreneur      8.52\n",
            "services          8.14\n",
            "blue-collar       6.89\n",
            "Name: job, dtype: float64\n"
          ]
        }
      ]
    },
    {
      "cell_type": "markdown",
      "source": [
        "**Students** have had the highest subscription rate to bank term deposit.  This shows that marketing campaign appears to be most successful on students across all the job profiles. "
      ],
      "metadata": {
        "id": "9vF8xdVYRjah"
      }
    },
    {
      "cell_type": "markdown",
      "source": [
        "###**[Question 1.4] What is the campaign success rate among customers from different education backgrounds?**"
      ],
      "metadata": {
        "id": "WzJnOqUh5IVL"
      }
    },
    {
      "cell_type": "code",
      "source": [
        "education_order = ['illiterate',\n",
        "                  'pre.high.school',\n",
        "                  'high.school',\n",
        "                  'professional.course',\n",
        "                   'university.degree',\n",
        "                   'unknown']\n",
        "\n",
        "edu_result = sns.catplot(x = 'Subscribed (Yes/No)',\n",
        "            data = banking,\n",
        "            kind = 'count',\n",
        "            col = 'education',\n",
        "            col_wrap = 3,\n",
        "            col_order = education_order,\n",
        "            palette=sns.color_palette(['Tomato', 'LightGreen']))\n",
        "\n",
        "edu_result.fig.suptitle(\"Campaign Result in Different Education Groups\" ,\n",
        "               fontsize = 'x-large' , \n",
        "               fontweight = 'bold' )\n",
        "\n",
        "edu_result.fig.subplots_adjust( top = 0.9 )\n",
        "\n",
        "edu_result.set_axis_labels( \"Campaign Results\" , \"Result Count\" )\n",
        "\n",
        "plt.show()"
      ],
      "metadata": {
        "colab": {
          "base_uri": "https://localhost:8080/"
        },
        "id": "nlHdK5kOIUC4",
        "outputId": "0f6c771b-9977-4ff8-a817-de08d9beb161"
      },
      "execution_count": null,
      "outputs": [
        {
          "output_type": "display_data",
          "data": {
            "text/plain": [
              "<Figure size 1080x720 with 6 Axes>"
            ],
            "image/png": "[encoded data removed]"
          },
          "metadata": {}
        }
      ]
    },
    {
      "cell_type": "markdown",
      "source": [
        "The above subplots showcase the subscription outcome (\"Yes\" or \"No\") within each education group.\n",
        "\n",
        "To overcome *the issue of unbalanced data* across all education groups, we are going to visualize the subscription rate of each group."
      ],
      "metadata": {
        "id": "RNBIB8028KYB"
      }
    },
    {
      "cell_type": "code",
      "source": [
        "banking_yes = banking[banking['Subscribed (Yes/No)'] == 'yes']\n",
        "a = banking_yes.education.value_counts()\n",
        "b = banking.education.value_counts()\n",
        "c = a/b*100\n",
        "c = c.to_frame(name = 'success percentage(%)')\n",
        "c.reset_index(inplace = True)\n",
        "c = c.rename(columns = {'index':'education'})\n",
        "c[\"success percentage(%)\"] = round(c[\"success percentage(%)\"],2)\n",
        "c"
      ],
      "metadata": {
        "id": "2wG6bXvEBXIG",
        "colab": {
          "base_uri": "https://localhost:8080/"
        },
        "outputId": "d405334b-bfb8-4250-895f-9dccc3f047a1"
      },
      "execution_count": null,
      "outputs": [
        {
          "output_type": "execute_result",
          "data": {
            "text/plain": [
              "             education  success percentage(%)\n",
              "0          high.school                  10.84\n",
              "1           illiterate                  22.22\n",
              "2      pre.high.school                   8.70\n",
              "3  professional.course                  11.35\n",
              "4    university.degree                  13.72\n",
              "5              unknown                  14.50"
            ],
            "text/html": [
              "\n",
              "  <div id=\"df-8e1044ac-912b-4d3a-a81f-20e602e39a9f\">\n",
              "    <div class=\"colab-df-container\">\n",
              "      <div>\n",
              "<style scoped>\n",
              "    .dataframe tbody tr th:only-of-type {\n",
              "        vertical-align: middle;\n",
              "    }\n",
              "\n",
              "    .dataframe tbody tr th {\n",
              "        vertical-align: top;\n",
              "    }\n",
              "\n",
              "    .dataframe thead th {\n",
              "        text-align: right;\n",
              "    }\n",
              "</style>\n",
              "<table border=\"1\" class=\"dataframe\">\n",
              "  <thead>\n",
              "    <tr style=\"text-align: right;\">\n",
              "      <th></th>\n",
              "      <th>education</th>\n",
              "      <th>success percentage(%)</th>\n",
              "    </tr>\n",
              "  </thead>\n",
              "  <tbody>\n",
              "    <tr>\n",
              "      <th>0</th>\n",
              "      <td>high.school</td>\n",
              "      <td>10.84</td>\n",
              "    </tr>\n",
              "    <tr>\n",
              "      <th>1</th>\n",
              "      <td>illiterate</td>\n",
              "      <td>22.22</td>\n",
              "    </tr>\n",
              "    <tr>\n",
              "      <th>2</th>\n",
              "      <td>pre.high.school</td>\n",
              "      <td>8.70</td>\n",
              "    </tr>\n",
              "    <tr>\n",
              "      <th>3</th>\n",
              "      <td>professional.course</td>\n",
              "      <td>11.35</td>\n",
              "    </tr>\n",
              "    <tr>\n",
              "      <th>4</th>\n",
              "      <td>university.degree</td>\n",
              "      <td>13.72</td>\n",
              "    </tr>\n",
              "    <tr>\n",
              "      <th>5</th>\n",
              "      <td>unknown</td>\n",
              "      <td>14.50</td>\n",
              "    </tr>\n",
              "  </tbody>\n",
              "</table>\n",
              "</div>\n",
              "      <button class=\"colab-df-convert\" onclick=\"convertToInteractive('df-8e1044ac-912b-4d3a-a81f-20e602e39a9f')\"\n",
              "              title=\"Convert this dataframe to an interactive table.\"\n",
              "              style=\"display:none;\">\n",
              "        \n",
              "  <svg xmlns=\"http://www.w3.org/2000/svg\" height=\"24px\"viewBox=\"0 0 24 24\"\n",
              "       width=\"24px\">\n",
              "    <path d=\"M0 0h24v24H0V0z\" fill=\"none\"/>\n",
              "    <path d=\"M18.56 5.44l.94 2.06.94-2.06 2.06-.94-2.06-.94-.94-2.06-.94 2.06-2.06.94zm-11 1L8.5 8.5l.94-2.06 2.06-.94-2.06-.94L8.5 2.5l-.94 2.06-2.06.94zm10 10l.94 2.06.94-2.06 2.06-.94-2.06-.94-.94-2.06-.94 2.06-2.06.94z\"/><path d=\"M17.41 7.96l-1.37-1.37c-.4-.4-.92-.59-1.43-.59-.52 0-1.04.2-1.43.59L10.3 9.45l-7.72 7.72c-.78.78-.78 2.05 0 2.83L4 21.41c.39.39.9.59 1.41.59.51 0 1.02-.2 1.41-.59l7.78-7.78 2.81-2.81c.8-.78.8-2.07 0-2.86zM5.41 20L4 18.59l7.72-7.72 1.47 1.35L5.41 20z\"/>\n",
              "  </svg>\n",
              "      </button>\n",
              "      \n",
              "  <style>\n",
              "    .colab-df-container {\n",
              "      display:flex;\n",
              "      flex-wrap:wrap;\n",
              "      gap: 12px;\n",
              "    }\n",
              "\n",
              "    .colab-df-convert {\n",
              "      background-color: #E8F0FE;\n",
              "      border: none;\n",
              "      border-radius: 50%;\n",
              "      cursor: pointer;\n",
              "      display: none;\n",
              "      fill: #1967D2;\n",
              "      height: 32px;\n",
              "      padding: 0 0 0 0;\n",
              "      width: 32px;\n",
              "    }\n",
              "\n",
              "    .colab-df-convert:hover {\n",
              "      background-color: #E2EBFA;\n",
              "      box-shadow: 0px 1px 2px rgba(60, 64, 67, 0.3), 0px 1px 3px 1px rgba(60, 64, 67, 0.15);\n",
              "      fill: #174EA6;\n",
              "    }\n",
              "\n",
              "    [theme=dark] .colab-df-convert {\n",
              "      background-color: #3B4455;\n",
              "      fill: #D2E3FC;\n",
              "    }\n",
              "\n",
              "    [theme=dark] .colab-df-convert:hover {\n",
              "      background-color: #434B5C;\n",
              "      box-shadow: 0px 1px 3px 1px rgba(0, 0, 0, 0.15);\n",
              "      filter: drop-shadow(0px 1px 2px rgba(0, 0, 0, 0.3));\n",
              "      fill: #FFFFFF;\n",
              "    }\n",
              "  </style>\n",
              "\n",
              "      <script>\n",
              "        const buttonEl =\n",
              "          document.querySelector('#df-8e1044ac-912b-4d3a-a81f-20e602e39a9f button.colab-df-convert');\n",
              "        buttonEl.style.display =\n",
              "          google.colab.kernel.accessAllowed ? 'block' : 'none';\n",
              "\n",
              "        async function convertToInteractive(key) {\n",
              "          const element = document.querySelector('#df-8e1044ac-912b-4d3a-a81f-20e602e39a9f');\n",
              "          const dataTable =\n",
              "            await google.colab.kernel.invokeFunction('convertToInteractive',\n",
              "                                                     [key], {});\n",
              "          if (!dataTable) return;\n",
              "\n",
              "          const docLinkHtml = 'Like what you see? Visit the ' +\n",
              "            '<a target=\"_blank\" href=https://colab.research.google.com/notebooks/data_table.ipynb>data table notebook</a>'\n",
              "            + ' to learn more about interactive tables.';\n",
              "          element.innerHTML = '';\n",
              "          dataTable['output_type'] = 'display_data';\n",
              "          await google.colab.output.renderOutput(dataTable, element);\n",
              "          const docLink = document.createElement('div');\n",
              "          docLink.innerHTML = docLinkHtml;\n",
              "          element.appendChild(docLink);\n",
              "        }\n",
              "      </script>\n",
              "    </div>\n",
              "  </div>\n",
              "  "
            ]
          },
          "metadata": {},
          "execution_count": 133
        }
      ]
    },
    {
      "cell_type": "code",
      "source": [
        "edu_pct = sns.catplot(x = 'education',\n",
        "            y = 'success percentage(%)',\n",
        "            data = c,\n",
        "            kind = 'bar',\n",
        "            order = education_order, height=10,aspect=1,\n",
        "            palette = sns.color_palette(['Tomato', 'Gold', 'MediumSlateBlue', 'SkyBlue', 'PaleGreen', 'LightGray']))\n",
        "\n",
        "edu_pct.fig.subplots_adjust(top=0.9) \n",
        "edu_pct.fig.suptitle('Campaign Success Percentage Across Different Education Levels') \n",
        "\n",
        "plt.xlabel('Eductaion')\n",
        "plt.ylabel('success percentage(%)')\n",
        "\n",
        "plt.xticks(rotation=45)\n",
        "\n",
        "plt.show()"
      ],
      "metadata": {
        "colab": {
          "base_uri": "https://localhost:8080/"
        },
        "id": "nwJtcNn1GS3V",
        "outputId": "518ef03a-a862-406f-beb5-d1965f56c97a"
      },
      "execution_count": null,
      "outputs": [
        {
          "output_type": "display_data",
          "data": {
            "text/plain": [
              "<Figure size 720x720 with 1 Axes>"
            ],
            "image/png": "[encoded data removed]"
          },
          "metadata": {}
        }
      ]
    },
    {
      "cell_type": "markdown",
      "source": [
        "Unexpectedly, we can see that the **illiterate** category had the highest and almost double the success rate than that of all the other educated groups. The reason may be that this particular data is unbalanced; we only have 18 records for the illiterate category, significantly lower than those of other education groups.\n",
        "\n",
        "For other groups, **the campaign success percentage tends to increase as the educational level goes up**.\n",
        "\n"
      ],
      "metadata": {
        "id": "04KcN_mrKnVa"
      }
    },
    {
      "cell_type": "markdown",
      "source": [
        "##Topic 2: Subscription Rate based on Contact Type and Month"
      ],
      "metadata": {
        "id": "7YJoUx_WwIvF"
      }
    },
    {
      "cell_type": "markdown",
      "source": [
        "###**[Question 2.1] What month witnessed the highest number of subscriptions?**"
      ],
      "metadata": {
        "id": "LEwP_6S1wLqm"
      }
    },
    {
      "cell_type": "code",
      "source": [
        "df = banking.groupby(['month','Subscribed (Yes/No)']).agg({'Subscribed (Yes/No)': 'count'})\n",
        "df2 = df.groupby(level=0).apply(lambda x:100 * x / float(x.sum()))\n",
        "df2.head(14)"
      ],
      "metadata": {
        "id": "xJWiqKqKwPi7",
        "colab": {
          "base_uri": "https://localhost:8080/"
        },
        "outputId": "9cb8f2a9-5333-45b9-a217-3cfaad39be67"
      },
      "execution_count": null,
      "outputs": [
        {
          "output_type": "execute_result",
          "data": {
            "text/plain": [
              "                           Subscribed (Yes/No)\n",
              "month Subscribed (Yes/No)                     \n",
              "apr   no                             79.521277\n",
              "      yes                            20.478723\n",
              "aug   no                             89.397863\n",
              "      yes                            10.602137\n",
              "dec   no                             51.098901\n",
              "      yes                            48.901099\n",
              "jul   no                             90.953443\n",
              "      yes                             9.046557\n",
              "jun   no                             89.488530\n",
              "      yes                            10.511470\n",
              "mar   no                             49.450549\n",
              "      yes                            50.549451\n",
              "may   no                             93.565255\n",
              "      yes                             6.434745"
            ],
            "text/html": [
              "\n",
              "  <div id=\"df-d5f5f112-5c3a-4551-991c-0d070ec0012e\">\n",
              "    <div class=\"colab-df-container\">\n",
              "      <div>\n",
              "<style scoped>\n",
              "    .dataframe tbody tr th:only-of-type {\n",
              "        vertical-align: middle;\n",
              "    }\n",
              "\n",
              "    .dataframe tbody tr th {\n",
              "        vertical-align: top;\n",
              "    }\n",
              "\n",
              "    .dataframe thead th {\n",
              "        text-align: right;\n",
              "    }\n",
              "</style>\n",
              "<table border=\"1\" class=\"dataframe\">\n",
              "  <thead>\n",
              "    <tr style=\"text-align: right;\">\n",
              "      <th></th>\n",
              "      <th></th>\n",
              "      <th>Subscribed (Yes/No)</th>\n",
              "    </tr>\n",
              "    <tr>\n",
              "      <th>month</th>\n",
              "      <th>Subscribed (Yes/No)</th>\n",
              "      <th></th>\n",
              "    </tr>\n",
              "  </thead>\n",
              "  <tbody>\n",
              "    <tr>\n",
              "      <th rowspan=\"2\" valign=\"top\">apr</th>\n",
              "      <th>no</th>\n",
              "      <td>79.521277</td>\n",
              "    </tr>\n",
              "    <tr>\n",
              "      <th>yes</th>\n",
              "      <td>20.478723</td>\n",
              "    </tr>\n",
              "    <tr>\n",
              "      <th rowspan=\"2\" valign=\"top\">aug</th>\n",
              "      <th>no</th>\n",
              "      <td>89.397863</td>\n",
              "    </tr>\n",
              "    <tr>\n",
              "      <th>yes</th>\n",
              "      <td>10.602137</td>\n",
              "    </tr>\n",
              "    <tr>\n",
              "      <th rowspan=\"2\" valign=\"top\">dec</th>\n",
              "      <th>no</th>\n",
              "      <td>51.098901</td>\n",
              "    </tr>\n",
              "    <tr>\n",
              "      <th>yes</th>\n",
              "      <td>48.901099</td>\n",
              "    </tr>\n",
              "    <tr>\n",
              "      <th rowspan=\"2\" valign=\"top\">jul</th>\n",
              "      <th>no</th>\n",
              "      <td>90.953443</td>\n",
              "    </tr>\n",
              "    <tr>\n",
              "      <th>yes</th>\n",
              "      <td>9.046557</td>\n",
              "    </tr>\n",
              "    <tr>\n",
              "      <th rowspan=\"2\" valign=\"top\">jun</th>\n",
              "      <th>no</th>\n",
              "      <td>89.488530</td>\n",
              "    </tr>\n",
              "    <tr>\n",
              "      <th>yes</th>\n",
              "      <td>10.511470</td>\n",
              "    </tr>\n",
              "    <tr>\n",
              "      <th rowspan=\"2\" valign=\"top\">mar</th>\n",
              "      <th>no</th>\n",
              "      <td>49.450549</td>\n",
              "    </tr>\n",
              "    <tr>\n",
              "      <th>yes</th>\n",
              "      <td>50.549451</td>\n",
              "    </tr>\n",
              "    <tr>\n",
              "      <th rowspan=\"2\" valign=\"top\">may</th>\n",
              "      <th>no</th>\n",
              "      <td>93.565255</td>\n",
              "    </tr>\n",
              "    <tr>\n",
              "      <th>yes</th>\n",
              "      <td>6.434745</td>\n",
              "    </tr>\n",
              "  </tbody>\n",
              "</table>\n",
              "</div>\n",
              "      <button class=\"colab-df-convert\" onclick=\"convertToInteractive('df-d5f5f112-5c3a-4551-991c-0d070ec0012e')\"\n",
              "              title=\"Convert this dataframe to an interactive table.\"\n",
              "              style=\"display:none;\">\n",
              "        \n",
              "  <svg xmlns=\"http://www.w3.org/2000/svg\" height=\"24px\"viewBox=\"0 0 24 24\"\n",
              "       width=\"24px\">\n",
              "    <path d=\"M0 0h24v24H0V0z\" fill=\"none\"/>\n",
              "    <path d=\"M18.56 5.44l.94 2.06.94-2.06 2.06-.94-2.06-.94-.94-2.06-.94 2.06-2.06.94zm-11 1L8.5 8.5l.94-2.06 2.06-.94-2.06-.94L8.5 2.5l-.94 2.06-2.06.94zm10 10l.94 2.06.94-2.06 2.06-.94-2.06-.94-.94-2.06-.94 2.06-2.06.94z\"/><path d=\"M17.41 7.96l-1.37-1.37c-.4-.4-.92-.59-1.43-.59-.52 0-1.04.2-1.43.59L10.3 9.45l-7.72 7.72c-.78.78-.78 2.05 0 2.83L4 21.41c.39.39.9.59 1.41.59.51 0 1.02-.2 1.41-.59l7.78-7.78 2.81-2.81c.8-.78.8-2.07 0-2.86zM5.41 20L4 18.59l7.72-7.72 1.47 1.35L5.41 20z\"/>\n",
              "  </svg>\n",
              "      </button>\n",
              "      \n",
              "  <style>\n",
              "    .colab-df-container {\n",
              "      display:flex;\n",
              "      flex-wrap:wrap;\n",
              "      gap: 12px;\n",
              "    }\n",
              "\n",
              "    .colab-df-convert {\n",
              "      background-color: #E8F0FE;\n",
              "      border: none;\n",
              "      border-radius: 50%;\n",
              "      cursor: pointer;\n",
              "      display: none;\n",
              "      fill: #1967D2;\n",
              "      height: 32px;\n",
              "      padding: 0 0 0 0;\n",
              "      width: 32px;\n",
              "    }\n",
              "\n",
              "    .colab-df-convert:hover {\n",
              "      background-color: #E2EBFA;\n",
              "      box-shadow: 0px 1px 2px rgba(60, 64, 67, 0.3), 0px 1px 3px 1px rgba(60, 64, 67, 0.15);\n",
              "      fill: #174EA6;\n",
              "    }\n",
              "\n",
              "    [theme=dark] .colab-df-convert {\n",
              "      background-color: #3B4455;\n",
              "      fill: #D2E3FC;\n",
              "    }\n",
              "\n",
              "    [theme=dark] .colab-df-convert:hover {\n",
              "      background-color: #434B5C;\n",
              "      box-shadow: 0px 1px 3px 1px rgba(0, 0, 0, 0.15);\n",
              "      filter: drop-shadow(0px 1px 2px rgba(0, 0, 0, 0.3));\n",
              "      fill: #FFFFFF;\n",
              "    }\n",
              "  </style>\n",
              "\n",
              "      <script>\n",
              "        const buttonEl =\n",
              "          document.querySelector('#df-d5f5f112-5c3a-4551-991c-0d070ec0012e button.colab-df-convert');\n",
              "        buttonEl.style.display =\n",
              "          google.colab.kernel.accessAllowed ? 'block' : 'none';\n",
              "\n",
              "        async function convertToInteractive(key) {\n",
              "          const element = document.querySelector('#df-d5f5f112-5c3a-4551-991c-0d070ec0012e');\n",
              "          const dataTable =\n",
              "            await google.colab.kernel.invokeFunction('convertToInteractive',\n",
              "                                                     [key], {});\n",
              "          if (!dataTable) return;\n",
              "\n",
              "          const docLinkHtml = 'Like what you see? Visit the ' +\n",
              "            '<a target=\"_blank\" href=https://colab.research.google.com/notebooks/data_table.ipynb>data table notebook</a>'\n",
              "            + ' to learn more about interactive tables.';\n",
              "          element.innerHTML = '';\n",
              "          dataTable['output_type'] = 'display_data';\n",
              "          await google.colab.output.renderOutput(dataTable, element);\n",
              "          const docLink = document.createElement('div');\n",
              "          docLink.innerHTML = docLinkHtml;\n",
              "          element.appendChild(docLink);\n",
              "        }\n",
              "      </script>\n",
              "    </div>\n",
              "  </div>\n",
              "  "
            ]
          },
          "metadata": {},
          "execution_count": 135
        }
      ]
    },
    {
      "cell_type": "code",
      "source": [
        "month_subscribed = banking[banking['Subscribed (Yes/No)'] == 'yes']['month'].value_counts().sort_index(ascending=False)\n",
        "month_not_subscribed = banking[banking['Subscribed (Yes/No)'] == 'no']['month'].value_counts().sort_index(ascending=False)\n",
        "\n",
        "month_subscribed_prop = round((month_subscribed/(month_subscribed+month_not_subscribed)*100),2).sort_values(ascending = False)\n",
        "month_subscribed_prop\n",
        "\n",
        "\n",
        "month_subscribed_prop.plot(kind='bar',figsize=(10,8),color=\"tomato\")\n",
        "plt.xlabel(\"month\")\n",
        "plt.ylabel(\"Percentage\")\n",
        "plt.title('Subscription Percentage Within Each month')\n",
        "plt.xticks(rotation = 0)\n",
        "\n",
        "plt.show();"
      ],
      "metadata": {
        "id": "cjXnlRglq2Py",
        "colab": {
          "base_uri": "https://localhost:8080/"
        },
        "outputId": "b604866c-d6c3-4923-d015-da991d2a1cba"
      },
      "execution_count": null,
      "outputs": [
        {
          "output_type": "display_data",
          "data": {
            "text/plain": [
              "<Figure size 720x576 with 1 Axes>"
            ],
            "image/png": "[encoded data removed]"
          },
          "metadata": {}
        }
      ]
    },
    {
      "cell_type": "markdown",
      "source": [
        "**March** witnessed the highest percentage of subscriptions and 50.5% of those who contacted subscribed to bank services. However,  **May** had the least percentage of people who subscribed - only 6.43%."
      ],
      "metadata": {
        "id": "tqJ-1eE0wUp-"
      }
    },
    {
      "cell_type": "markdown",
      "source": [
        "###**[Question 2.2] What mode of contact was most effective in terms of subscription?**"
      ],
      "metadata": {
        "id": "TsLeP3r5wYG2"
      }
    },
    {
      "cell_type": "code",
      "source": [
        "df3 = banking.groupby(['contact','Subscribed (Yes/No)']).agg({'Subscribed (Yes/No)': 'count'})\n",
        "df4 = df3.groupby(level=0).apply(lambda x:100 * x / float(x.sum()))\n",
        "df4"
      ],
      "metadata": {
        "id": "PAuCp5pvwfIU",
        "colab": {
          "base_uri": "https://localhost:8080/"
        },
        "outputId": "ce1f898d-4d2f-40cd-e7fd-41a1e8f360a2"
      },
      "execution_count": null,
      "outputs": [
        {
          "output_type": "execute_result",
          "data": {
            "text/plain": [
              "                               Subscribed (Yes/No)\n",
              "contact   Subscribed (Yes/No)                     \n",
              "cellular  no                             85.262393\n",
              "          yes                            14.737607\n",
              "telephone no                             94.768679\n",
              "          yes                             5.231321"
            ],
            "text/html": [
              "\n",
              "  <div id=\"df-f7fd2feb-bcd1-4bc3-9cc6-a1de4538a985\">\n",
              "    <div class=\"colab-df-container\">\n",
              "      <div>\n",
              "<style scoped>\n",
              "    .dataframe tbody tr th:only-of-type {\n",
              "        vertical-align: middle;\n",
              "    }\n",
              "\n",
              "    .dataframe tbody tr th {\n",
              "        vertical-align: top;\n",
              "    }\n",
              "\n",
              "    .dataframe thead th {\n",
              "        text-align: right;\n",
              "    }\n",
              "</style>\n",
              "<table border=\"1\" class=\"dataframe\">\n",
              "  <thead>\n",
              "    <tr style=\"text-align: right;\">\n",
              "      <th></th>\n",
              "      <th></th>\n",
              "      <th>Subscribed (Yes/No)</th>\n",
              "    </tr>\n",
              "    <tr>\n",
              "      <th>contact</th>\n",
              "      <th>Subscribed (Yes/No)</th>\n",
              "      <th></th>\n",
              "    </tr>\n",
              "  </thead>\n",
              "  <tbody>\n",
              "    <tr>\n",
              "      <th rowspan=\"2\" valign=\"top\">cellular</th>\n",
              "      <th>no</th>\n",
              "      <td>85.262393</td>\n",
              "    </tr>\n",
              "    <tr>\n",
              "      <th>yes</th>\n",
              "      <td>14.737607</td>\n",
              "    </tr>\n",
              "    <tr>\n",
              "      <th rowspan=\"2\" valign=\"top\">telephone</th>\n",
              "      <th>no</th>\n",
              "      <td>94.768679</td>\n",
              "    </tr>\n",
              "    <tr>\n",
              "      <th>yes</th>\n",
              "      <td>5.231321</td>\n",
              "    </tr>\n",
              "  </tbody>\n",
              "</table>\n",
              "</div>\n",
              "      <button class=\"colab-df-convert\" onclick=\"convertToInteractive('df-f7fd2feb-bcd1-4bc3-9cc6-a1de4538a985')\"\n",
              "              title=\"Convert this dataframe to an interactive table.\"\n",
              "              style=\"display:none;\">\n",
              "        \n",
              "  <svg xmlns=\"http://www.w3.org/2000/svg\" height=\"24px\"viewBox=\"0 0 24 24\"\n",
              "       width=\"24px\">\n",
              "    <path d=\"M0 0h24v24H0V0z\" fill=\"none\"/>\n",
              "    <path d=\"M18.56 5.44l.94 2.06.94-2.06 2.06-.94-2.06-.94-.94-2.06-.94 2.06-2.06.94zm-11 1L8.5 8.5l.94-2.06 2.06-.94-2.06-.94L8.5 2.5l-.94 2.06-2.06.94zm10 10l.94 2.06.94-2.06 2.06-.94-2.06-.94-.94-2.06-.94 2.06-2.06.94z\"/><path d=\"M17.41 7.96l-1.37-1.37c-.4-.4-.92-.59-1.43-.59-.52 0-1.04.2-1.43.59L10.3 9.45l-7.72 7.72c-.78.78-.78 2.05 0 2.83L4 21.41c.39.39.9.59 1.41.59.51 0 1.02-.2 1.41-.59l7.78-7.78 2.81-2.81c.8-.78.8-2.07 0-2.86zM5.41 20L4 18.59l7.72-7.72 1.47 1.35L5.41 20z\"/>\n",
              "  </svg>\n",
              "      </button>\n",
              "      \n",
              "  <style>\n",
              "    .colab-df-container {\n",
              "      display:flex;\n",
              "      flex-wrap:wrap;\n",
              "      gap: 12px;\n",
              "    }\n",
              "\n",
              "    .colab-df-convert {\n",
              "      background-color: #E8F0FE;\n",
              "      border: none;\n",
              "      border-radius: 50%;\n",
              "      cursor: pointer;\n",
              "      display: none;\n",
              "      fill: #1967D2;\n",
              "      height: 32px;\n",
              "      padding: 0 0 0 0;\n",
              "      width: 32px;\n",
              "    }\n",
              "\n",
              "    .colab-df-convert:hover {\n",
              "      background-color: #E2EBFA;\n",
              "      box-shadow: 0px 1px 2px rgba(60, 64, 67, 0.3), 0px 1px 3px 1px rgba(60, 64, 67, 0.15);\n",
              "      fill: #174EA6;\n",
              "    }\n",
              "\n",
              "    [theme=dark] .colab-df-convert {\n",
              "      background-color: #3B4455;\n",
              "      fill: #D2E3FC;\n",
              "    }\n",
              "\n",
              "    [theme=dark] .colab-df-convert:hover {\n",
              "      background-color: #434B5C;\n",
              "      box-shadow: 0px 1px 3px 1px rgba(0, 0, 0, 0.15);\n",
              "      filter: drop-shadow(0px 1px 2px rgba(0, 0, 0, 0.3));\n",
              "      fill: #FFFFFF;\n",
              "    }\n",
              "  </style>\n",
              "\n",
              "      <script>\n",
              "        const buttonEl =\n",
              "          document.querySelector('#df-f7fd2feb-bcd1-4bc3-9cc6-a1de4538a985 button.colab-df-convert');\n",
              "        buttonEl.style.display =\n",
              "          google.colab.kernel.accessAllowed ? 'block' : 'none';\n",
              "\n",
              "        async function convertToInteractive(key) {\n",
              "          const element = document.querySelector('#df-f7fd2feb-bcd1-4bc3-9cc6-a1de4538a985');\n",
              "          const dataTable =\n",
              "            await google.colab.kernel.invokeFunction('convertToInteractive',\n",
              "                                                     [key], {});\n",
              "          if (!dataTable) return;\n",
              "\n",
              "          const docLinkHtml = 'Like what you see? Visit the ' +\n",
              "            '<a target=\"_blank\" href=https://colab.research.google.com/notebooks/data_table.ipynb>data table notebook</a>'\n",
              "            + ' to learn more about interactive tables.';\n",
              "          element.innerHTML = '';\n",
              "          dataTable['output_type'] = 'display_data';\n",
              "          await google.colab.output.renderOutput(dataTable, element);\n",
              "          const docLink = document.createElement('div');\n",
              "          docLink.innerHTML = docLinkHtml;\n",
              "          element.appendChild(docLink);\n",
              "        }\n",
              "      </script>\n",
              "    </div>\n",
              "  </div>\n",
              "  "
            ]
          },
          "metadata": {},
          "execution_count": 137
        }
      ]
    },
    {
      "cell_type": "code",
      "source": [
        "contact_subscribed = banking[banking['Subscribed (Yes/No)'] == 'yes']['contact'].value_counts().sort_index(ascending=False)\n",
        "contact_not_subscribed = banking[banking['Subscribed (Yes/No)'] == 'no']['contact'].value_counts().sort_index(ascending=False)\n",
        "\n",
        "contact_subscribed_prop = round((contact_subscribed/(contact_subscribed+contact_not_subscribed)*100),2).sort_values(ascending = False)\n",
        "contact_subscribed_prop\n",
        "\n",
        "\n",
        "contact_subscribed_prop.plot(kind='bar',figsize=(10,8),color=\"palegreen\")\n",
        "plt.xlabel(\"contact\")\n",
        "plt.ylabel(\"Percentage\")\n",
        "plt.title('Subscription Percentage Within each mode of contact')\n",
        "plt.xticks(rotation = 0)\n",
        "\n",
        "plt.show();"
      ],
      "metadata": {
        "colab": {
          "base_uri": "https://localhost:8080/"
        },
        "id": "8n-4rDkRt98Z",
        "outputId": "f5a44631-12e8-4ee2-a760-4c99c51272c6"
      },
      "execution_count": null,
      "outputs": [
        {
          "output_type": "display_data",
          "data": {
            "text/plain": [
              "<Figure size 720x576 with 1 Axes>"
            ],
            "image/png": "[encoded data removed]"
          },
          "metadata": {}
        }
      ]
    },
    {
      "cell_type": "markdown",
      "source": [
        "Out of all the people contacted via cellular, 14.73% of people subscribed to bank services; whereas only 5.23% subscribed out of all the people contacted via telephone. \n",
        "\n",
        "***As such, cellular was more effective than telephone***"
      ],
      "metadata": {
        "id": "44q9sUzGwf9o"
      }
    },
    {
      "cell_type": "markdown",
      "source": [
        "###**[Question 2.3] Did housing loan or personal loan have an impact on subscriptions?** \n",
        "\n",
        "**a) Housing Loan**"
      ],
      "metadata": {
        "id": "mM1j0kucbxWb"
      }
    },
    {
      "cell_type": "code",
      "source": [
        "housing_subscribed = banking[banking['Subscribed (Yes/No)'] == 'yes']['housing'].value_counts().sort_index(ascending=False)\n",
        "housing_not_subscribed = banking[banking['Subscribed (Yes/No)'] == 'no']['housing'].value_counts().sort_index(ascending=False)\n",
        "\n",
        "housing_subscribed_prop = round((housing_subscribed/(housing_subscribed+housing_not_subscribed)*100),2).sort_values(ascending = False)\n",
        "housing_subscribed_prop\n",
        "\n",
        "\n",
        "housing_subscribed_prop.plot(kind='bar',figsize=(10,8),color=\"tomato\")\n",
        "plt.xlabel(\"Housing Loan\")\n",
        "plt.ylabel(\"Percentage\")\n",
        "plt.title('Subscription Percentage and housing loan')\n",
        "plt.xticks(rotation = 0)\n",
        "\n",
        "plt.show();"
      ],
      "metadata": {
        "colab": {
          "base_uri": "https://localhost:8080/"
        },
        "id": "3hogXf1ju3ER",
        "outputId": "d4ccc215-fc43-4b18-e272-b5c6c95b50fb"
      },
      "execution_count": null,
      "outputs": [
        {
          "output_type": "display_data",
          "data": {
            "text/plain": [
              "<Figure size 720x576 with 1 Axes>"
            ],
            "image/png": "[encoded data removed]"
          },
          "metadata": {}
        }
      ]
    },
    {
      "cell_type": "markdown",
      "source": [
        "**b) Personal Loan**"
      ],
      "metadata": {
        "id": "nyVBA6ptNasZ"
      }
    },
    {
      "cell_type": "code",
      "source": [
        "housing_subscribed = banking[banking['Subscribed (Yes/No)'] == 'yes']['loan'].value_counts().sort_index(ascending=False)\n",
        "housing_not_subscribed = banking[banking['Subscribed (Yes/No)'] == 'no']['loan'].value_counts().sort_index(ascending=False)\n",
        "\n",
        "housing_subscribed_prop = round((housing_subscribed/(housing_subscribed+housing_not_subscribed)*100),2).sort_values(ascending = False)\n",
        "housing_subscribed_prop\n",
        "\n",
        "\n",
        "housing_subscribed_prop.plot(kind='bar',figsize=(10,8),color=\"PaleGreen\")\n",
        "plt.xlabel(\"Personal Loan\")\n",
        "plt.ylabel(\"Percentage\")\n",
        "plt.title('Subscription Percentage and Personal loan')\n",
        "plt.xticks(rotation = 0)\n",
        "\n",
        "plt.show();"
      ],
      "metadata": {
        "colab": {
          "base_uri": "https://localhost:8080/"
        },
        "id": "Zg2oeT-hvJ5s",
        "outputId": "da18464b-59c7-41b6-f146-f3d4859812b2"
      },
      "execution_count": null,
      "outputs": [
        {
          "output_type": "display_data",
          "data": {
            "text/plain": [
              "<Figure size 720x576 with 1 Axes>"
            ],
            "image/png": "[encoded data removed]"
          },
          "metadata": {}
        }
      ]
    },
    {
      "cell_type": "markdown",
      "source": [
        "As shown in table 1, approximately 10% of people subscribed to bank services irrespective of whether they had a housing loan. Similarly, as shown in table 2, approximately 10% people subscriped irrespective of whether they had a personal loan or not. \n",
        "\n",
        "<i>**As a result, having a housing loan or personal loan doesn't have a significant impact on the client's decision to take a subscription with the bank.**</i>\n"
      ],
      "metadata": {
        "id": "mW_BaigExRzp"
      }
    },
    {
      "cell_type": "markdown",
      "source": [
        "###**[Question 2.4] Analyzing the Relationship Between Education and Loan Status among those subscribed to bank services**\n",
        "\n",
        "From **1.4** and **2.3** of the EDA section we concluded the following:\n",
        "\n",
        "1. The campaign success rate increases as educational level goes up (excluding the `illiterate` group due to unbalanced data);\n",
        "2. Having a personal loan does not have significant impact on the campaign outcome, as the percentages of people who subsdribed to the bank service are almost identifical acorss all three groups (`yes`, `no`, and `unknown`).\n",
        "\n",
        "However, are there any interaction effects on the campaign result when we pair these two customer features together? This sub-section aims to address this question on a descriptive analytical level.\n"
      ],
      "metadata": {
        "id": "FLaskllZSHFx"
      }
    },
    {
      "cell_type": "code",
      "source": [
        "banking_yes = banking[banking['Subscribed (Yes/No)'] == 'yes']\n",
        "banking_yes.loc[banking_yes['education'] == 'high.school']\n",
        "banking_yes.groupby(['education','loan']).agg({'Subscribed (Yes/No)': 'count'})\n",
        "\n",
        "# plotting count plots on education & loan using Bokeh\n",
        "output_notebook()\n",
        "output_file(\"education_loan.html\")\n",
        "\n",
        "education_level = ['High School', 'Pre High School', 'Professional Course', 'University Degree']\n",
        "loan_status = ['Yes', 'No', 'Unknown']\n",
        "\n",
        "data = {'education' : education_level,\n",
        "        'Yes'   : [150, 162, 85, 243],\n",
        "        'No'   : [860, 896, 494, 1393],\n",
        "        'Unknown'   : [21, 31, 16, 34]}\n",
        "\n",
        "x = [ (education, loan) for education in education_level for loan in loan_status ]\n",
        "counts = sum(zip(data['Yes'], data['No'], data['Unknown']), ())\n",
        "\n",
        "source = ColumnDataSource(data=dict(x=x, counts=counts))\n",
        "\n",
        "p = figure(x_range=FactorRange(*x), width = 1000, height=400, title=\"Loan Status Counts by Education\", y_axis_label = 'Count',\n",
        "           toolbar_location=None, tools=\"\")\n",
        "\n",
        "p.vbar(x='x', top='counts', width=1, source=source, line_color=\"white\", \n",
        "       fill_color=factor_cmap('x', palette=Spectral6, factors=loan_status, start=1, end=2))\n",
        "\n",
        "p.y_range.start = 0\n",
        "p.x_range.range_padding = 0.1\n",
        "p.xaxis.major_label_orientation = 1\n",
        "p.xgrid.grid_line_color = None\n",
        "\n",
        "show(p)"
      ],
      "metadata": {
        "colab": {
          "base_uri": "https://localhost:8080/",
          "height": 417
        },
        "id": "EhgrzPpKSi_N",
        "outputId": "02775288-fc9a-40b9-fc9f-773c82d2b391"
      },
      "execution_count": null,
      "outputs": [
        {
          "output_type": "display_data",
          "data": {
            "application/javascript": [
              "\n",
              "(function(root) {\n",
              "  function now() {\n",
              "    return new Date();\n",
              "  }\n",
              "\n",
              "  var force = true;\n",
              "\n",
              "  if (typeof root._bokeh_onload_callbacks === \"undefined\" || force === true) {\n",
              "    root._bokeh_onload_callbacks = [];\n",
              "    root._bokeh_is_loading = undefined;\n",
              "  }\n",
              "\n",
              "  var JS_MIME_TYPE = 'application/javascript';\n",
              "  var HTML_MIME_TYPE = 'text/html';\n",
              "  var EXEC_MIME_TYPE = 'application/vnd.bokehjs_exec.v0+json';\n",
              "  var CLASS_NAME = 'output_bokeh rendered_html';\n",
              "\n",
              "  /**\n",
              "   * Render data to the DOM node\n",
              "   */\n",
              "  function render(props, node) {\n",
              "    var script = document.createElement(\"script\");\n",
              "    node.appendChild(script);\n",
              "  }\n",
              "\n",
              "  /**\n",
              "   * Handle when an output is cleared or removed\n",
              "   */\n",
              "  function handleClearOutput(event, handle) {\n",
              "    var cell = handle.cell;\n",
              "\n",
              "    var id = cell.output_area._bokeh_element_id;\n",
              "    var server_id = cell.output_area._bokeh_server_id;\n",
              "    // Clean up Bokeh references\n",
              "    if (id != null && id in Bokeh.index) {\n",
              "      Bokeh.index[id].model.document.clear();\n",
              "      delete Bokeh.index[id];\n",
              "    }\n",
              "\n",
              "    if (server_id !== undefined) {\n",
              "      // Clean up Bokeh references\n",
              "      var cmd = \"from bokeh.io.state import curstate; print(curstate().uuid_to_server['\" + server_id + \"'].get_sessions()[0].document.roots[0]._id)\";\n",
              "      cell.notebook.kernel.execute(cmd, {\n",
              "        iopub: {\n",
              "          output: function(msg) {\n",
              "            var id = msg.content.text.trim();\n",
              "            if (id in Bokeh.index) {\n",
              "              Bokeh.index[id].model.document.clear();\n",
              "              delete Bokeh.index[id];\n",
              "            }\n",
              "          }\n",
              "        }\n",
              "      });\n",
              "      // Destroy server and session\n",
              "      var cmd = \"import bokeh.io.notebook as ion; ion.destroy_server('\" + server_id + \"')\";\n",
              "      cell.notebook.kernel.execute(cmd);\n",
              "    }\n",
              "  }\n",
              "\n",
              "  /**\n",
              "   * Handle when a new output is added\n",
              "   */\n",
              "  function handleAddOutput(event, handle) {\n",
              "    var output_area = handle.output_area;\n",
              "    var output = handle.output;\n",
              "\n",
              "    // limit handleAddOutput to display_data with EXEC_MIME_TYPE content only\n",
              "    if ((output.output_type != \"display_data\") || (!Object.prototype.hasOwnProperty.call(output.data, EXEC_MIME_TYPE))) {\n",
              "      return\n",
              "    }\n",
              "\n",
              "    var toinsert = output_area.element.find(\".\" + CLASS_NAME.split(' ')[0]);\n",
              "\n",
              "    if (output.metadata[EXEC_MIME_TYPE][\"id\"] !== undefined) {\n",
              "      toinsert[toinsert.length - 1].firstChild.textContent = output.data[JS_MIME_TYPE];\n",
              "      // store reference to embed id on output_area\n",
              "      output_area._bokeh_element_id = output.metadata[EXEC_MIME_TYPE][\"id\"];\n",
              "    }\n",
              "    if (output.metadata[EXEC_MIME_TYPE][\"server_id\"] !== undefined) {\n",
              "      var bk_div = document.createElement(\"div\");\n",
              "      bk_div.innerHTML = output.data[HTML_MIME_TYPE];\n",
              "      var script_attrs = bk_div.children[0].attributes;\n",
              "      for (var i = 0; i < script_attrs.length; i++) {\n",
              "        toinsert[toinsert.length - 1].firstChild.setAttribute(script_attrs[i].name, script_attrs[i].value);\n",
              "        toinsert[toinsert.length - 1].firstChild.textContent = bk_div.children[0].textContent\n",
              "      }\n",
              "      // store reference to server id on output_area\n",
              "      output_area._bokeh_server_id = output.metadata[EXEC_MIME_TYPE][\"server_id\"];\n",
              "    }\n",
              "  }\n",
              "\n",
              "  function register_renderer(events, OutputArea) {\n",
              "\n",
              "    function append_mime(data, metadata, element) {\n",
              "      // create a DOM node to render to\n",
              "      var toinsert = this.create_output_subarea(\n",
              "        metadata,\n",
              "        CLASS_NAME,\n",
              "        EXEC_MIME_TYPE\n",
              "      );\n",
              "      this.keyboard_manager.register_events(toinsert);\n",
              "      // Render to node\n",
              "      var props = {data: data, metadata: metadata[EXEC_MIME_TYPE]};\n",
              "      render(props, toinsert[toinsert.length - 1]);\n",
              "      element.append(toinsert);\n",
              "      return toinsert\n",
              "    }\n",
              "\n",
              "    /* Handle when an output is cleared or removed */\n",
              "    events.on('clear_output.CodeCell', handleClearOutput);\n",
              "    events.on('delete.Cell', handleClearOutput);\n",
              "\n",
              "    /* Handle when a new output is added */\n",
              "    events.on('output_added.OutputArea', handleAddOutput);\n",
              "\n",
              "    /**\n",
              "     * Register the mime type and append_mime function with output_area\n",
              "     */\n",
              "    OutputArea.prototype.register_mime_type(EXEC_MIME_TYPE, append_mime, {\n",
              "      /* Is output safe? */\n",
              "      safe: true,\n",
              "      /* Index of renderer in `output_area.display_order` */\n",
              "      index: 0\n",
              "    });\n",
              "  }\n",
              "\n",
              "  // register the mime type if in Jupyter Notebook environment and previously unregistered\n",
              "  if (root.Jupyter !== undefined) {\n",
              "    var events = require('base/js/events');\n",
              "    var OutputArea = require('notebook/js/outputarea').OutputArea;\n",
              "\n",
              "    if (OutputArea.prototype.mime_types().indexOf(EXEC_MIME_TYPE) == -1) {\n",
              "      register_renderer(events, OutputArea);\n",
              "    }\n",
              "  }\n",
              "\n",
              "  \n",
              "  if (typeof (root._bokeh_timeout) === \"undefined\" || force === true) {\n",
              "    root._bokeh_timeout = Date.now() + 5000;\n",
              "    root._bokeh_failed_load = false;\n",
              "  }\n",
              "\n",
              "  var NB_LOAD_WARNING = {'data': {'text/html':\n",
              "     \"<div style='background-color: #fdd'>\\n\"+\n",
              "     \"<p>\\n\"+\n",
              "     \"BokehJS does not appear to have successfully loaded. If loading BokehJS from CDN, this \\n\"+\n",
              "     \"may be due to a slow or bad network connection. Possible fixes:\\n\"+\n",
              "     \"</p>\\n\"+\n",
              "     \"<ul>\\n\"+\n",
              "     \"<li>re-rerun `output_notebook()` to attempt to load from CDN again, or</li>\\n\"+\n",
              "     \"<li>use INLINE resources instead, as so:</li>\\n\"+\n",
              "     \"</ul>\\n\"+\n",
              "     \"<code>\\n\"+\n",
              "     \"from bokeh.resources import INLINE\\n\"+\n",
              "     \"output_notebook(resources=INLINE)\\n\"+\n",
              "     \"</code>\\n\"+\n",
              "     \"</div>\"}};\n",
              "\n",
              "  function display_loaded() {\n",
              "    var el = document.getElementById(null);\n",
              "    if (el != null) {\n",
              "      el.textContent = \"BokehJS is loading...\";\n",
              "    }\n",
              "    if (root.Bokeh !== undefined) {\n",
              "      if (el != null) {\n",
              "        el.textContent = \"BokehJS \" + root.Bokeh.version + \" successfully loaded.\";\n",
              "      }\n",
              "    } else if (Date.now() < root._bokeh_timeout) {\n",
              "      setTimeout(display_loaded, 100)\n",
              "    }\n",
              "  }\n",
              "\n",
              "\n",
              "  function run_callbacks() {\n",
              "    try {\n",
              "      root._bokeh_onload_callbacks.forEach(function(callback) {\n",
              "        if (callback != null)\n",
              "          callback();\n",
              "      });\n",
              "    } finally {\n",
              "      delete root._bokeh_onload_callbacks\n",
              "    }\n",
              "    console.debug(\"Bokeh: all callbacks have finished\");\n",
              "  }\n",
              "\n",
              "  function load_libs(css_urls, js_urls, callback) {\n",
              "    if (css_urls == null) css_urls = [];\n",
              "    if (js_urls == null) js_urls = [];\n",
              "\n",
              "    root._bokeh_onload_callbacks.push(callback);\n",
              "    if (root._bokeh_is_loading > 0) {\n",
              "      console.debug(\"Bokeh: BokehJS is being loaded, scheduling callback at\", now());\n",
              "      return null;\n",
              "    }\n",
              "    if (js_urls == null || js_urls.length === 0) {\n",
              "      run_callbacks();\n",
              "      return null;\n",
              "    }\n",
              "    console.debug(\"Bokeh: BokehJS not loaded, scheduling load and callback at\", now());\n",
              "    root._bokeh_is_loading = css_urls.length + js_urls.length;\n",
              "\n",
              "    function on_load() {\n",
              "      root._bokeh_is_loading--;\n",
              "      if (root._bokeh_is_loading === 0) {\n",
              "        console.debug(\"Bokeh: all BokehJS libraries/stylesheets loaded\");\n",
              "        run_callbacks()\n",
              "      }\n",
              "    }\n",
              "\n",
              "    function on_error(url) {\n",
              "      console.error(\"failed to load \" + url);\n",
              "    }\n",
              "\n",
              "    for (let i = 0; i < css_urls.length; i++) {\n",
              "      const url = css_urls[i];\n",
              "      const element = document.createElement(\"link\");\n",
              "      element.onload = on_load;\n",
              "      element.onerror = on_error.bind(null, url);\n",
              "      element.rel = \"stylesheet\";\n",
              "      element.type = \"text/css\";\n",
              "      element.href = url;\n",
              "      console.debug(\"Bokeh: injecting link tag for BokehJS stylesheet: \", url);\n",
              "      document.body.appendChild(element);\n",
              "    }\n",
              "\n",
              "    const hashes = {\"https://cdn.bokeh.org/bokeh/release/bokeh-2.3.3.min.js\": \"dM3QQsP+wXdHg42wTqW85BjZQdLNNIXqlPw/BgKoExPmTG7ZLML4EGqLMfqHT6ON\", \"https://cdn.bokeh.org/bokeh/release/bokeh-tables-2.3.3.min.js\": \"8x57I4YuIfu8XyZfFo0XVr2WAT8EK4rh/uDe3wF7YuW2FNUSNEpJbsPaB1nJ2fz2\", \"https://cdn.bokeh.org/bokeh/release/bokeh-widgets-2.3.3.min.js\": \"3QTqdz9LyAm2i0sG5XTePsHec3UHWwVsrOL68SYRoAXsafvfAyqtQ+h440+qIBhS\"};\n",
              "\n",
              "    for (let i = 0; i < js_urls.length; i++) {\n",
              "      const url = js_urls[i];\n",
              "      const element = document.createElement('script');\n",
              "      element.onload = on_load;\n",
              "      element.onerror = on_error.bind(null, url);\n",
              "      element.async = false;\n",
              "      element.src = url;\n",
              "      if (url in hashes) {\n",
              "        element.crossOrigin = \"anonymous\";\n",
              "        element.integrity = \"sha384-\" + hashes[url];\n",
              "      }\n",
              "      console.debug(\"Bokeh: injecting script tag for BokehJS library: \", url);\n",
              "      document.head.appendChild(element);\n",
              "    }\n",
              "  };\n",
              "\n",
              "  function inject_raw_css(css) {\n",
              "    const element = document.createElement(\"style\");\n",
              "    element.appendChild(document.createTextNode(css));\n",
              "    document.body.appendChild(element);\n",
              "  }\n",
              "\n",
              "  \n",
              "  var js_urls = [\"https://cdn.bokeh.org/bokeh/release/bokeh-2.3.3.min.js\", \"https://cdn.bokeh.org/bokeh/release/bokeh-widgets-2.3.3.min.js\", \"https://cdn.bokeh.org/bokeh/release/bokeh-tables-2.3.3.min.js\"];\n",
              "  var css_urls = [];\n",
              "  \n",
              "\n",
              "  var inline_js = [\n",
              "    function(Bokeh) {\n",
              "      Bokeh.set_log_level(\"info\");\n",
              "    },\n",
              "    function(Bokeh) {\n",
              "    \n",
              "    \n",
              "    }\n",
              "  ];\n",
              "\n",
              "  function run_inline_js() {\n",
              "    \n",
              "    if (root.Bokeh !== undefined || force === true) {\n",
              "      \n",
              "    for (var i = 0; i < inline_js.length; i++) {\n",
              "      inline_js[i].call(root, root.Bokeh);\n",
              "    }\n",
              "    } else if (Date.now() < root._bokeh_timeout) {\n",
              "      setTimeout(run_inline_js, 100);\n",
              "    } else if (!root._bokeh_failed_load) {\n",
              "      console.log(\"Bokeh: BokehJS failed to load within specified timeout.\");\n",
              "      root._bokeh_failed_load = true;\n",
              "    } else if (force !== true) {\n",
              "      var cell = $(document.getElementById(null)).parents('.cell').data().cell;\n",
              "      cell.output_area.append_execute_result(NB_LOAD_WARNING)\n",
              "    }\n",
              "\n",
              "  }\n",
              "\n",
              "  if (root._bokeh_is_loading === 0) {\n",
              "    console.debug(\"Bokeh: BokehJS loaded, going straight to plotting\");\n",
              "    run_inline_js();\n",
              "  } else {\n",
              "    load_libs(css_urls, js_urls, function() {\n",
              "      console.debug(\"Bokeh: BokehJS plotting callback run at\", now());\n",
              "      run_inline_js();\n",
              "    });\n",
              "  }\n",
              "}(window));"
            ],
            "application/vnd.bokehjs_load.v0+json": "\n(function(root) {\n  function now() {\n    return new Date();\n  }\n\n  var force = true;\n\n  if (typeof root._bokeh_onload_callbacks === \"undefined\" || force === true) {\n    root._bokeh_onload_callbacks = [];\n    root._bokeh_is_loading = undefined;\n  }\n\n  \n\n  \n  if (typeof (root._bokeh_timeout) === \"undefined\" || force === true) {\n    root._bokeh_timeout = Date.now() + 5000;\n    root._bokeh_failed_load = false;\n  }\n\n  var NB_LOAD_WARNING = {'data': {'text/html':\n     \"<div style='background-color: #fdd'>\\n\"+\n     \"<p>\\n\"+\n     \"BokehJS does not appear to have successfully loaded. If loading BokehJS from CDN, this \\n\"+\n     \"may be due to a slow or bad network connection. Possible fixes:\\n\"+\n     \"</p>\\n\"+\n     \"<ul>\\n\"+\n     \"<li>re-rerun `output_notebook()` to attempt to load from CDN again, or</li>\\n\"+\n     \"<li>use INLINE resources instead, as so:</li>\\n\"+\n     \"</ul>\\n\"+\n     \"<code>\\n\"+\n     \"from bokeh.resources import INLINE\\n\"+\n     \"output_notebook(resources=INLINE)\\n\"+\n     \"</code>\\n\"+\n     \"</div>\"}};\n\n  function display_loaded() {\n    var el = document.getElementById(null);\n    if (el != null) {\n      el.textContent = \"BokehJS is loading...\";\n    }\n    if (root.Bokeh !== undefined) {\n      if (el != null) {\n        el.textContent = \"BokehJS \" + root.Bokeh.version + \" successfully loaded.\";\n      }\n    } else if (Date.now() < root._bokeh_timeout) {\n      setTimeout(display_loaded, 100)\n    }\n  }\n\n\n  function run_callbacks() {\n    try {\n      root._bokeh_onload_callbacks.forEach(function(callback) {\n        if (callback != null)\n          callback();\n      });\n    } finally {\n      delete root._bokeh_onload_callbacks\n    }\n    console.debug(\"Bokeh: all callbacks have finished\");\n  }\n\n  function load_libs(css_urls, js_urls, callback) {\n    if (css_urls == null) css_urls = [];\n    if (js_urls == null) js_urls = [];\n\n    root._bokeh_onload_callbacks.push(callback);\n    if (root._bokeh_is_loading > 0) {\n      console.debug(\"Bokeh: BokehJS is being loaded, scheduling callback at\", now());\n      return null;\n    }\n    if (js_urls == null || js_urls.length === 0) {\n      run_callbacks();\n      return null;\n    }\n    console.debug(\"Bokeh: BokehJS not loaded, scheduling load and callback at\", now());\n    root._bokeh_is_loading = css_urls.length + js_urls.length;\n\n    function on_load() {\n      root._bokeh_is_loading--;\n      if (root._bokeh_is_loading === 0) {\n        console.debug(\"Bokeh: all BokehJS libraries/stylesheets loaded\");\n        run_callbacks()\n      }\n    }\n\n    function on_error(url) {\n      console.error(\"failed to load \" + url);\n    }\n\n    for (let i = 0; i < css_urls.length; i++) {\n      const url = css_urls[i];\n      const element = document.createElement(\"link\");\n      element.onload = on_load;\n      element.onerror = on_error.bind(null, url);\n      element.rel = \"stylesheet\";\n      element.type = \"text/css\";\n      element.href = url;\n      console.debug(\"Bokeh: injecting link tag for BokehJS stylesheet: \", url);\n      document.body.appendChild(element);\n    }\n\n    const hashes = {\"https://cdn.bokeh.org/bokeh/release/bokeh-2.3.3.min.js\": \"dM3QQsP+wXdHg42wTqW85BjZQdLNNIXqlPw/BgKoExPmTG7ZLML4EGqLMfqHT6ON\", \"https://cdn.bokeh.org/bokeh/release/bokeh-tables-2.3.3.min.js\": \"8x57I4YuIfu8XyZfFo0XVr2WAT8EK4rh/uDe3wF7YuW2FNUSNEpJbsPaB1nJ2fz2\", \"https://cdn.bokeh.org/bokeh/release/bokeh-widgets-2.3.3.min.js\": \"3QTqdz9LyAm2i0sG5XTePsHec3UHWwVsrOL68SYRoAXsafvfAyqtQ+h440+qIBhS\"};\n\n    for (let i = 0; i < js_urls.length; i++) {\n      const url = js_urls[i];\n      const element = document.createElement('script');\n      element.onload = on_load;\n      element.onerror = on_error.bind(null, url);\n      element.async = false;\n      element.src = url;\n      if (url in hashes) {\n        element.crossOrigin = \"anonymous\";\n        element.integrity = \"sha384-\" + hashes[url];\n      }\n      console.debug(\"Bokeh: injecting script tag for BokehJS library: \", url);\n      document.head.appendChild(element);\n    }\n  };\n\n  function inject_raw_css(css) {\n    const element = document.createElement(\"style\");\n    element.appendChild(document.createTextNode(css));\n    document.body.appendChild(element);\n  }\n\n  \n  var js_urls = [\"https://cdn.bokeh.org/bokeh/release/bokeh-2.3.3.min.js\", \"https://cdn.bokeh.org/bokeh/release/bokeh-widgets-2.3.3.min.js\", \"https://cdn.bokeh.org/bokeh/release/bokeh-tables-2.3.3.min.js\"];\n  var css_urls = [];\n  \n\n  var inline_js = [\n    function(Bokeh) {\n      Bokeh.set_log_level(\"info\");\n    },\n    function(Bokeh) {\n    \n    \n    }\n  ];\n\n  function run_inline_js() {\n    \n    if (root.Bokeh !== undefined || force === true) {\n      \n    for (var i = 0; i < inline_js.length; i++) {\n      inline_js[i].call(root, root.Bokeh);\n    }\n    } else if (Date.now() < root._bokeh_timeout) {\n      setTimeout(run_inline_js, 100);\n    } else if (!root._bokeh_failed_load) {\n      console.log(\"Bokeh: BokehJS failed to load within specified timeout.\");\n      root._bokeh_failed_load = true;\n    } else if (force !== true) {\n      var cell = $(document.getElementById(null)).parents('.cell').data().cell;\n      cell.output_area.append_execute_result(NB_LOAD_WARNING)\n    }\n\n  }\n\n  if (root._bokeh_is_loading === 0) {\n    console.debug(\"Bokeh: BokehJS loaded, going straight to plotting\");\n    run_inline_js();\n  } else {\n    load_libs(css_urls, js_urls, function() {\n      console.debug(\"Bokeh: BokehJS plotting callback run at\", now());\n      run_inline_js();\n    });\n  }\n}(window));"
          },
          "metadata": {}
        },
        {
          "output_type": "display_data",
          "data": {
            "text/html": [
              "\n",
              "\n",
              "\n",
              "\n",
              "\n",
              "\n",
              "  <div class=\"bk-root\" id=\"8ed8c835-5081-41d2-80b6-1b5545e639cf\" data-root-id=\"2201\"></div>\n"
            ]
          },
          "metadata": {}
        },
        {
          "output_type": "display_data",
          "data": {
            "application/javascript": [
              "(function(root) {\n",
              "  function embed_document(root) {\n",
              "    \n",
              "  var docs_json = {\"152c1a82-6a67-411e-9138-ef9caceb7400\":{\"defs\":[],\"roots\":{\"references\":[{\"attributes\":{\"below\":[{\"id\":\"2211\"}],\"center\":[{\"id\":\"2213\"},{\"id\":\"2217\"}],\"height\":400,\"left\":[{\"id\":\"2214\"}],\"renderers\":[{\"id\":\"2223\"}],\"title\":{\"id\":\"2202\"},\"toolbar\":{\"id\":\"2218\"},\"toolbar_location\":null,\"width\":1000,\"x_range\":{\"id\":\"2200\"},\"x_scale\":{\"id\":\"2207\"},\"y_range\":{\"id\":\"2205\"},\"y_scale\":{\"id\":\"2209\"}},\"id\":\"2201\",\"subtype\":\"Figure\",\"type\":\"Plot\"},{\"attributes\":{},\"id\":\"2285\",\"type\":\"AllLabels\"},{\"attributes\":{\"start\":0},\"id\":\"2205\",\"type\":\"DataRange1d\"},{\"attributes\":{\"text\":\"Loan Status Counts by Education\"},\"id\":\"2202\",\"type\":\"Title\"},{\"attributes\":{\"fill_color\":{\"field\":\"x\",\"transform\":{\"id\":\"2219\"}},\"line_color\":{\"value\":\"white\"},\"top\":{\"field\":\"counts\"},\"x\":{\"field\":\"x\"}},\"id\":\"2221\",\"type\":\"VBar\"},{\"attributes\":{\"fill_alpha\":{\"value\":0.1},\"fill_color\":{\"field\":\"x\",\"transform\":{\"id\":\"2219\"}},\"line_alpha\":{\"value\":0.1},\"line_color\":{\"value\":\"white\"},\"top\":{\"field\":\"counts\"},\"x\":{\"field\":\"x\"}},\"id\":\"2222\",\"type\":\"VBar\"},{\"attributes\":{\"formatter\":{\"id\":\"2280\"},\"major_label_orientation\":1,\"major_label_policy\":{\"id\":\"2282\"},\"ticker\":{\"id\":\"2212\"}},\"id\":\"2211\",\"type\":\"CategoricalAxis\"},{\"attributes\":{},\"id\":\"2212\",\"type\":\"CategoricalTicker\"},{\"attributes\":{},\"id\":\"2280\",\"type\":\"CategoricalTickFormatter\"},{\"attributes\":{},\"id\":\"2286\",\"type\":\"UnionRenderers\"},{\"attributes\":{},\"id\":\"2287\",\"type\":\"Selection\"},{\"attributes\":{},\"id\":\"2282\",\"type\":\"AllLabels\"},{\"attributes\":{\"axis\":{\"id\":\"2214\"},\"dimension\":1,\"ticker\":null},\"id\":\"2217\",\"type\":\"Grid\"},{\"attributes\":{\"data\":{\"counts\":[150,860,21,162,896,31,85,494,16,243,1393,34],\"x\":[[\"High School\",\"Yes\"],[\"High School\",\"No\"],[\"High School\",\"Unknown\"],[\"Pre High School\",\"Yes\"],[\"Pre High School\",\"No\"],[\"Pre High School\",\"Unknown\"],[\"Professional Course\",\"Yes\"],[\"Professional Course\",\"No\"],[\"Professional Course\",\"Unknown\"],[\"University Degree\",\"Yes\"],[\"University Degree\",\"No\"],[\"University Degree\",\"Unknown\"]]},\"selected\":{\"id\":\"2287\"},\"selection_policy\":{\"id\":\"2286\"}},\"id\":\"2199\",\"type\":\"ColumnDataSource\"},{\"attributes\":{\"data_source\":{\"id\":\"2199\"},\"glyph\":{\"id\":\"2221\"},\"hover_glyph\":null,\"muted_glyph\":null,\"nonselection_glyph\":{\"id\":\"2222\"},\"view\":{\"id\":\"2224\"}},\"id\":\"2223\",\"type\":\"GlyphRenderer\"},{\"attributes\":{},\"id\":\"2207\",\"type\":\"CategoricalScale\"},{\"attributes\":{\"end\":2,\"factors\":[\"Yes\",\"No\",\"Unknown\"],\"palette\":[\"#3288bd\",\"#99d594\",\"#e6f598\",\"#fee08b\",\"#fc8d59\",\"#d53e4f\"],\"start\":1},\"id\":\"2219\",\"type\":\"CategoricalColorMapper\"},{\"attributes\":{},\"id\":\"2215\",\"type\":\"BasicTicker\"},{\"attributes\":{\"factors\":[[\"High School\",\"Yes\"],[\"High School\",\"No\"],[\"High School\",\"Unknown\"],[\"Pre High School\",\"Yes\"],[\"Pre High School\",\"No\"],[\"Pre High School\",\"Unknown\"],[\"Professional Course\",\"Yes\"],[\"Professional Course\",\"No\"],[\"Professional Course\",\"Unknown\"],[\"University Degree\",\"Yes\"],[\"University Degree\",\"No\"],[\"University Degree\",\"Unknown\"]],\"range_padding\":0.1},\"id\":\"2200\",\"type\":\"FactorRange\"},{\"attributes\":{\"active_multi\":null},\"id\":\"2218\",\"type\":\"Toolbar\"},{\"attributes\":{\"axis_label\":\"Count\",\"formatter\":{\"id\":\"2283\"},\"major_label_policy\":{\"id\":\"2285\"},\"ticker\":{\"id\":\"2215\"}},\"id\":\"2214\",\"type\":\"LinearAxis\"},{\"attributes\":{},\"id\":\"2209\",\"type\":\"LinearScale\"},{\"attributes\":{\"source\":{\"id\":\"2199\"}},\"id\":\"2224\",\"type\":\"CDSView\"},{\"attributes\":{\"axis\":{\"id\":\"2211\"},\"grid_line_color\":null,\"ticker\":null},\"id\":\"2213\",\"type\":\"Grid\"},{\"attributes\":{},\"id\":\"2283\",\"type\":\"BasicTickFormatter\"}],\"root_ids\":[\"2201\"]},\"title\":\"Bokeh Application\",\"version\":\"2.3.3\"}};\n",
              "  var render_items = [{\"docid\":\"152c1a82-6a67-411e-9138-ef9caceb7400\",\"root_ids\":[\"2201\"],\"roots\":{\"2201\":\"8ed8c835-5081-41d2-80b6-1b5545e639cf\"}}];\n",
              "  root.Bokeh.embed.embed_items_notebook(docs_json, render_items);\n",
              "\n",
              "  }\n",
              "  if (root.Bokeh !== undefined) {\n",
              "    embed_document(root);\n",
              "  } else {\n",
              "    var attempts = 0;\n",
              "    var timer = setInterval(function(root) {\n",
              "      if (root.Bokeh !== undefined) {\n",
              "        clearInterval(timer);\n",
              "        embed_document(root);\n",
              "      } else {\n",
              "        attempts++;\n",
              "        if (attempts > 100) {\n",
              "          clearInterval(timer);\n",
              "          console.log(\"Bokeh: ERROR: Unable to run BokehJS code because BokehJS library is missing\");\n",
              "        }\n",
              "      }\n",
              "    }, 10, root)\n",
              "  }\n",
              "})(window);"
            ],
            "application/vnd.bokehjs_exec.v0+json": ""
          },
          "metadata": {
            "application/vnd.bokehjs_exec.v0+json": {
              "id": "2201"
            }
          }
        }
      ]
    },
    {
      "cell_type": "code",
      "source": [
        "# Percentage of each loan groups for every education level\n",
        "banking_edu_loan = banking_yes.groupby(['education','loan']).agg({'Subscribed (Yes/No)': 'count'})\n",
        "banking_loan_perct = banking_edu_loan.groupby(level=0).apply(lambda x:100 * x / float(x.sum()))\n",
        "banking_loan_perct\n",
        "\n",
        "# which eductaion and loan pair has the highest subscription rate?\n",
        "output_file(\"education_loan_pct.html\")\n",
        "\n",
        "education_level = ['High School', 'Pre High School', 'Professional Course', 'University Degree']\n",
        "loan_status = ['Yes', 'No', 'Unknown']\n",
        "\n",
        "data = {'education' : education_level,\n",
        "        'Yes': [14.5, 14.8, 14.3, 14.6],\n",
        "        'No': [83.4, 82.2, 83, 83.4],\n",
        "        'Unknown': [2, 2.8, 2.7, 2]}\n",
        "\n",
        "x = [ (education, loan) for education in education_level for loan in loan_status ]\n",
        "counts = sum(zip(data['Yes'], data['No'], data['Unknown']), ())\n",
        "\n",
        "source = ColumnDataSource(data=dict(x=x, counts=counts))\n",
        "\n",
        "p_1 = figure(x_range=FactorRange(*x), width = 1000, height=400, title=\"Success Rate for Each Loan Group of Every Education Level\",\n",
        "           y_axis_label = 'Percentage', toolbar_location=None, tools=\"\")\n",
        "\n",
        "p_1.vbar(x='x', top='counts', width=1, source=source, line_color=\"white\", \n",
        "       fill_color=factor_cmap('x', palette=Spectral6, factors=loan_status, start=1, end=2))\n",
        "\n",
        "p_1.y_range.start = 0\n",
        "p_1.x_range.range_padding = 0.1\n",
        "p_1.xaxis.major_label_orientation = 1\n",
        "p_1.xgrid.grid_line_color = None\n",
        "\n",
        "show(p_1)"
      ],
      "metadata": {
        "colab": {
          "base_uri": "https://localhost:8080/",
          "height": 417
        },
        "id": "_1g3iVT_TaRV",
        "outputId": "c539c33a-9161-40d3-9039-1f5cadac733e"
      },
      "execution_count": null,
      "outputs": [
        {
          "output_type": "display_data",
          "data": {
            "application/javascript": [
              "\n",
              "(function(root) {\n",
              "  function now() {\n",
              "    return new Date();\n",
              "  }\n",
              "\n",
              "  var force = true;\n",
              "\n",
              "  if (typeof root._bokeh_onload_callbacks === \"undefined\" || force === true) {\n",
              "    root._bokeh_onload_callbacks = [];\n",
              "    root._bokeh_is_loading = undefined;\n",
              "  }\n",
              "\n",
              "  var JS_MIME_TYPE = 'application/javascript';\n",
              "  var HTML_MIME_TYPE = 'text/html';\n",
              "  var EXEC_MIME_TYPE = 'application/vnd.bokehjs_exec.v0+json';\n",
              "  var CLASS_NAME = 'output_bokeh rendered_html';\n",
              "\n",
              "  /**\n",
              "   * Render data to the DOM node\n",
              "   */\n",
              "  function render(props, node) {\n",
              "    var script = document.createElement(\"script\");\n",
              "    node.appendChild(script);\n",
              "  }\n",
              "\n",
              "  /**\n",
              "   * Handle when an output is cleared or removed\n",
              "   */\n",
              "  function handleClearOutput(event, handle) {\n",
              "    var cell = handle.cell;\n",
              "\n",
              "    var id = cell.output_area._bokeh_element_id;\n",
              "    var server_id = cell.output_area._bokeh_server_id;\n",
              "    // Clean up Bokeh references\n",
              "    if (id != null && id in Bokeh.index) {\n",
              "      Bokeh.index[id].model.document.clear();\n",
              "      delete Bokeh.index[id];\n",
              "    }\n",
              "\n",
              "    if (server_id !== undefined) {\n",
              "      // Clean up Bokeh references\n",
              "      var cmd = \"from bokeh.io.state import curstate; print(curstate().uuid_to_server['\" + server_id + \"'].get_sessions()[0].document.roots[0]._id)\";\n",
              "      cell.notebook.kernel.execute(cmd, {\n",
              "        iopub: {\n",
              "          output: function(msg) {\n",
              "            var id = msg.content.text.trim();\n",
              "            if (id in Bokeh.index) {\n",
              "              Bokeh.index[id].model.document.clear();\n",
              "              delete Bokeh.index[id];\n",
              "            }\n",
              "          }\n",
              "        }\n",
              "      });\n",
              "      // Destroy server and session\n",
              "      var cmd = \"import bokeh.io.notebook as ion; ion.destroy_server('\" + server_id + \"')\";\n",
              "      cell.notebook.kernel.execute(cmd);\n",
              "    }\n",
              "  }\n",
              "\n",
              "  /**\n",
              "   * Handle when a new output is added\n",
              "   */\n",
              "  function handleAddOutput(event, handle) {\n",
              "    var output_area = handle.output_area;\n",
              "    var output = handle.output;\n",
              "\n",
              "    // limit handleAddOutput to display_data with EXEC_MIME_TYPE content only\n",
              "    if ((output.output_type != \"display_data\") || (!Object.prototype.hasOwnProperty.call(output.data, EXEC_MIME_TYPE))) {\n",
              "      return\n",
              "    }\n",
              "\n",
              "    var toinsert = output_area.element.find(\".\" + CLASS_NAME.split(' ')[0]);\n",
              "\n",
              "    if (output.metadata[EXEC_MIME_TYPE][\"id\"] !== undefined) {\n",
              "      toinsert[toinsert.length - 1].firstChild.textContent = output.data[JS_MIME_TYPE];\n",
              "      // store reference to embed id on output_area\n",
              "      output_area._bokeh_element_id = output.metadata[EXEC_MIME_TYPE][\"id\"];\n",
              "    }\n",
              "    if (output.metadata[EXEC_MIME_TYPE][\"server_id\"] !== undefined) {\n",
              "      var bk_div = document.createElement(\"div\");\n",
              "      bk_div.innerHTML = output.data[HTML_MIME_TYPE];\n",
              "      var script_attrs = bk_div.children[0].attributes;\n",
              "      for (var i = 0; i < script_attrs.length; i++) {\n",
              "        toinsert[toinsert.length - 1].firstChild.setAttribute(script_attrs[i].name, script_attrs[i].value);\n",
              "        toinsert[toinsert.length - 1].firstChild.textContent = bk_div.children[0].textContent\n",
              "      }\n",
              "      // store reference to server id on output_area\n",
              "      output_area._bokeh_server_id = output.metadata[EXEC_MIME_TYPE][\"server_id\"];\n",
              "    }\n",
              "  }\n",
              "\n",
              "  function register_renderer(events, OutputArea) {\n",
              "\n",
              "    function append_mime(data, metadata, element) {\n",
              "      // create a DOM node to render to\n",
              "      var toinsert = this.create_output_subarea(\n",
              "        metadata,\n",
              "        CLASS_NAME,\n",
              "        EXEC_MIME_TYPE\n",
              "      );\n",
              "      this.keyboard_manager.register_events(toinsert);\n",
              "      // Render to node\n",
              "      var props = {data: data, metadata: metadata[EXEC_MIME_TYPE]};\n",
              "      render(props, toinsert[toinsert.length - 1]);\n",
              "      element.append(toinsert);\n",
              "      return toinsert\n",
              "    }\n",
              "\n",
              "    /* Handle when an output is cleared or removed */\n",
              "    events.on('clear_output.CodeCell', handleClearOutput);\n",
              "    events.on('delete.Cell', handleClearOutput);\n",
              "\n",
              "    /* Handle when a new output is added */\n",
              "    events.on('output_added.OutputArea', handleAddOutput);\n",
              "\n",
              "    /**\n",
              "     * Register the mime type and append_mime function with output_area\n",
              "     */\n",
              "    OutputArea.prototype.register_mime_type(EXEC_MIME_TYPE, append_mime, {\n",
              "      /* Is output safe? */\n",
              "      safe: true,\n",
              "      /* Index of renderer in `output_area.display_order` */\n",
              "      index: 0\n",
              "    });\n",
              "  }\n",
              "\n",
              "  // register the mime type if in Jupyter Notebook environment and previously unregistered\n",
              "  if (root.Jupyter !== undefined) {\n",
              "    var events = require('base/js/events');\n",
              "    var OutputArea = require('notebook/js/outputarea').OutputArea;\n",
              "\n",
              "    if (OutputArea.prototype.mime_types().indexOf(EXEC_MIME_TYPE) == -1) {\n",
              "      register_renderer(events, OutputArea);\n",
              "    }\n",
              "  }\n",
              "\n",
              "  \n",
              "  if (typeof (root._bokeh_timeout) === \"undefined\" || force === true) {\n",
              "    root._bokeh_timeout = Date.now() + 5000;\n",
              "    root._bokeh_failed_load = false;\n",
              "  }\n",
              "\n",
              "  var NB_LOAD_WARNING = {'data': {'text/html':\n",
              "     \"<div style='background-color: #fdd'>\\n\"+\n",
              "     \"<p>\\n\"+\n",
              "     \"BokehJS does not appear to have successfully loaded. If loading BokehJS from CDN, this \\n\"+\n",
              "     \"may be due to a slow or bad network connection. Possible fixes:\\n\"+\n",
              "     \"</p>\\n\"+\n",
              "     \"<ul>\\n\"+\n",
              "     \"<li>re-rerun `output_notebook()` to attempt to load from CDN again, or</li>\\n\"+\n",
              "     \"<li>use INLINE resources instead, as so:</li>\\n\"+\n",
              "     \"</ul>\\n\"+\n",
              "     \"<code>\\n\"+\n",
              "     \"from bokeh.resources import INLINE\\n\"+\n",
              "     \"output_notebook(resources=INLINE)\\n\"+\n",
              "     \"</code>\\n\"+\n",
              "     \"</div>\"}};\n",
              "\n",
              "  function display_loaded() {\n",
              "    var el = document.getElementById(null);\n",
              "    if (el != null) {\n",
              "      el.textContent = \"BokehJS is loading...\";\n",
              "    }\n",
              "    if (root.Bokeh !== undefined) {\n",
              "      if (el != null) {\n",
              "        el.textContent = \"BokehJS \" + root.Bokeh.version + \" successfully loaded.\";\n",
              "      }\n",
              "    } else if (Date.now() < root._bokeh_timeout) {\n",
              "      setTimeout(display_loaded, 100)\n",
              "    }\n",
              "  }\n",
              "\n",
              "\n",
              "  function run_callbacks() {\n",
              "    try {\n",
              "      root._bokeh_onload_callbacks.forEach(function(callback) {\n",
              "        if (callback != null)\n",
              "          callback();\n",
              "      });\n",
              "    } finally {\n",
              "      delete root._bokeh_onload_callbacks\n",
              "    }\n",
              "    console.debug(\"Bokeh: all callbacks have finished\");\n",
              "  }\n",
              "\n",
              "  function load_libs(css_urls, js_urls, callback) {\n",
              "    if (css_urls == null) css_urls = [];\n",
              "    if (js_urls == null) js_urls = [];\n",
              "\n",
              "    root._bokeh_onload_callbacks.push(callback);\n",
              "    if (root._bokeh_is_loading > 0) {\n",
              "      console.debug(\"Bokeh: BokehJS is being loaded, scheduling callback at\", now());\n",
              "      return null;\n",
              "    }\n",
              "    if (js_urls == null || js_urls.length === 0) {\n",
              "      run_callbacks();\n",
              "      return null;\n",
              "    }\n",
              "    console.debug(\"Bokeh: BokehJS not loaded, scheduling load and callback at\", now());\n",
              "    root._bokeh_is_loading = css_urls.length + js_urls.length;\n",
              "\n",
              "    function on_load() {\n",
              "      root._bokeh_is_loading--;\n",
              "      if (root._bokeh_is_loading === 0) {\n",
              "        console.debug(\"Bokeh: all BokehJS libraries/stylesheets loaded\");\n",
              "        run_callbacks()\n",
              "      }\n",
              "    }\n",
              "\n",
              "    function on_error(url) {\n",
              "      console.error(\"failed to load \" + url);\n",
              "    }\n",
              "\n",
              "    for (let i = 0; i < css_urls.length; i++) {\n",
              "      const url = css_urls[i];\n",
              "      const element = document.createElement(\"link\");\n",
              "      element.onload = on_load;\n",
              "      element.onerror = on_error.bind(null, url);\n",
              "      element.rel = \"stylesheet\";\n",
              "      element.type = \"text/css\";\n",
              "      element.href = url;\n",
              "      console.debug(\"Bokeh: injecting link tag for BokehJS stylesheet: \", url);\n",
              "      document.body.appendChild(element);\n",
              "    }\n",
              "\n",
              "    const hashes = {\"https://cdn.bokeh.org/bokeh/release/bokeh-2.3.3.min.js\": \"dM3QQsP+wXdHg42wTqW85BjZQdLNNIXqlPw/BgKoExPmTG7ZLML4EGqLMfqHT6ON\", \"https://cdn.bokeh.org/bokeh/release/bokeh-tables-2.3.3.min.js\": \"8x57I4YuIfu8XyZfFo0XVr2WAT8EK4rh/uDe3wF7YuW2FNUSNEpJbsPaB1nJ2fz2\", \"https://cdn.bokeh.org/bokeh/release/bokeh-widgets-2.3.3.min.js\": \"3QTqdz9LyAm2i0sG5XTePsHec3UHWwVsrOL68SYRoAXsafvfAyqtQ+h440+qIBhS\"};\n",
              "\n",
              "    for (let i = 0; i < js_urls.length; i++) {\n",
              "      const url = js_urls[i];\n",
              "      const element = document.createElement('script');\n",
              "      element.onload = on_load;\n",
              "      element.onerror = on_error.bind(null, url);\n",
              "      element.async = false;\n",
              "      element.src = url;\n",
              "      if (url in hashes) {\n",
              "        element.crossOrigin = \"anonymous\";\n",
              "        element.integrity = \"sha384-\" + hashes[url];\n",
              "      }\n",
              "      console.debug(\"Bokeh: injecting script tag for BokehJS library: \", url);\n",
              "      document.head.appendChild(element);\n",
              "    }\n",
              "  };\n",
              "\n",
              "  function inject_raw_css(css) {\n",
              "    const element = document.createElement(\"style\");\n",
              "    element.appendChild(document.createTextNode(css));\n",
              "    document.body.appendChild(element);\n",
              "  }\n",
              "\n",
              "  \n",
              "  var js_urls = [\"https://cdn.bokeh.org/bokeh/release/bokeh-2.3.3.min.js\", \"https://cdn.bokeh.org/bokeh/release/bokeh-widgets-2.3.3.min.js\", \"https://cdn.bokeh.org/bokeh/release/bokeh-tables-2.3.3.min.js\"];\n",
              "  var css_urls = [];\n",
              "  \n",
              "\n",
              "  var inline_js = [\n",
              "    function(Bokeh) {\n",
              "      Bokeh.set_log_level(\"info\");\n",
              "    },\n",
              "    function(Bokeh) {\n",
              "    \n",
              "    \n",
              "    }\n",
              "  ];\n",
              "\n",
              "  function run_inline_js() {\n",
              "    \n",
              "    if (root.Bokeh !== undefined || force === true) {\n",
              "      \n",
              "    for (var i = 0; i < inline_js.length; i++) {\n",
              "      inline_js[i].call(root, root.Bokeh);\n",
              "    }\n",
              "    } else if (Date.now() < root._bokeh_timeout) {\n",
              "      setTimeout(run_inline_js, 100);\n",
              "    } else if (!root._bokeh_failed_load) {\n",
              "      console.log(\"Bokeh: BokehJS failed to load within specified timeout.\");\n",
              "      root._bokeh_failed_load = true;\n",
              "    } else if (force !== true) {\n",
              "      var cell = $(document.getElementById(null)).parents('.cell').data().cell;\n",
              "      cell.output_area.append_execute_result(NB_LOAD_WARNING)\n",
              "    }\n",
              "\n",
              "  }\n",
              "\n",
              "  if (root._bokeh_is_loading === 0) {\n",
              "    console.debug(\"Bokeh: BokehJS loaded, going straight to plotting\");\n",
              "    run_inline_js();\n",
              "  } else {\n",
              "    load_libs(css_urls, js_urls, function() {\n",
              "      console.debug(\"Bokeh: BokehJS plotting callback run at\", now());\n",
              "      run_inline_js();\n",
              "    });\n",
              "  }\n",
              "}(window));"
            ],
            "application/vnd.bokehjs_load.v0+json": "\n(function(root) {\n  function now() {\n    return new Date();\n  }\n\n  var force = true;\n\n  if (typeof root._bokeh_onload_callbacks === \"undefined\" || force === true) {\n    root._bokeh_onload_callbacks = [];\n    root._bokeh_is_loading = undefined;\n  }\n\n  \n\n  \n  if (typeof (root._bokeh_timeout) === \"undefined\" || force === true) {\n    root._bokeh_timeout = Date.now() + 5000;\n    root._bokeh_failed_load = false;\n  }\n\n  var NB_LOAD_WARNING = {'data': {'text/html':\n     \"<div style='background-color: #fdd'>\\n\"+\n     \"<p>\\n\"+\n     \"BokehJS does not appear to have successfully loaded. If loading BokehJS from CDN, this \\n\"+\n     \"may be due to a slow or bad network connection. Possible fixes:\\n\"+\n     \"</p>\\n\"+\n     \"<ul>\\n\"+\n     \"<li>re-rerun `output_notebook()` to attempt to load from CDN again, or</li>\\n\"+\n     \"<li>use INLINE resources instead, as so:</li>\\n\"+\n     \"</ul>\\n\"+\n     \"<code>\\n\"+\n     \"from bokeh.resources import INLINE\\n\"+\n     \"output_notebook(resources=INLINE)\\n\"+\n     \"</code>\\n\"+\n     \"</div>\"}};\n\n  function display_loaded() {\n    var el = document.getElementById(null);\n    if (el != null) {\n      el.textContent = \"BokehJS is loading...\";\n    }\n    if (root.Bokeh !== undefined) {\n      if (el != null) {\n        el.textContent = \"BokehJS \" + root.Bokeh.version + \" successfully loaded.\";\n      }\n    } else if (Date.now() < root._bokeh_timeout) {\n      setTimeout(display_loaded, 100)\n    }\n  }\n\n\n  function run_callbacks() {\n    try {\n      root._bokeh_onload_callbacks.forEach(function(callback) {\n        if (callback != null)\n          callback();\n      });\n    } finally {\n      delete root._bokeh_onload_callbacks\n    }\n    console.debug(\"Bokeh: all callbacks have finished\");\n  }\n\n  function load_libs(css_urls, js_urls, callback) {\n    if (css_urls == null) css_urls = [];\n    if (js_urls == null) js_urls = [];\n\n    root._bokeh_onload_callbacks.push(callback);\n    if (root._bokeh_is_loading > 0) {\n      console.debug(\"Bokeh: BokehJS is being loaded, scheduling callback at\", now());\n      return null;\n    }\n    if (js_urls == null || js_urls.length === 0) {\n      run_callbacks();\n      return null;\n    }\n    console.debug(\"Bokeh: BokehJS not loaded, scheduling load and callback at\", now());\n    root._bokeh_is_loading = css_urls.length + js_urls.length;\n\n    function on_load() {\n      root._bokeh_is_loading--;\n      if (root._bokeh_is_loading === 0) {\n        console.debug(\"Bokeh: all BokehJS libraries/stylesheets loaded\");\n        run_callbacks()\n      }\n    }\n\n    function on_error(url) {\n      console.error(\"failed to load \" + url);\n    }\n\n    for (let i = 0; i < css_urls.length; i++) {\n      const url = css_urls[i];\n      const element = document.createElement(\"link\");\n      element.onload = on_load;\n      element.onerror = on_error.bind(null, url);\n      element.rel = \"stylesheet\";\n      element.type = \"text/css\";\n      element.href = url;\n      console.debug(\"Bokeh: injecting link tag for BokehJS stylesheet: \", url);\n      document.body.appendChild(element);\n    }\n\n    const hashes = {\"https://cdn.bokeh.org/bokeh/release/bokeh-2.3.3.min.js\": \"dM3QQsP+wXdHg42wTqW85BjZQdLNNIXqlPw/BgKoExPmTG7ZLML4EGqLMfqHT6ON\", \"https://cdn.bokeh.org/bokeh/release/bokeh-tables-2.3.3.min.js\": \"8x57I4YuIfu8XyZfFo0XVr2WAT8EK4rh/uDe3wF7YuW2FNUSNEpJbsPaB1nJ2fz2\", \"https://cdn.bokeh.org/bokeh/release/bokeh-widgets-2.3.3.min.js\": \"3QTqdz9LyAm2i0sG5XTePsHec3UHWwVsrOL68SYRoAXsafvfAyqtQ+h440+qIBhS\"};\n\n    for (let i = 0; i < js_urls.length; i++) {\n      const url = js_urls[i];\n      const element = document.createElement('script');\n      element.onload = on_load;\n      element.onerror = on_error.bind(null, url);\n      element.async = false;\n      element.src = url;\n      if (url in hashes) {\n        element.crossOrigin = \"anonymous\";\n        element.integrity = \"sha384-\" + hashes[url];\n      }\n      console.debug(\"Bokeh: injecting script tag for BokehJS library: \", url);\n      document.head.appendChild(element);\n    }\n  };\n\n  function inject_raw_css(css) {\n    const element = document.createElement(\"style\");\n    element.appendChild(document.createTextNode(css));\n    document.body.appendChild(element);\n  }\n\n  \n  var js_urls = [\"https://cdn.bokeh.org/bokeh/release/bokeh-2.3.3.min.js\", \"https://cdn.bokeh.org/bokeh/release/bokeh-widgets-2.3.3.min.js\", \"https://cdn.bokeh.org/bokeh/release/bokeh-tables-2.3.3.min.js\"];\n  var css_urls = [];\n  \n\n  var inline_js = [\n    function(Bokeh) {\n      Bokeh.set_log_level(\"info\");\n    },\n    function(Bokeh) {\n    \n    \n    }\n  ];\n\n  function run_inline_js() {\n    \n    if (root.Bokeh !== undefined || force === true) {\n      \n    for (var i = 0; i < inline_js.length; i++) {\n      inline_js[i].call(root, root.Bokeh);\n    }\n    } else if (Date.now() < root._bokeh_timeout) {\n      setTimeout(run_inline_js, 100);\n    } else if (!root._bokeh_failed_load) {\n      console.log(\"Bokeh: BokehJS failed to load within specified timeout.\");\n      root._bokeh_failed_load = true;\n    } else if (force !== true) {\n      var cell = $(document.getElementById(null)).parents('.cell').data().cell;\n      cell.output_area.append_execute_result(NB_LOAD_WARNING)\n    }\n\n  }\n\n  if (root._bokeh_is_loading === 0) {\n    console.debug(\"Bokeh: BokehJS loaded, going straight to plotting\");\n    run_inline_js();\n  } else {\n    load_libs(css_urls, js_urls, function() {\n      console.debug(\"Bokeh: BokehJS plotting callback run at\", now());\n      run_inline_js();\n    });\n  }\n}(window));"
          },
          "metadata": {}
        },
        {
          "output_type": "display_data",
          "data": {
            "text/html": [
              "\n",
              "\n",
              "\n",
              "\n",
              "\n",
              "\n",
              "  <div class=\"bk-root\" id=\"26f9c187-a941-4c99-bef7-3baf4e389419\" data-root-id=\"2435\"></div>\n"
            ]
          },
          "metadata": {}
        },
        {
          "output_type": "display_data",
          "data": {
            "application/javascript": [
              "(function(root) {\n",
              "  function embed_document(root) {\n",
              "    \n",
              "  var docs_json = {\"ff323ed5-d29b-433d-8bd9-0c5da8c6c4a5\":{\"defs\":[],\"roots\":{\"references\":[{\"attributes\":{\"below\":[{\"id\":\"2445\"}],\"center\":[{\"id\":\"2447\"},{\"id\":\"2451\"}],\"height\":400,\"left\":[{\"id\":\"2448\"}],\"renderers\":[{\"id\":\"2457\"}],\"title\":{\"id\":\"2436\"},\"toolbar\":{\"id\":\"2452\"},\"toolbar_location\":null,\"width\":1000,\"x_range\":{\"id\":\"2434\"},\"x_scale\":{\"id\":\"2441\"},\"y_range\":{\"id\":\"2439\"},\"y_scale\":{\"id\":\"2443\"}},\"id\":\"2435\",\"subtype\":\"Figure\",\"type\":\"Plot\"},{\"attributes\":{},\"id\":\"2526\",\"type\":\"BasicTickFormatter\"},{\"attributes\":{\"text\":\"Success Rate for Each Loan Group of Every Education Level\"},\"id\":\"2436\",\"type\":\"Title\"},{\"attributes\":{},\"id\":\"2529\",\"type\":\"UnionRenderers\"},{\"attributes\":{},\"id\":\"2443\",\"type\":\"LinearScale\"},{\"attributes\":{},\"id\":\"2446\",\"type\":\"CategoricalTicker\"},{\"attributes\":{\"source\":{\"id\":\"2433\"}},\"id\":\"2458\",\"type\":\"CDSView\"},{\"attributes\":{\"start\":0},\"id\":\"2439\",\"type\":\"DataRange1d\"},{\"attributes\":{\"fill_alpha\":{\"value\":0.1},\"fill_color\":{\"field\":\"x\",\"transform\":{\"id\":\"2453\"}},\"line_alpha\":{\"value\":0.1},\"line_color\":{\"value\":\"white\"},\"top\":{\"field\":\"counts\"},\"x\":{\"field\":\"x\"}},\"id\":\"2456\",\"type\":\"VBar\"},{\"attributes\":{},\"id\":\"2441\",\"type\":\"CategoricalScale\"},{\"attributes\":{\"fill_color\":{\"field\":\"x\",\"transform\":{\"id\":\"2453\"}},\"line_color\":{\"value\":\"white\"},\"top\":{\"field\":\"counts\"},\"x\":{\"field\":\"x\"}},\"id\":\"2455\",\"type\":\"VBar\"},{\"attributes\":{\"axis\":{\"id\":\"2445\"},\"grid_line_color\":null,\"ticker\":null},\"id\":\"2447\",\"type\":\"Grid\"},{\"attributes\":{},\"id\":\"2528\",\"type\":\"AllLabels\"},{\"attributes\":{},\"id\":\"2449\",\"type\":\"BasicTicker\"},{\"attributes\":{\"formatter\":{\"id\":\"2523\"},\"major_label_orientation\":1,\"major_label_policy\":{\"id\":\"2525\"},\"ticker\":{\"id\":\"2446\"}},\"id\":\"2445\",\"type\":\"CategoricalAxis\"},{\"attributes\":{\"data\":{\"counts\":[14.5,83.4,2,14.8,82.2,2.8,14.3,83,2.7,14.6,83.4,2],\"x\":[[\"High School\",\"Yes\"],[\"High School\",\"No\"],[\"High School\",\"Unknown\"],[\"Pre High School\",\"Yes\"],[\"Pre High School\",\"No\"],[\"Pre High School\",\"Unknown\"],[\"Professional Course\",\"Yes\"],[\"Professional Course\",\"No\"],[\"Professional Course\",\"Unknown\"],[\"University Degree\",\"Yes\"],[\"University Degree\",\"No\"],[\"University Degree\",\"Unknown\"]]},\"selected\":{\"id\":\"2530\"},\"selection_policy\":{\"id\":\"2529\"}},\"id\":\"2433\",\"type\":\"ColumnDataSource\"},{\"attributes\":{},\"id\":\"2523\",\"type\":\"CategoricalTickFormatter\"},{\"attributes\":{\"active_multi\":null},\"id\":\"2452\",\"type\":\"Toolbar\"},{\"attributes\":{\"axis\":{\"id\":\"2448\"},\"dimension\":1,\"ticker\":null},\"id\":\"2451\",\"type\":\"Grid\"},{\"attributes\":{\"data_source\":{\"id\":\"2433\"},\"glyph\":{\"id\":\"2455\"},\"hover_glyph\":null,\"muted_glyph\":null,\"nonselection_glyph\":{\"id\":\"2456\"},\"view\":{\"id\":\"2458\"}},\"id\":\"2457\",\"type\":\"GlyphRenderer\"},{\"attributes\":{\"factors\":[[\"High School\",\"Yes\"],[\"High School\",\"No\"],[\"High School\",\"Unknown\"],[\"Pre High School\",\"Yes\"],[\"Pre High School\",\"No\"],[\"Pre High School\",\"Unknown\"],[\"Professional Course\",\"Yes\"],[\"Professional Course\",\"No\"],[\"Professional Course\",\"Unknown\"],[\"University Degree\",\"Yes\"],[\"University Degree\",\"No\"],[\"University Degree\",\"Unknown\"]],\"range_padding\":0.1},\"id\":\"2434\",\"type\":\"FactorRange\"},{\"attributes\":{\"end\":2,\"factors\":[\"Yes\",\"No\",\"Unknown\"],\"palette\":[\"#3288bd\",\"#99d594\",\"#e6f598\",\"#fee08b\",\"#fc8d59\",\"#d53e4f\"],\"start\":1},\"id\":\"2453\",\"type\":\"CategoricalColorMapper\"},{\"attributes\":{\"axis_label\":\"Percentage\",\"formatter\":{\"id\":\"2526\"},\"major_label_policy\":{\"id\":\"2528\"},\"ticker\":{\"id\":\"2449\"}},\"id\":\"2448\",\"type\":\"LinearAxis\"},{\"attributes\":{},\"id\":\"2525\",\"type\":\"AllLabels\"},{\"attributes\":{},\"id\":\"2530\",\"type\":\"Selection\"}],\"root_ids\":[\"2435\"]},\"title\":\"Bokeh Application\",\"version\":\"2.3.3\"}};\n",
              "  var render_items = [{\"docid\":\"ff323ed5-d29b-433d-8bd9-0c5da8c6c4a5\",\"root_ids\":[\"2435\"],\"roots\":{\"2435\":\"26f9c187-a941-4c99-bef7-3baf4e389419\"}}];\n",
              "  root.Bokeh.embed.embed_items_notebook(docs_json, render_items);\n",
              "\n",
              "  }\n",
              "  if (root.Bokeh !== undefined) {\n",
              "    embed_document(root);\n",
              "  } else {\n",
              "    var attempts = 0;\n",
              "    var timer = setInterval(function(root) {\n",
              "      if (root.Bokeh !== undefined) {\n",
              "        clearInterval(timer);\n",
              "        embed_document(root);\n",
              "      } else {\n",
              "        attempts++;\n",
              "        if (attempts > 100) {\n",
              "          clearInterval(timer);\n",
              "          console.log(\"Bokeh: ERROR: Unable to run BokehJS code because BokehJS library is missing\");\n",
              "        }\n",
              "      }\n",
              "    }, 10, root)\n",
              "  }\n",
              "})(window);"
            ],
            "application/vnd.bokehjs_exec.v0+json": ""
          },
          "metadata": {
            "application/vnd.bokehjs_exec.v0+json": {
              "id": "2435"
            }
          }
        }
      ]
    },
    {
      "cell_type": "markdown",
      "source": [
        "Based on the above analysis and visualizations we can conclude the following:\n",
        "\n",
        "1. Across all education levels, customers who do not have any personal loan are significantly more likely to subscribe to bank service than those who do;\n",
        "\n",
        "2. The campaign has the highest success rate among customers with a **high school education background and with no personal loan**: approximately 84.3% of such customers subscribed to the bank services. In addition, the success rate among customers with a **university degree and have no personal loan** comes in a close second with a 0.0001 margin in percentage.\n",
        "\n",
        "3. Customers who come from a professional course background and with a personal loan are least likely to subscribe to the bank service, with the lowest success rate of 14.2%.\n",
        "\n",
        "Thus, we would advice our marketing campaign to focus on customers **without a personal loan, and are either high school or college graduates**. "
      ],
      "metadata": {
        "id": "cMFWkau3Trxl"
      }
    },
    {
      "cell_type": "markdown",
      "source": [
        "###**[Question 2.5] Analyzing the Relationship Between job profile and Loan Status among those subscribed to bank services**"
      ],
      "metadata": {
        "id": "_lq9-bn4op_e"
      }
    },
    {
      "cell_type": "code",
      "source": [
        "import seaborn as sns\n",
        "import matplotlib.pyplot as plt\n",
        "%matplotlib inline\n",
        "plt.figure(figsize=(10,6))\n",
        "sns.histplot(binwidth=10, x=\"job\", hue=\"housing\", data=banking, stat=\"count\", multiple=\"stack\")\n",
        "plt.xticks(rotation='45');"
      ],
      "metadata": {
        "colab": {
          "base_uri": "https://localhost:8080/",
          "height": 426
        },
        "id": "UjtLoBfwjPGd",
        "outputId": "302fbc69-6408-4c79-e39b-cfe8c563fe7a"
      },
      "execution_count": null,
      "outputs": [
        {
          "output_type": "display_data",
          "data": {
            "text/plain": [
              "<Figure size 720x432 with 1 Axes>"
            ],
            "image/png": "[encoded data removed]"
          },
          "metadata": {
            "needs_background": "light"
          }
        }
      ]
    },
    {
      "cell_type": "markdown",
      "source": [
        "The ratio between those having a housing loan and those who don't does not change significantly between people having different job types. Therefor, it can be concluded and reiterated from an above section that housing loan does not have a significant impact on whether or not someone subscribes for banking services. This graph highlights that job status is the more important indicator of "
      ],
      "metadata": {
        "id": "9L3rWK-Xpp8X"
      }
    },
    {
      "cell_type": "markdown",
      "source": [
        "##Topic 3: Impact of Campaign on the Clients"
      ],
      "metadata": {
        "id": "-yinpYZIOeSn"
      }
    },
    {
      "cell_type": "markdown",
      "source": [
        "###**[Question 3.1] How does the previous campaign outcome influence the marketing strategy?**\n",
        "\n",
        "We aim to drill-down on the interaction between previous campaign outcome and the subscription rate. "
      ],
      "metadata": {
        "id": "0waDGUu9qUW0"
      }
    },
    {
      "cell_type": "code",
      "source": [
        "yxpoutcome = pd.crosstab(index=banking['poutcome'],\n",
        "            columns=banking['Subscribed (Yes/No)'])\n",
        "yxpoutcome.style.set_caption(\"Table 1\")"
      ],
      "metadata": {
        "colab": {
          "base_uri": "https://localhost:8080/",
          "height": 192
        },
        "id": "n_yIj839RIh6",
        "outputId": "4cfe7cd4-01c2-44f9-8915-02cb938f4b67"
      },
      "execution_count": null,
      "outputs": [
        {
          "output_type": "execute_result",
          "data": {
            "text/plain": [
              "<pandas.io.formats.style.Styler at 0x7fd4b7750130>"
            ],
            "text/html": [
              "<style type=\"text/css\">\n",
              "</style>\n",
              "<table id=\"T_49a31_\" class=\"dataframe\">\n",
              "  <caption>Table 1</caption>\n",
              "  <thead>\n",
              "    <tr>\n",
              "      <th class=\"index_name level0\" >Subscribed (Yes/No)</th>\n",
              "      <th class=\"col_heading level0 col0\" >no</th>\n",
              "      <th class=\"col_heading level0 col1\" >yes</th>\n",
              "    </tr>\n",
              "    <tr>\n",
              "      <th class=\"index_name level0\" >poutcome</th>\n",
              "      <th class=\"blank col0\" >&nbsp;</th>\n",
              "      <th class=\"blank col1\" >&nbsp;</th>\n",
              "    </tr>\n",
              "  </thead>\n",
              "  <tbody>\n",
              "    <tr>\n",
              "      <th id=\"T_49a31_level0_row0\" class=\"row_heading level0 row0\" >failure</th>\n",
              "      <td id=\"T_49a31_row0_col0\" class=\"data row0 col0\" >3647</td>\n",
              "      <td id=\"T_49a31_row0_col1\" class=\"data row0 col1\" >605</td>\n",
              "    </tr>\n",
              "    <tr>\n",
              "      <th id=\"T_49a31_level0_row1\" class=\"row_heading level0 row1\" >nonexistent</th>\n",
              "      <td id=\"T_49a31_row1_col0\" class=\"data row1 col0\" >32422</td>\n",
              "      <td id=\"T_49a31_row1_col1\" class=\"data row1 col1\" >3141</td>\n",
              "    </tr>\n",
              "    <tr>\n",
              "      <th id=\"T_49a31_level0_row2\" class=\"row_heading level0 row2\" >success</th>\n",
              "      <td id=\"T_49a31_row2_col0\" class=\"data row2 col0\" >479</td>\n",
              "      <td id=\"T_49a31_row2_col1\" class=\"data row2 col1\" >894</td>\n",
              "    </tr>\n",
              "  </tbody>\n",
              "</table>\n"
            ]
          },
          "metadata": {},
          "execution_count": 144
        }
      ]
    },
    {
      "cell_type": "code",
      "source": [
        "yxpoutcome_prop = pd.crosstab(index=banking['poutcome'],\n",
        "            columns=banking['Subscribed (Yes/No)'],\n",
        "            normalize = 'index')\n",
        "yxpoutcome_prop.style.set_caption(\"Table 2\")"
      ],
      "metadata": {
        "colab": {
          "base_uri": "https://localhost:8080/",
          "height": 192
        },
        "id": "C9sPPgaBRM-6",
        "outputId": "c37b620b-f612-4987-93fb-02d798a13a13"
      },
      "execution_count": null,
      "outputs": [
        {
          "output_type": "execute_result",
          "data": {
            "text/plain": [
              "<pandas.io.formats.style.Styler at 0x7fd4b7b3bd90>"
            ],
            "text/html": [
              "<style type=\"text/css\">\n",
              "</style>\n",
              "<table id=\"T_484b0_\" class=\"dataframe\">\n",
              "  <caption>Table 2</caption>\n",
              "  <thead>\n",
              "    <tr>\n",
              "      <th class=\"index_name level0\" >Subscribed (Yes/No)</th>\n",
              "      <th class=\"col_heading level0 col0\" >no</th>\n",
              "      <th class=\"col_heading level0 col1\" >yes</th>\n",
              "    </tr>\n",
              "    <tr>\n",
              "      <th class=\"index_name level0\" >poutcome</th>\n",
              "      <th class=\"blank col0\" >&nbsp;</th>\n",
              "      <th class=\"blank col1\" >&nbsp;</th>\n",
              "    </tr>\n",
              "  </thead>\n",
              "  <tbody>\n",
              "    <tr>\n",
              "      <th id=\"T_484b0_level0_row0\" class=\"row_heading level0 row0\" >failure</th>\n",
              "      <td id=\"T_484b0_row0_col0\" class=\"data row0 col0\" >0.857714</td>\n",
              "      <td id=\"T_484b0_row0_col1\" class=\"data row0 col1\" >0.142286</td>\n",
              "    </tr>\n",
              "    <tr>\n",
              "      <th id=\"T_484b0_level0_row1\" class=\"row_heading level0 row1\" >nonexistent</th>\n",
              "      <td id=\"T_484b0_row1_col0\" class=\"data row1 col0\" >0.911678</td>\n",
              "      <td id=\"T_484b0_row1_col1\" class=\"data row1 col1\" >0.088322</td>\n",
              "    </tr>\n",
              "    <tr>\n",
              "      <th id=\"T_484b0_level0_row2\" class=\"row_heading level0 row2\" >success</th>\n",
              "      <td id=\"T_484b0_row2_col0\" class=\"data row2 col0\" >0.348871</td>\n",
              "      <td id=\"T_484b0_row2_col1\" class=\"data row2 col1\" >0.651129</td>\n",
              "    </tr>\n",
              "  </tbody>\n",
              "</table>\n"
            ]
          },
          "metadata": {},
          "execution_count": 145
        }
      ]
    },
    {
      "cell_type": "markdown",
      "source": [
        "To normalize, we have converted the count of subscription result for each campaign outcome in Table 1 into percentage expression in Table 2.\n",
        "In the next step, we are going to visualize the success subscription rate for each outcome (\"failure\", \"nonexistent\", \"success\") obtained from the previous campaign."
      ],
      "metadata": {
        "id": "w5NM4p3JGEbv"
      }
    },
    {
      "cell_type": "code",
      "source": [
        "pd.crosstab(banking.poutcome,banking['Subscribed (Yes/No)']).plot(kind='bar', figsize = (10,10))\n",
        "plt.title('Subscription outcome by previous campaign outcome')\n",
        "plt.xlabel('Previous Campaign Outcome')\n",
        "plt.ylabel('Count of Subscription Outcome')\n",
        "plt.xticks(rotation = 0)\n",
        "\n",
        "for n, x in enumerate([*yxpoutcome.index.values]):\n",
        "    for (column, proportion, y_loc) in zip(yxpoutcome_prop,\n",
        "                                  yxpoutcome_prop.loc[x], \n",
        "                                   yxpoutcome_prop.loc[x].cumsum()):\n",
        "        if column == 'yes':\n",
        "          plt.text(x=n,\n",
        "                 y=y_loc,\n",
        "                 s=f'{np.round(proportion * 100, 1)}%', \n",
        "                 color=\"black\",\n",
        "                 fontsize=12,\n",
        "                 fontweight=\"bold\",\n",
        "                 ha='left', va='bottom'\n",
        "                 )"
      ],
      "metadata": {
        "colab": {
          "base_uri": "https://localhost:8080/",
          "height": 617
        },
        "id": "CAAG_JXZOdzT",
        "outputId": "3fc75ff4-eda1-4f35-af1b-e6035ce39c05"
      },
      "execution_count": null,
      "outputs": [
        {
          "output_type": "display_data",
          "data": {
            "text/plain": [
              "<Figure size 720x720 with 1 Axes>"
            ],
            "image/png": "[encoded data removed]"
          },
          "metadata": {
            "needs_background": "light"
          }
        }
      ]
    },
    {
      "cell_type": "markdown",
      "source": [
        "<i> The Y-axis represents the count of each subscription outcome. The percentage highlighted above refers to the percentage of clients who subscribed for each outcome.</i>\n",
        "\n",
        "The graph above shows that only campaign deemed as 'success' led to more subscription than non-subscription for term deposit - the subscription rate reached 65.1% when the campaign was deemed as 'success'. Also, even though the campaign could fail sometimes, there are clients who will subscribe to term deposit, and this successful subscription rate 14.2% is higher than that for clients who are never contacted ('nonexistent') 8.8% during campaign.\n",
        "\n",
        "***In other words, having a falied campaign produced better results than having no campaign!***"
      ],
      "metadata": {
        "id": "Kb8wcFSaRXYo"
      }
    },
    {
      "cell_type": "markdown",
      "source": [
        "###**[Question 3.2] Based on the previous campaign outcomes ('success', 'failure' and 'nonexistent'), what is the optimal number of times the bank should contact the clients?**\n",
        "\n",
        "We will normalize the count of every outcome result in each number of campaign contacts to the probability. This is spread out by 'previous', therefore the probability for each row adds up to 1. This is a Bayes' theorem, which means: Given the number of previous campaign contacts, the probability of success/failure is... . Through this crosstab, we can examine the interaction between poutcome and previous.\n",
        "\n"
      ],
      "metadata": {
        "id": "dkq8r0gKSOZK"
      }
    },
    {
      "cell_type": "code",
      "source": [
        "previousxpoutcome = pd.crosstab(index=banking['previous'],\n",
        "            columns=banking['poutcome'])\n",
        "\n",
        "previousxpoutcome_prop = pd.crosstab(index=banking['previous'],\n",
        "            columns=banking.poutcome,\n",
        "            normalize=\"index\")\n",
        "\n",
        "def swap_columns(previousxpoutcome_prop, col1, col2):\n",
        "    col_list = list(previousxpoutcome_prop.columns)\n",
        "    x, y = col_list.index(col1), col_list.index(col2)\n",
        "    col_list[y], col_list[x] = col_list[x], col_list[y]\n",
        "    previousxpoutcome_prop = previousxpoutcome_prop[col_list]\n",
        "    return previousxpoutcome_prop\n",
        "\n",
        "previousxpoutcome_prop = swap_columns(previousxpoutcome_prop, 'failure', 'success')\n",
        "\n",
        "previousxpoutcome_prop.plot(kind='bar', \n",
        "                    stacked=True, \n",
        "                    colormap='tab10',\n",
        "                    figsize=(10, 6))\n",
        "\n",
        "plt.legend(loc=\"lower right\", ncol=1)\n",
        "plt.xlabel(\"Number of previous contact\", rotation = 0)\n",
        "plt.ylabel(\"Outcome of the last contact\")\n",
        "plt.xticks(rotation = 0)\n",
        "\n",
        "plt.legend(loc='best', bbox_to_anchor=(0.7,0.53,0.5,0.5))\n",
        "\n",
        "for n, x in enumerate([*previousxpoutcome.index.values]):\n",
        "    for (column, proportion, y_loc) in zip(previousxpoutcome_prop,\n",
        "                                  previousxpoutcome_prop.loc[x], \n",
        "                                   previousxpoutcome_prop.loc[x].cumsum()):\n",
        "        if column == 'success':\n",
        "          plt.text(x=n,\n",
        "                 y=y_loc,\n",
        "                 s=f'{np.round(proportion * 100, 1)}%', \n",
        "                 color=\"black\",\n",
        "                 fontsize=12,\n",
        "                 fontweight=\"bold\",\n",
        "                 ha = 'center')\n",
        "\n",
        "\n",
        "plt.show()"
      ],
      "metadata": {
        "colab": {
          "base_uri": "https://localhost:8080/",
          "height": 389
        },
        "id": "f7k6Z-OMRRKU",
        "outputId": "c7bad5cd-0f6b-4f7a-80c7-e927955afd09"
      },
      "execution_count": null,
      "outputs": [
        {
          "output_type": "display_data",
          "data": {
            "text/plain": [
              "<Figure size 720x432 with 1 Axes>"
            ],
            "image/png": "[encoded data removed]"
          },
          "metadata": {
            "needs_background": "light"
          }
        }
      ]
    },
    {
      "cell_type": "markdown",
      "source": [
        "*The dark-blue shaded region ('success') showcases the percentage of success for each count of client contacted.*\n",
        "\n",
        "We can clearly see that the successful campaign rate rises as the number of contacts made per client increases. For example, when clients are contacted five times, the successful campaign rate reaches 83.3%. \n",
        "\n",
        "<i>**As the number of contacts made per client increases, the campaign success rate rises. This indicates that efforts made to contact clients does make an influence and improve the results**</i>\n",
        "\n",
        "\n"
      ],
      "metadata": {
        "id": "Pa_ABDA4TGF-"
      }
    },
    {
      "cell_type": "markdown",
      "source": [
        "## Topic 4: Details on the latest Contact made with the Client"
      ],
      "metadata": {
        "id": "yHTschOJVRTZ"
      }
    },
    {
      "cell_type": "markdown",
      "source": [
        "### **[Question 4.1] How does day of week play a role in impacting the client's decision to subscribe to bank services?**"
      ],
      "metadata": {
        "id": "OWOxkrgeVfzt"
      }
    },
    {
      "cell_type": "code",
      "source": [
        "banking_yes = banking[banking['Subscribed (Yes/No)'] == 'yes']\n",
        "\n",
        "a1 = banking_yes.day_of_week.value_counts()\n",
        "b1 = banking.day_of_week.value_counts()\n",
        "c1 = a1/b1\n",
        "c1.sort_values(ascending=False)\n",
        "c1.to_frame()"
      ],
      "metadata": {
        "colab": {
          "base_uri": "https://localhost:8080/",
          "height": 206
        },
        "id": "UN7br4WPj0vI",
        "outputId": "9481d620-5002-413c-d2c0-40c0c5d9fa41"
      },
      "execution_count": null,
      "outputs": [
        {
          "output_type": "execute_result",
          "data": {
            "text/plain": [
              "     day_of_week\n",
              "fri     0.108087\n",
              "mon     0.099483\n",
              "thu     0.121188\n",
              "tue     0.117800\n",
              "wed     0.116671"
            ],
            "text/html": [
              "\n",
              "  <div id=\"df-5ab0c09b-d12f-4bbe-a86c-068e5da8c867\">\n",
              "    <div class=\"colab-df-container\">\n",
              "      <div>\n",
              "<style scoped>\n",
              "    .dataframe tbody tr th:only-of-type {\n",
              "        vertical-align: middle;\n",
              "    }\n",
              "\n",
              "    .dataframe tbody tr th {\n",
              "        vertical-align: top;\n",
              "    }\n",
              "\n",
              "    .dataframe thead th {\n",
              "        text-align: right;\n",
              "    }\n",
              "</style>\n",
              "<table border=\"1\" class=\"dataframe\">\n",
              "  <thead>\n",
              "    <tr style=\"text-align: right;\">\n",
              "      <th></th>\n",
              "      <th>day_of_week</th>\n",
              "    </tr>\n",
              "  </thead>\n",
              "  <tbody>\n",
              "    <tr>\n",
              "      <th>fri</th>\n",
              "      <td>0.108087</td>\n",
              "    </tr>\n",
              "    <tr>\n",
              "      <th>mon</th>\n",
              "      <td>0.099483</td>\n",
              "    </tr>\n",
              "    <tr>\n",
              "      <th>thu</th>\n",
              "      <td>0.121188</td>\n",
              "    </tr>\n",
              "    <tr>\n",
              "      <th>tue</th>\n",
              "      <td>0.117800</td>\n",
              "    </tr>\n",
              "    <tr>\n",
              "      <th>wed</th>\n",
              "      <td>0.116671</td>\n",
              "    </tr>\n",
              "  </tbody>\n",
              "</table>\n",
              "</div>\n",
              "      <button class=\"colab-df-convert\" onclick=\"convertToInteractive('df-5ab0c09b-d12f-4bbe-a86c-068e5da8c867')\"\n",
              "              title=\"Convert this dataframe to an interactive table.\"\n",
              "              style=\"display:none;\">\n",
              "        \n",
              "  <svg xmlns=\"http://www.w3.org/2000/svg\" height=\"24px\"viewBox=\"0 0 24 24\"\n",
              "       width=\"24px\">\n",
              "    <path d=\"M0 0h24v24H0V0z\" fill=\"none\"/>\n",
              "    <path d=\"M18.56 5.44l.94 2.06.94-2.06 2.06-.94-2.06-.94-.94-2.06-.94 2.06-2.06.94zm-11 1L8.5 8.5l.94-2.06 2.06-.94-2.06-.94L8.5 2.5l-.94 2.06-2.06.94zm10 10l.94 2.06.94-2.06 2.06-.94-2.06-.94-.94-2.06-.94 2.06-2.06.94z\"/><path d=\"M17.41 7.96l-1.37-1.37c-.4-.4-.92-.59-1.43-.59-.52 0-1.04.2-1.43.59L10.3 9.45l-7.72 7.72c-.78.78-.78 2.05 0 2.83L4 21.41c.39.39.9.59 1.41.59.51 0 1.02-.2 1.41-.59l7.78-7.78 2.81-2.81c.8-.78.8-2.07 0-2.86zM5.41 20L4 18.59l7.72-7.72 1.47 1.35L5.41 20z\"/>\n",
              "  </svg>\n",
              "      </button>\n",
              "      \n",
              "  <style>\n",
              "    .colab-df-container {\n",
              "      display:flex;\n",
              "      flex-wrap:wrap;\n",
              "      gap: 12px;\n",
              "    }\n",
              "\n",
              "    .colab-df-convert {\n",
              "      background-color: #E8F0FE;\n",
              "      border: none;\n",
              "      border-radius: 50%;\n",
              "      cursor: pointer;\n",
              "      display: none;\n",
              "      fill: #1967D2;\n",
              "      height: 32px;\n",
              "      padding: 0 0 0 0;\n",
              "      width: 32px;\n",
              "    }\n",
              "\n",
              "    .colab-df-convert:hover {\n",
              "      background-color: #E2EBFA;\n",
              "      box-shadow: 0px 1px 2px rgba(60, 64, 67, 0.3), 0px 1px 3px 1px rgba(60, 64, 67, 0.15);\n",
              "      fill: #174EA6;\n",
              "    }\n",
              "\n",
              "    [theme=dark] .colab-df-convert {\n",
              "      background-color: #3B4455;\n",
              "      fill: #D2E3FC;\n",
              "    }\n",
              "\n",
              "    [theme=dark] .colab-df-convert:hover {\n",
              "      background-color: #434B5C;\n",
              "      box-shadow: 0px 1px 3px 1px rgba(0, 0, 0, 0.15);\n",
              "      filter: drop-shadow(0px 1px 2px rgba(0, 0, 0, 0.3));\n",
              "      fill: #FFFFFF;\n",
              "    }\n",
              "  </style>\n",
              "\n",
              "      <script>\n",
              "        const buttonEl =\n",
              "          document.querySelector('#df-5ab0c09b-d12f-4bbe-a86c-068e5da8c867 button.colab-df-convert');\n",
              "        buttonEl.style.display =\n",
              "          google.colab.kernel.accessAllowed ? 'block' : 'none';\n",
              "\n",
              "        async function convertToInteractive(key) {\n",
              "          const element = document.querySelector('#df-5ab0c09b-d12f-4bbe-a86c-068e5da8c867');\n",
              "          const dataTable =\n",
              "            await google.colab.kernel.invokeFunction('convertToInteractive',\n",
              "                                                     [key], {});\n",
              "          if (!dataTable) return;\n",
              "\n",
              "          const docLinkHtml = 'Like what you see? Visit the ' +\n",
              "            '<a target=\"_blank\" href=https://colab.research.google.com/notebooks/data_table.ipynb>data table notebook</a>'\n",
              "            + ' to learn more about interactive tables.';\n",
              "          element.innerHTML = '';\n",
              "          dataTable['output_type'] = 'display_data';\n",
              "          await google.colab.output.renderOutput(dataTable, element);\n",
              "          const docLink = document.createElement('div');\n",
              "          docLink.innerHTML = docLinkHtml;\n",
              "          element.appendChild(docLink);\n",
              "        }\n",
              "      </script>\n",
              "    </div>\n",
              "  </div>\n",
              "  "
            ]
          },
          "metadata": {},
          "execution_count": 148
        }
      ]
    },
    {
      "cell_type": "markdown",
      "source": [
        "**Day of week** has no individual significant impact on whether a person will subscribe to bank services. This shows that contacting the client any day of the week won't affect his decision!"
      ],
      "metadata": {
        "id": "qmEhTFYTWvIA"
      }
    },
    {
      "cell_type": "markdown",
      "source": [
        "### **[Question 4.2] What's the optimal call duration that leads to the highest subscription rate among customers?**"
      ],
      "metadata": {
        "id": "_heCDIsKW0DG"
      }
    },
    {
      "cell_type": "code",
      "source": [
        "duration_subscribed = banking[banking['Subscribed (Yes/No)'] == 'yes']['duration'].value_counts().sort_index(ascending=False)\n",
        "duration_not_subscribed = banking[banking['Subscribed (Yes/No)'] == 'no']['duration'].value_counts().sort_index(ascending=False)\n",
        "\n",
        "duration_subscribed_prop = round((duration_subscribed/(duration_not_subscribed+duration_subscribed))*100,2).sort_values(ascending = False)\n",
        "\n",
        "\n",
        "duration_subscribed_prop_df = duration_subscribed_prop.to_frame(name = 'Success Percentage')\n",
        "duration_subscribed_prop_df.reset_index(inplace = True)\n",
        "duration_subscribed_prop_df = duration_subscribed_prop_df.rename(columns = {'index':'duration (mins)'})\n",
        "duration_subscribed_prop_df.head(14)\n",
        "highlight= lambda x: ['background: red' if x.name in [0, 13] else '' for i in x]\n",
        "duration_subscribed_prop_df.style.apply(highlight,axis=1)"
      ],
      "metadata": {
        "id": "qYixnu0JW-Qo",
        "colab": {
          "base_uri": "https://localhost:8080/",
          "height": 175
        },
        "outputId": "d3a61125-2287-4560-ab87-ba222a186ade"
      },
      "execution_count": null,
      "outputs": [
        {
          "output_type": "execute_result",
          "data": {
            "text/plain": [
              "<pandas.io.formats.style.Styler at 0x7fd4b7724370>"
            ],
            "text/html": [
              "<style type=\"text/css\">\n",
              "#T_b9b29_row0_col0, #T_b9b29_row0_col1 {\n",
              "  background: red;\n",
              "}\n",
              "</style>\n",
              "<table id=\"T_b9b29_\" class=\"dataframe\">\n",
              "  <thead>\n",
              "    <tr>\n",
              "      <th class=\"blank level0\" >&nbsp;</th>\n",
              "      <th class=\"col_heading level0 col0\" >duration (mins)</th>\n",
              "      <th class=\"col_heading level0 col1\" >Success Percentage</th>\n",
              "    </tr>\n",
              "  </thead>\n",
              "  <tbody>\n",
              "    <tr>\n",
              "      <th id=\"T_b9b29_level0_row0\" class=\"row_heading level0 row0\" >0</th>\n",
              "      <td id=\"T_b9b29_row0_col0\" class=\"data row0 col0\" >20 - 30</td>\n",
              "      <td id=\"T_b9b29_row0_col1\" class=\"data row0 col1\" >63.040000</td>\n",
              "    </tr>\n",
              "    <tr>\n",
              "      <th id=\"T_b9b29_level0_row1\" class=\"row_heading level0 row1\" >1</th>\n",
              "      <td id=\"T_b9b29_row1_col0\" class=\"data row1 col0\" >30+</td>\n",
              "      <td id=\"T_b9b29_row1_col1\" class=\"data row1 col1\" >59.410000</td>\n",
              "    </tr>\n",
              "    <tr>\n",
              "      <th id=\"T_b9b29_level0_row2\" class=\"row_heading level0 row2\" >2</th>\n",
              "      <td id=\"T_b9b29_row2_col0\" class=\"data row2 col0\" >10 - 20</td>\n",
              "      <td id=\"T_b9b29_row2_col1\" class=\"data row2 col1\" >46.200000</td>\n",
              "    </tr>\n",
              "    <tr>\n",
              "      <th id=\"T_b9b29_level0_row3\" class=\"row_heading level0 row3\" >3</th>\n",
              "      <td id=\"T_b9b29_row3_col0\" class=\"data row3 col0\" >0 - 10</td>\n",
              "      <td id=\"T_b9b29_row3_col1\" class=\"data row3 col1\" >7.820000</td>\n",
              "    </tr>\n",
              "  </tbody>\n",
              "</table>\n"
            ]
          },
          "metadata": {},
          "execution_count": 149
        }
      ]
    },
    {
      "cell_type": "markdown",
      "source": [
        "**As call duration increases, the success rate for subscriptions increases(shown above).**\n",
        "\n",
        "Optimal contact duration appears to fall within 20-30 minutes. However, this is only up to the 50-minute call duration mark. Any call duration beyond 30-minutes shows diminishing success rate. This is surprising because a longer call time would be thought to ensue trust with the client. However, too long a call maybe becomes burdensome and leads to apprehension from the client. *As such, bank should take note of this when contacting the clients.*\n"
      ],
      "metadata": {
        "id": "Y7LzBldCXrBc"
      }
    },
    {
      "cell_type": "markdown",
      "source": [
        "###**[Question 4.3] What's the optimal number of times of contacting a customer can the bank expect the highest subscription rate?**"
      ],
      "metadata": {
        "id": "5TXSvCvgXtZk"
      }
    },
    {
      "cell_type": "code",
      "source": [
        "campaign_subscribed = banking[banking['Subscribed (Yes/No)'] == 'yes']['campaign'].value_counts().sort_index(ascending=False)\n",
        "campaign_not_subscribed = banking[banking['Subscribed (Yes/No)'] == 'no']['campaign'].value_counts().sort_index(ascending=False)\n",
        "\n",
        "campaign_subscribed_prop = round((campaign_subscribed/(campaign_not_subscribed+campaign_subscribed))*100,2).sort_values(ascending = False)\n",
        "campaign_subscribed_prop = campaign_subscribed_prop.to_frame(name = 'Success Percentage (%)')\n",
        "campaign_subscribed_prop.reset_index(inplace = True)\n",
        "\n",
        "campaign_subscribed_prop = campaign_subscribed_prop.rename(columns = {'index':'Number of Contacts'})\n",
        "campaign_subscribed_prop['Success Percentage (%)'] = round(campaign_subscribed_prop['Success Percentage (%)'], 2)\n",
        "highlight= lambda x: ['background: red' if x.name in [5,6] else '' for i in x]\n",
        "campaign_subscribed_prop.style.apply(highlight,axis=1)"
      ],
      "metadata": {
        "id": "q8yMXFvjYE8E",
        "colab": {
          "base_uri": "https://localhost:8080/"
        },
        "outputId": "3b1af87a-99a3-4ee1-a0b2-ac1a8592eafe"
      },
      "execution_count": null,
      "outputs": [
        {
          "output_type": "execute_result",
          "data": {
            "text/plain": [
              "<pandas.io.formats.style.Styler at 0x7fd4b7b34040>"
            ],
            "text/html": [
              "<style type=\"text/css\">\n",
              "#T_f7f78_row5_col0, #T_f7f78_row5_col1, #T_f7f78_row6_col0, #T_f7f78_row6_col1 {\n",
              "  background: red;\n",
              "}\n",
              "</style>\n",
              "<table id=\"T_f7f78_\" class=\"dataframe\">\n",
              "  <thead>\n",
              "    <tr>\n",
              "      <th class=\"blank level0\" >&nbsp;</th>\n",
              "      <th class=\"col_heading level0 col0\" >Number of Contacts</th>\n",
              "      <th class=\"col_heading level0 col1\" >Success Percentage (%)</th>\n",
              "    </tr>\n",
              "  </thead>\n",
              "  <tbody>\n",
              "    <tr>\n",
              "      <th id=\"T_f7f78_level0_row0\" class=\"row_heading level0 row0\" >0</th>\n",
              "      <td id=\"T_f7f78_row0_col0\" class=\"data row0 col0\" >0 - 5</td>\n",
              "      <td id=\"T_f7f78_row0_col1\" class=\"data row0 col1\" >11.970000</td>\n",
              "    </tr>\n",
              "    <tr>\n",
              "      <th id=\"T_f7f78_level0_row1\" class=\"row_heading level0 row1\" >1</th>\n",
              "      <td id=\"T_f7f78_row1_col0\" class=\"data row1 col0\" >5 - 10</td>\n",
              "      <td id=\"T_f7f78_row1_col1\" class=\"data row1 col1\" >6.860000</td>\n",
              "    </tr>\n",
              "    <tr>\n",
              "      <th id=\"T_f7f78_level0_row2\" class=\"row_heading level0 row2\" >2</th>\n",
              "      <td id=\"T_f7f78_row2_col0\" class=\"data row2 col0\" >10 - 15</td>\n",
              "      <td id=\"T_f7f78_row2_col1\" class=\"data row2 col1\" >4.650000</td>\n",
              "    </tr>\n",
              "    <tr>\n",
              "      <th id=\"T_f7f78_level0_row3\" class=\"row_heading level0 row3\" >3</th>\n",
              "      <td id=\"T_f7f78_row3_col0\" class=\"data row3 col0\" >15 - 20</td>\n",
              "      <td id=\"T_f7f78_row3_col1\" class=\"data row3 col1\" >2.740000</td>\n",
              "    </tr>\n",
              "    <tr>\n",
              "      <th id=\"T_f7f78_level0_row4\" class=\"row_heading level0 row4\" >4</th>\n",
              "      <td id=\"T_f7f78_row4_col0\" class=\"data row4 col0\" >20 - 25</td>\n",
              "      <td id=\"T_f7f78_row4_col1\" class=\"data row4 col1\" >0.980000</td>\n",
              "    </tr>\n",
              "    <tr>\n",
              "      <th id=\"T_f7f78_level0_row5\" class=\"row_heading level0 row5\" >5</th>\n",
              "      <td id=\"T_f7f78_row5_col0\" class=\"data row5 col0\" >25 - 30</td>\n",
              "      <td id=\"T_f7f78_row5_col1\" class=\"data row5 col1\" >nan</td>\n",
              "    </tr>\n",
              "    <tr>\n",
              "      <th id=\"T_f7f78_level0_row6\" class=\"row_heading level0 row6\" >6</th>\n",
              "      <td id=\"T_f7f78_row6_col0\" class=\"data row6 col0\" >30+</td>\n",
              "      <td id=\"T_f7f78_row6_col1\" class=\"data row6 col1\" >nan</td>\n",
              "    </tr>\n",
              "  </tbody>\n",
              "</table>\n"
            ]
          },
          "metadata": {},
          "execution_count": 150
        }
      ]
    },
    {
      "cell_type": "markdown",
      "source": [
        "Surprisingly, contacting a particular customer only between 0-5 times had the highest subscription rate.\n",
        "\n",
        "*Our hypothesis was that more someone was contacted, the more brand affinity they would have with the banking institution, and therefore subscribe more.* However, this was not the case. Success rate decreased as number of times of the contact made per client decreased. In fact, anyone contacted more frequently than bi-weekly (more than 25 times in 10 months), did not subscribe at all. \n",
        "\n",
        "<i>**As such, banking institutions should cap their marketing contact frequency to clients to bi-weekly max!**</i>\n"
      ],
      "metadata": {
        "id": "dIRIEqGXYMSa"
      }
    },
    {
      "cell_type": "markdown",
      "source": [
        "## Topic 5: Identifying optimal call duration based on contact type"
      ],
      "metadata": {
        "id": "h50n_qi3DBZf"
      }
    },
    {
      "cell_type": "code",
      "source": [
        "banking_subscribed = banking[banking['Subscribed (Yes/No)'] == 'yes']['duration'].value_counts().sort_index(ascending=False)\n",
        "banking_not_subscribed = banking[banking['Subscribed (Yes/No)'] == 'no']['duration'].value_counts().sort_index(ascending=False)\n",
        "\n",
        "banking_subscribed_prop = round((banking_subscribed/(banking_not_subscribed+banking_subscribed))*100,2).sort_values(ascending = False)\n",
        "banking_subscribed_prop = banking_subscribed_prop.to_frame(name = 'Success Percentage (%)')\n",
        "banking_subscribed_prop.reset_index(inplace = True)\n",
        "\n",
        "banking_subscribed_prop = banking_subscribed_prop.rename(columns = {'index':'Contact duration(mins)'})\n",
        "banking_subscribed_prop['Success Percentage (%)'] = round(banking_subscribed_prop['Success Percentage (%)'], 2)\n",
        "\n",
        "banking_subscribed_prop\n"
      ],
      "metadata": {
        "colab": {
          "base_uri": "https://localhost:8080/",
          "height": 175
        },
        "id": "-MFBY-JrDIAt",
        "outputId": "9978a797-c81e-4820-d445-28820cf5f6df"
      },
      "execution_count": null,
      "outputs": [
        {
          "output_type": "execute_result",
          "data": {
            "text/plain": [
              "  Contact duration(mins)  Success Percentage (%)\n",
              "0                20 - 30                   63.04\n",
              "1                    30+                   59.41\n",
              "2                10 - 20                   46.20\n",
              "3                 0 - 10                    7.82"
            ],
            "text/html": [
              "\n",
              "  <div id=\"df-a5affe4a-c600-418f-853b-740197c2c57a\">\n",
              "    <div class=\"colab-df-container\">\n",
              "      <div>\n",
              "<style scoped>\n",
              "    .dataframe tbody tr th:only-of-type {\n",
              "        vertical-align: middle;\n",
              "    }\n",
              "\n",
              "    .dataframe tbody tr th {\n",
              "        vertical-align: top;\n",
              "    }\n",
              "\n",
              "    .dataframe thead th {\n",
              "        text-align: right;\n",
              "    }\n",
              "</style>\n",
              "<table border=\"1\" class=\"dataframe\">\n",
              "  <thead>\n",
              "    <tr style=\"text-align: right;\">\n",
              "      <th></th>\n",
              "      <th>Contact duration(mins)</th>\n",
              "      <th>Success Percentage (%)</th>\n",
              "    </tr>\n",
              "  </thead>\n",
              "  <tbody>\n",
              "    <tr>\n",
              "      <th>0</th>\n",
              "      <td>20 - 30</td>\n",
              "      <td>63.04</td>\n",
              "    </tr>\n",
              "    <tr>\n",
              "      <th>1</th>\n",
              "      <td>30+</td>\n",
              "      <td>59.41</td>\n",
              "    </tr>\n",
              "    <tr>\n",
              "      <th>2</th>\n",
              "      <td>10 - 20</td>\n",
              "      <td>46.20</td>\n",
              "    </tr>\n",
              "    <tr>\n",
              "      <th>3</th>\n",
              "      <td>0 - 10</td>\n",
              "      <td>7.82</td>\n",
              "    </tr>\n",
              "  </tbody>\n",
              "</table>\n",
              "</div>\n",
              "      <button class=\"colab-df-convert\" onclick=\"convertToInteractive('df-a5affe4a-c600-418f-853b-740197c2c57a')\"\n",
              "              title=\"Convert this dataframe to an interactive table.\"\n",
              "              style=\"display:none;\">\n",
              "        \n",
              "  <svg xmlns=\"http://www.w3.org/2000/svg\" height=\"24px\"viewBox=\"0 0 24 24\"\n",
              "       width=\"24px\">\n",
              "    <path d=\"M0 0h24v24H0V0z\" fill=\"none\"/>\n",
              "    <path d=\"M18.56 5.44l.94 2.06.94-2.06 2.06-.94-2.06-.94-.94-2.06-.94 2.06-2.06.94zm-11 1L8.5 8.5l.94-2.06 2.06-.94-2.06-.94L8.5 2.5l-.94 2.06-2.06.94zm10 10l.94 2.06.94-2.06 2.06-.94-2.06-.94-.94-2.06-.94 2.06-2.06.94z\"/><path d=\"M17.41 7.96l-1.37-1.37c-.4-.4-.92-.59-1.43-.59-.52 0-1.04.2-1.43.59L10.3 9.45l-7.72 7.72c-.78.78-.78 2.05 0 2.83L4 21.41c.39.39.9.59 1.41.59.51 0 1.02-.2 1.41-.59l7.78-7.78 2.81-2.81c.8-.78.8-2.07 0-2.86zM5.41 20L4 18.59l7.72-7.72 1.47 1.35L5.41 20z\"/>\n",
              "  </svg>\n",
              "      </button>\n",
              "      \n",
              "  <style>\n",
              "    .colab-df-container {\n",
              "      display:flex;\n",
              "      flex-wrap:wrap;\n",
              "      gap: 12px;\n",
              "    }\n",
              "\n",
              "    .colab-df-convert {\n",
              "      background-color: #E8F0FE;\n",
              "      border: none;\n",
              "      border-radius: 50%;\n",
              "      cursor: pointer;\n",
              "      display: none;\n",
              "      fill: #1967D2;\n",
              "      height: 32px;\n",
              "      padding: 0 0 0 0;\n",
              "      width: 32px;\n",
              "    }\n",
              "\n",
              "    .colab-df-convert:hover {\n",
              "      background-color: #E2EBFA;\n",
              "      box-shadow: 0px 1px 2px rgba(60, 64, 67, 0.3), 0px 1px 3px 1px rgba(60, 64, 67, 0.15);\n",
              "      fill: #174EA6;\n",
              "    }\n",
              "\n",
              "    [theme=dark] .colab-df-convert {\n",
              "      background-color: #3B4455;\n",
              "      fill: #D2E3FC;\n",
              "    }\n",
              "\n",
              "    [theme=dark] .colab-df-convert:hover {\n",
              "      background-color: #434B5C;\n",
              "      box-shadow: 0px 1px 3px 1px rgba(0, 0, 0, 0.15);\n",
              "      filter: drop-shadow(0px 1px 2px rgba(0, 0, 0, 0.3));\n",
              "      fill: #FFFFFF;\n",
              "    }\n",
              "  </style>\n",
              "\n",
              "      <script>\n",
              "        const buttonEl =\n",
              "          document.querySelector('#df-a5affe4a-c600-418f-853b-740197c2c57a button.colab-df-convert');\n",
              "        buttonEl.style.display =\n",
              "          google.colab.kernel.accessAllowed ? 'block' : 'none';\n",
              "\n",
              "        async function convertToInteractive(key) {\n",
              "          const element = document.querySelector('#df-a5affe4a-c600-418f-853b-740197c2c57a');\n",
              "          const dataTable =\n",
              "            await google.colab.kernel.invokeFunction('convertToInteractive',\n",
              "                                                     [key], {});\n",
              "          if (!dataTable) return;\n",
              "\n",
              "          const docLinkHtml = 'Like what you see? Visit the ' +\n",
              "            '<a target=\"_blank\" href=https://colab.research.google.com/notebooks/data_table.ipynb>data table notebook</a>'\n",
              "            + ' to learn more about interactive tables.';\n",
              "          element.innerHTML = '';\n",
              "          dataTable['output_type'] = 'display_data';\n",
              "          await google.colab.output.renderOutput(dataTable, element);\n",
              "          const docLink = document.createElement('div');\n",
              "          docLink.innerHTML = docLinkHtml;\n",
              "          element.appendChild(docLink);\n",
              "        }\n",
              "      </script>\n",
              "    </div>\n",
              "  </div>\n",
              "  "
            ]
          },
          "metadata": {},
          "execution_count": 151
        }
      ]
    },
    {
      "cell_type": "markdown",
      "source": [
        "###**[Question 5.1] What is the optimal call duration for contacting a customer based on contact type which leads to the highest subscription rate?**"
      ],
      "metadata": {
        "id": "1tyqz_eZlPUa"
      }
    },
    {
      "cell_type": "code",
      "source": [
        "banking_yes = banking[banking['Subscribed (Yes/No)']=='yes']\n",
        "banking_contact_duration = banking_yes.groupby(['contact','duration']).agg({'Subscribed (Yes/No)': 'count'})\n",
        "optimal_call_duration = banking_contact_duration.groupby(level=0).apply(lambda x:100 * x / float(x.sum()))\n",
        "optimal_call_duration"
      ],
      "metadata": {
        "colab": {
          "base_uri": "https://localhost:8080/",
          "height": 332
        },
        "id": "EPIE5luVj70Q",
        "outputId": "36923ad2-8884-437c-a6c5-34bb37af2e11"
      },
      "execution_count": null,
      "outputs": [
        {
          "output_type": "execute_result",
          "data": {
            "text/plain": [
              "                    Subscribed (Yes/No)\n",
              "contact   duration                     \n",
              "cellular  0 - 10              67.505840\n",
              "          10 - 20             26.784324\n",
              "          20 - 30              4.827407\n",
              "          30+                  0.882429\n",
              "telephone 0 - 10              44.345616\n",
              "          10 - 20             42.820839\n",
              "          20 - 30              9.529860\n",
              "          30+                  3.303685"
            ],
            "text/html": [
              "\n",
              "  <div id=\"df-efe738ea-86ff-4034-90e3-c5a5d503fb9f\">\n",
              "    <div class=\"colab-df-container\">\n",
              "      <div>\n",
              "<style scoped>\n",
              "    .dataframe tbody tr th:only-of-type {\n",
              "        vertical-align: middle;\n",
              "    }\n",
              "\n",
              "    .dataframe tbody tr th {\n",
              "        vertical-align: top;\n",
              "    }\n",
              "\n",
              "    .dataframe thead th {\n",
              "        text-align: right;\n",
              "    }\n",
              "</style>\n",
              "<table border=\"1\" class=\"dataframe\">\n",
              "  <thead>\n",
              "    <tr style=\"text-align: right;\">\n",
              "      <th></th>\n",
              "      <th></th>\n",
              "      <th>Subscribed (Yes/No)</th>\n",
              "    </tr>\n",
              "    <tr>\n",
              "      <th>contact</th>\n",
              "      <th>duration</th>\n",
              "      <th></th>\n",
              "    </tr>\n",
              "  </thead>\n",
              "  <tbody>\n",
              "    <tr>\n",
              "      <th rowspan=\"4\" valign=\"top\">cellular</th>\n",
              "      <th>0 - 10</th>\n",
              "      <td>67.505840</td>\n",
              "    </tr>\n",
              "    <tr>\n",
              "      <th>10 - 20</th>\n",
              "      <td>26.784324</td>\n",
              "    </tr>\n",
              "    <tr>\n",
              "      <th>20 - 30</th>\n",
              "      <td>4.827407</td>\n",
              "    </tr>\n",
              "    <tr>\n",
              "      <th>30+</th>\n",
              "      <td>0.882429</td>\n",
              "    </tr>\n",
              "    <tr>\n",
              "      <th rowspan=\"4\" valign=\"top\">telephone</th>\n",
              "      <th>0 - 10</th>\n",
              "      <td>44.345616</td>\n",
              "    </tr>\n",
              "    <tr>\n",
              "      <th>10 - 20</th>\n",
              "      <td>42.820839</td>\n",
              "    </tr>\n",
              "    <tr>\n",
              "      <th>20 - 30</th>\n",
              "      <td>9.529860</td>\n",
              "    </tr>\n",
              "    <tr>\n",
              "      <th>30+</th>\n",
              "      <td>3.303685</td>\n",
              "    </tr>\n",
              "  </tbody>\n",
              "</table>\n",
              "</div>\n",
              "      <button class=\"colab-df-convert\" onclick=\"convertToInteractive('df-efe738ea-86ff-4034-90e3-c5a5d503fb9f')\"\n",
              "              title=\"Convert this dataframe to an interactive table.\"\n",
              "              style=\"display:none;\">\n",
              "        \n",
              "  <svg xmlns=\"http://www.w3.org/2000/svg\" height=\"24px\"viewBox=\"0 0 24 24\"\n",
              "       width=\"24px\">\n",
              "    <path d=\"M0 0h24v24H0V0z\" fill=\"none\"/>\n",
              "    <path d=\"M18.56 5.44l.94 2.06.94-2.06 2.06-.94-2.06-.94-.94-2.06-.94 2.06-2.06.94zm-11 1L8.5 8.5l.94-2.06 2.06-.94-2.06-.94L8.5 2.5l-.94 2.06-2.06.94zm10 10l.94 2.06.94-2.06 2.06-.94-2.06-.94-.94-2.06-.94 2.06-2.06.94z\"/><path d=\"M17.41 7.96l-1.37-1.37c-.4-.4-.92-.59-1.43-.59-.52 0-1.04.2-1.43.59L10.3 9.45l-7.72 7.72c-.78.78-.78 2.05 0 2.83L4 21.41c.39.39.9.59 1.41.59.51 0 1.02-.2 1.41-.59l7.78-7.78 2.81-2.81c.8-.78.8-2.07 0-2.86zM5.41 20L4 18.59l7.72-7.72 1.47 1.35L5.41 20z\"/>\n",
              "  </svg>\n",
              "      </button>\n",
              "      \n",
              "  <style>\n",
              "    .colab-df-container {\n",
              "      display:flex;\n",
              "      flex-wrap:wrap;\n",
              "      gap: 12px;\n",
              "    }\n",
              "\n",
              "    .colab-df-convert {\n",
              "      background-color: #E8F0FE;\n",
              "      border: none;\n",
              "      border-radius: 50%;\n",
              "      cursor: pointer;\n",
              "      display: none;\n",
              "      fill: #1967D2;\n",
              "      height: 32px;\n",
              "      padding: 0 0 0 0;\n",
              "      width: 32px;\n",
              "    }\n",
              "\n",
              "    .colab-df-convert:hover {\n",
              "      background-color: #E2EBFA;\n",
              "      box-shadow: 0px 1px 2px rgba(60, 64, 67, 0.3), 0px 1px 3px 1px rgba(60, 64, 67, 0.15);\n",
              "      fill: #174EA6;\n",
              "    }\n",
              "\n",
              "    [theme=dark] .colab-df-convert {\n",
              "      background-color: #3B4455;\n",
              "      fill: #D2E3FC;\n",
              "    }\n",
              "\n",
              "    [theme=dark] .colab-df-convert:hover {\n",
              "      background-color: #434B5C;\n",
              "      box-shadow: 0px 1px 3px 1px rgba(0, 0, 0, 0.15);\n",
              "      filter: drop-shadow(0px 1px 2px rgba(0, 0, 0, 0.3));\n",
              "      fill: #FFFFFF;\n",
              "    }\n",
              "  </style>\n",
              "\n",
              "      <script>\n",
              "        const buttonEl =\n",
              "          document.querySelector('#df-efe738ea-86ff-4034-90e3-c5a5d503fb9f button.colab-df-convert');\n",
              "        buttonEl.style.display =\n",
              "          google.colab.kernel.accessAllowed ? 'block' : 'none';\n",
              "\n",
              "        async function convertToInteractive(key) {\n",
              "          const element = document.querySelector('#df-efe738ea-86ff-4034-90e3-c5a5d503fb9f');\n",
              "          const dataTable =\n",
              "            await google.colab.kernel.invokeFunction('convertToInteractive',\n",
              "                                                     [key], {});\n",
              "          if (!dataTable) return;\n",
              "\n",
              "          const docLinkHtml = 'Like what you see? Visit the ' +\n",
              "            '<a target=\"_blank\" href=https://colab.research.google.com/notebooks/data_table.ipynb>data table notebook</a>'\n",
              "            + ' to learn more about interactive tables.';\n",
              "          element.innerHTML = '';\n",
              "          dataTable['output_type'] = 'display_data';\n",
              "          await google.colab.output.renderOutput(dataTable, element);\n",
              "          const docLink = document.createElement('div');\n",
              "          docLink.innerHTML = docLinkHtml;\n",
              "          element.appendChild(docLink);\n",
              "        }\n",
              "      </script>\n",
              "    </div>\n",
              "  </div>\n",
              "  "
            ]
          },
          "metadata": {},
          "execution_count": 152
        }
      ]
    },
    {
      "cell_type": "code",
      "source": [
        "pd.crosstab(banking_yes.contact,banking_yes['duration']).plot(kind='bar', figsize = (10,10))\n",
        "plt.title('Subscription outcome by duration of contact type')\n",
        "plt.xlabel('Contact type')\n",
        "plt.ylabel('Total subscribers')\n",
        "plt.xticks(rotation = 0);"
      ],
      "metadata": {
        "colab": {
          "base_uri": "https://localhost:8080/",
          "height": 617
        },
        "id": "UC--MgVdnYK7",
        "outputId": "a1722841-6f02-4629-8f8c-6429208013df"
      },
      "execution_count": null,
      "outputs": [
        {
          "output_type": "display_data",
          "data": {
            "text/plain": [
              "<Figure size 720x720 with 1 Axes>"
            ],
            "image/png": "[encoded data removed]"
          },
          "metadata": {
            "needs_background": "light"
          }
        }
      ]
    },
    {
      "cell_type": "markdown",
      "source": [
        "**93%** of all subscribed customers who were contacted through cell were called for a duration between 0-20 minutes. **87%** of all subscribed customers who were contacted through telephone were called for a duration between 0-20 minutes.\n",
        "\n",
        "This tells us that for both modes of contact, the duration range of **0-20** minutes would be optimal."
      ],
      "metadata": {
        "id": "F22alsN9l29m"
      }
    },
    {
      "cell_type": "markdown",
      "source": [
        "#6. Conclusion"
      ],
      "metadata": {
        "id": "HcowoZXgU71v"
      }
    },
    {
      "cell_type": "markdown",
      "source": [
        "Marketing Analytics is growing stronger everyday. With its augmenting prevalence in industries, companies are adopting new techniques to enhance their overall performance. Calculated decisions are being backed by data to optimize marketing outcomes. \n",
        "\n",
        "Through this project, we took a deep dive into analyzing a large Portuguese bank’s data to understand their decision making process while making various marketing strategies available to the public. We analyzed the data across numerous parameters and came up with the following conclusions:\n",
        "\n",
        "**Call Duration:** This factor was the most important feature in client conversion. We saw that call duration of 20-30 minutes was the most optimal, indicating too long or too short calls are trivial and ineffective.\n",
        "Job Status: Students & retired individuals have the highest subscription rate to the bank’s facility. This indicates that banks may have attractive offers dedicated for students and retired professionals, rather than working individuals. This is completely in line with real-time data as banks have special deals for students such as student loans and retirement plans for older individuals. Through our analysis, we recommend the bank to create lucrative offers and deals across other population segments that may enhance their client conversion.\n",
        "\n",
        "**Education Status:** The campaign success percentage tends to increase as the educational level goes up.\n",
        "\n",
        "**Loan Status:** Across all education levels, customers who don’t have personal loans are more likely to subscribe to term deposits. Therefore, our recommendation is to target those without personal loans.\n",
        "\n",
        "**Contact Type:** When comparing cellular vs. traditional telephone, those contacted via cellular showed a much higher subscription rate. Therefore, cellular should be prioritized to save costs and optimize campaign success. \n",
        "\n",
        "**Outcome of Previous Campaigns:** Results show having a failed campaign produces better results than having no campaign. This may be due to increased brand awareness and affinity. For future campaigns, these results indicate that it is valuable to target customers who previously said no during past marketing campaigns.\n",
        "\n",
        "**Number of Times Contacted:** Surprisingly, contacting a particular customer only between 0-5 times had the highest subscription rate. Our hypothesis was that the more someone was contacted, the more brand affinity they would have with the banking institution, and therefore subscribe more. However, this doesn’t seem to be the case. Anyone contacted more frequently than bi-weekly (more than 25 times in 10 months), did not subscribe at all. As such, we suggest banking institutions to cap their marketing contact frequency to clients to bi-weekly max.\n",
        "\n",
        "In conclusion, marketing campaigns are highly dependent on past data and experience. We analyzed the banking industry closely and understood how marketing decisions were made and implemented to ensure customer satisfaction.\n",
        "\n",
        "\n"
      ],
      "metadata": {
        "id": "zcivCXjyVABA"
      }
    },
    {
      "cell_type": "markdown",
      "source": [
        "#7. Future Scope\n",
        "\n",
        "Since Marketing Analytics is highly relevant in today’s world, the future scope of this project is very high. We can dive deeper into the banking industry to clearly understand and eventually predict the success rate of certain marketing campaigns depending on past successes/ failures across different attributes of that bank’s projects. \n",
        "\n",
        "Our data was composed of records from a large Portuguese banking institution. It would be valuable to see if our conclusions and insights are consistent among different banking institutions in Portugal, and different countries. Important next steps are seeing how our results can be generalized to the banking industry as a whole. Also, monitoring if the best marketing campaign strategies have changed since the beginning and end on the COVID-19 pandemic would prove valuable. \n",
        "\n",
        "We can analyze the public's response and acceptance to a new launch. This detailed analysis can be added to various machine learning models and train the model to predict client response. We aim to keep working on this project and expand its current scope into a more diverse and a concrete prediction model."
      ],
      "metadata": {
        "id": "qX90bCg8UV_N"
      }
    }
  ]
}